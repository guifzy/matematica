{
  "nbformat": 4,
  "nbformat_minor": 0,
  "metadata": {
    "colab": {
      "provenance": [],
      "toc_visible": true,
      "authorship_tag": "ABX9TyNGXZZsF9qIWnkdHmiWyzzC",
      "include_colab_link": true
    },
    "kernelspec": {
      "name": "python3",
      "display_name": "Python 3"
    },
    "language_info": {
      "name": "python"
    }
  },
  "cells": [
    {
      "cell_type": "markdown",
      "metadata": {
        "id": "view-in-github",
        "colab_type": "text"
      },
      "source": [
        "<a href=\"https://colab.research.google.com/github/guifzy/matematica/blob/main/Modelo_Titanic.ipynb\" target=\"_parent\"><img src=\"https://colab.research.google.com/assets/colab-badge.svg\" alt=\"Open In Colab\"/></a>"
      ]
    },
    {
      "cell_type": "markdown",
      "source": [
        "# Intro"
      ],
      "metadata": {
        "id": "X_iDhZKgNFdh"
      }
    },
    {
      "cell_type": "code",
      "source": [
        "import seaborn as sns\n",
        "import pandas as pd\n",
        "import numpy as np\n",
        "\n",
        "# Carregar o DataFrame Titanic\n",
        "df = pd.read_csv('/content/titanic.csv')\n",
        "\n",
        "# Exibir as primeiras linhas do DataFrame\n",
        "df.head()"
      ],
      "metadata": {
        "colab": {
          "base_uri": "https://localhost:8080/",
          "height": 258
        },
        "id": "KSed04-LU6WM",
        "outputId": "96739c49-2c3c-40ea-b4bf-4252a3cf07c9"
      },
      "execution_count": null,
      "outputs": [
        {
          "output_type": "execute_result",
          "data": {
            "text/plain": [
              "   PassengerId  Survived  Pclass  \\\n",
              "0            1         0       3   \n",
              "1            2         1       1   \n",
              "2            3         1       3   \n",
              "3            4         1       1   \n",
              "4            5         0       3   \n",
              "\n",
              "                                                Name     Sex   Age  SibSp  \\\n",
              "0                            Braund, Mr. Owen Harris    male  22.0      1   \n",
              "1  Cumings, Mrs. John Bradley (Florence Briggs Th...  female  38.0      1   \n",
              "2                             Heikkinen, Miss. Laina  female  26.0      0   \n",
              "3       Futrelle, Mrs. Jacques Heath (Lily May Peel)  female  35.0      1   \n",
              "4                           Allen, Mr. William Henry    male  35.0      0   \n",
              "\n",
              "   Parch            Ticket     Fare Cabin Embarked  \n",
              "0      0         A/5 21171   7.2500   NaN        S  \n",
              "1      0          PC 17599  71.2833   C85        C  \n",
              "2      0  STON/O2. 3101282   7.9250   NaN        S  \n",
              "3      0            113803  53.1000  C123        S  \n",
              "4      0            373450   8.0500   NaN        S  "
            ],
            "text/html": [
              "\n",
              "  <div id=\"df-9ea28fd5-5ed5-4aab-aba0-ce14c40414ef\" class=\"colab-df-container\">\n",
              "    <div>\n",
              "<style scoped>\n",
              "    .dataframe tbody tr th:only-of-type {\n",
              "        vertical-align: middle;\n",
              "    }\n",
              "\n",
              "    .dataframe tbody tr th {\n",
              "        vertical-align: top;\n",
              "    }\n",
              "\n",
              "    .dataframe thead th {\n",
              "        text-align: right;\n",
              "    }\n",
              "</style>\n",
              "<table border=\"1\" class=\"dataframe\">\n",
              "  <thead>\n",
              "    <tr style=\"text-align: right;\">\n",
              "      <th></th>\n",
              "      <th>PassengerId</th>\n",
              "      <th>Survived</th>\n",
              "      <th>Pclass</th>\n",
              "      <th>Name</th>\n",
              "      <th>Sex</th>\n",
              "      <th>Age</th>\n",
              "      <th>SibSp</th>\n",
              "      <th>Parch</th>\n",
              "      <th>Ticket</th>\n",
              "      <th>Fare</th>\n",
              "      <th>Cabin</th>\n",
              "      <th>Embarked</th>\n",
              "    </tr>\n",
              "  </thead>\n",
              "  <tbody>\n",
              "    <tr>\n",
              "      <th>0</th>\n",
              "      <td>1</td>\n",
              "      <td>0</td>\n",
              "      <td>3</td>\n",
              "      <td>Braund, Mr. Owen Harris</td>\n",
              "      <td>male</td>\n",
              "      <td>22.0</td>\n",
              "      <td>1</td>\n",
              "      <td>0</td>\n",
              "      <td>A/5 21171</td>\n",
              "      <td>7.2500</td>\n",
              "      <td>NaN</td>\n",
              "      <td>S</td>\n",
              "    </tr>\n",
              "    <tr>\n",
              "      <th>1</th>\n",
              "      <td>2</td>\n",
              "      <td>1</td>\n",
              "      <td>1</td>\n",
              "      <td>Cumings, Mrs. John Bradley (Florence Briggs Th...</td>\n",
              "      <td>female</td>\n",
              "      <td>38.0</td>\n",
              "      <td>1</td>\n",
              "      <td>0</td>\n",
              "      <td>PC 17599</td>\n",
              "      <td>71.2833</td>\n",
              "      <td>C85</td>\n",
              "      <td>C</td>\n",
              "    </tr>\n",
              "    <tr>\n",
              "      <th>2</th>\n",
              "      <td>3</td>\n",
              "      <td>1</td>\n",
              "      <td>3</td>\n",
              "      <td>Heikkinen, Miss. Laina</td>\n",
              "      <td>female</td>\n",
              "      <td>26.0</td>\n",
              "      <td>0</td>\n",
              "      <td>0</td>\n",
              "      <td>STON/O2. 3101282</td>\n",
              "      <td>7.9250</td>\n",
              "      <td>NaN</td>\n",
              "      <td>S</td>\n",
              "    </tr>\n",
              "    <tr>\n",
              "      <th>3</th>\n",
              "      <td>4</td>\n",
              "      <td>1</td>\n",
              "      <td>1</td>\n",
              "      <td>Futrelle, Mrs. Jacques Heath (Lily May Peel)</td>\n",
              "      <td>female</td>\n",
              "      <td>35.0</td>\n",
              "      <td>1</td>\n",
              "      <td>0</td>\n",
              "      <td>113803</td>\n",
              "      <td>53.1000</td>\n",
              "      <td>C123</td>\n",
              "      <td>S</td>\n",
              "    </tr>\n",
              "    <tr>\n",
              "      <th>4</th>\n",
              "      <td>5</td>\n",
              "      <td>0</td>\n",
              "      <td>3</td>\n",
              "      <td>Allen, Mr. William Henry</td>\n",
              "      <td>male</td>\n",
              "      <td>35.0</td>\n",
              "      <td>0</td>\n",
              "      <td>0</td>\n",
              "      <td>373450</td>\n",
              "      <td>8.0500</td>\n",
              "      <td>NaN</td>\n",
              "      <td>S</td>\n",
              "    </tr>\n",
              "  </tbody>\n",
              "</table>\n",
              "</div>\n",
              "    <div class=\"colab-df-buttons\">\n",
              "\n",
              "  <div class=\"colab-df-container\">\n",
              "    <button class=\"colab-df-convert\" onclick=\"convertToInteractive('df-9ea28fd5-5ed5-4aab-aba0-ce14c40414ef')\"\n",
              "            title=\"Convert this dataframe to an interactive table.\"\n",
              "            style=\"display:none;\">\n",
              "\n",
              "  <svg xmlns=\"http://www.w3.org/2000/svg\" height=\"24px\" viewBox=\"0 -960 960 960\">\n",
              "    <path d=\"M120-120v-720h720v720H120Zm60-500h600v-160H180v160Zm220 220h160v-160H400v160Zm0 220h160v-160H400v160ZM180-400h160v-160H180v160Zm440 0h160v-160H620v160ZM180-180h160v-160H180v160Zm440 0h160v-160H620v160Z\"/>\n",
              "  </svg>\n",
              "    </button>\n",
              "\n",
              "  <style>\n",
              "    .colab-df-container {\n",
              "      display:flex;\n",
              "      gap: 12px;\n",
              "    }\n",
              "\n",
              "    .colab-df-convert {\n",
              "      background-color: #E8F0FE;\n",
              "      border: none;\n",
              "      border-radius: 50%;\n",
              "      cursor: pointer;\n",
              "      display: none;\n",
              "      fill: #1967D2;\n",
              "      height: 32px;\n",
              "      padding: 0 0 0 0;\n",
              "      width: 32px;\n",
              "    }\n",
              "\n",
              "    .colab-df-convert:hover {\n",
              "      background-color: #E2EBFA;\n",
              "      box-shadow: 0px 1px 2px rgba(60, 64, 67, 0.3), 0px 1px 3px 1px rgba(60, 64, 67, 0.15);\n",
              "      fill: #174EA6;\n",
              "    }\n",
              "\n",
              "    .colab-df-buttons div {\n",
              "      margin-bottom: 4px;\n",
              "    }\n",
              "\n",
              "    [theme=dark] .colab-df-convert {\n",
              "      background-color: #3B4455;\n",
              "      fill: #D2E3FC;\n",
              "    }\n",
              "\n",
              "    [theme=dark] .colab-df-convert:hover {\n",
              "      background-color: #434B5C;\n",
              "      box-shadow: 0px 1px 3px 1px rgba(0, 0, 0, 0.15);\n",
              "      filter: drop-shadow(0px 1px 2px rgba(0, 0, 0, 0.3));\n",
              "      fill: #FFFFFF;\n",
              "    }\n",
              "  </style>\n",
              "\n",
              "    <script>\n",
              "      const buttonEl =\n",
              "        document.querySelector('#df-9ea28fd5-5ed5-4aab-aba0-ce14c40414ef button.colab-df-convert');\n",
              "      buttonEl.style.display =\n",
              "        google.colab.kernel.accessAllowed ? 'block' : 'none';\n",
              "\n",
              "      async function convertToInteractive(key) {\n",
              "        const element = document.querySelector('#df-9ea28fd5-5ed5-4aab-aba0-ce14c40414ef');\n",
              "        const dataTable =\n",
              "          await google.colab.kernel.invokeFunction('convertToInteractive',\n",
              "                                                    [key], {});\n",
              "        if (!dataTable) return;\n",
              "\n",
              "        const docLinkHtml = 'Like what you see? Visit the ' +\n",
              "          '<a target=\"_blank\" href=https://colab.research.google.com/notebooks/data_table.ipynb>data table notebook</a>'\n",
              "          + ' to learn more about interactive tables.';\n",
              "        element.innerHTML = '';\n",
              "        dataTable['output_type'] = 'display_data';\n",
              "        await google.colab.output.renderOutput(dataTable, element);\n",
              "        const docLink = document.createElement('div');\n",
              "        docLink.innerHTML = docLinkHtml;\n",
              "        element.appendChild(docLink);\n",
              "      }\n",
              "    </script>\n",
              "  </div>\n",
              "\n",
              "\n",
              "<div id=\"df-a3dae9be-7a74-4487-89d3-7079d5aa1a4c\">\n",
              "  <button class=\"colab-df-quickchart\" onclick=\"quickchart('df-a3dae9be-7a74-4487-89d3-7079d5aa1a4c')\"\n",
              "            title=\"Suggest charts\"\n",
              "            style=\"display:none;\">\n",
              "\n",
              "<svg xmlns=\"http://www.w3.org/2000/svg\" height=\"24px\"viewBox=\"0 0 24 24\"\n",
              "     width=\"24px\">\n",
              "    <g>\n",
              "        <path d=\"M19 3H5c-1.1 0-2 .9-2 2v14c0 1.1.9 2 2 2h14c1.1 0 2-.9 2-2V5c0-1.1-.9-2-2-2zM9 17H7v-7h2v7zm4 0h-2V7h2v10zm4 0h-2v-4h2v4z\"/>\n",
              "    </g>\n",
              "</svg>\n",
              "  </button>\n",
              "\n",
              "<style>\n",
              "  .colab-df-quickchart {\n",
              "      --bg-color: #E8F0FE;\n",
              "      --fill-color: #1967D2;\n",
              "      --hover-bg-color: #E2EBFA;\n",
              "      --hover-fill-color: #174EA6;\n",
              "      --disabled-fill-color: #AAA;\n",
              "      --disabled-bg-color: #DDD;\n",
              "  }\n",
              "\n",
              "  [theme=dark] .colab-df-quickchart {\n",
              "      --bg-color: #3B4455;\n",
              "      --fill-color: #D2E3FC;\n",
              "      --hover-bg-color: #434B5C;\n",
              "      --hover-fill-color: #FFFFFF;\n",
              "      --disabled-bg-color: #3B4455;\n",
              "      --disabled-fill-color: #666;\n",
              "  }\n",
              "\n",
              "  .colab-df-quickchart {\n",
              "    background-color: var(--bg-color);\n",
              "    border: none;\n",
              "    border-radius: 50%;\n",
              "    cursor: pointer;\n",
              "    display: none;\n",
              "    fill: var(--fill-color);\n",
              "    height: 32px;\n",
              "    padding: 0;\n",
              "    width: 32px;\n",
              "  }\n",
              "\n",
              "  .colab-df-quickchart:hover {\n",
              "    background-color: var(--hover-bg-color);\n",
              "    box-shadow: 0 1px 2px rgba(60, 64, 67, 0.3), 0 1px 3px 1px rgba(60, 64, 67, 0.15);\n",
              "    fill: var(--button-hover-fill-color);\n",
              "  }\n",
              "\n",
              "  .colab-df-quickchart-complete:disabled,\n",
              "  .colab-df-quickchart-complete:disabled:hover {\n",
              "    background-color: var(--disabled-bg-color);\n",
              "    fill: var(--disabled-fill-color);\n",
              "    box-shadow: none;\n",
              "  }\n",
              "\n",
              "  .colab-df-spinner {\n",
              "    border: 2px solid var(--fill-color);\n",
              "    border-color: transparent;\n",
              "    border-bottom-color: var(--fill-color);\n",
              "    animation:\n",
              "      spin 1s steps(1) infinite;\n",
              "  }\n",
              "\n",
              "  @keyframes spin {\n",
              "    0% {\n",
              "      border-color: transparent;\n",
              "      border-bottom-color: var(--fill-color);\n",
              "      border-left-color: var(--fill-color);\n",
              "    }\n",
              "    20% {\n",
              "      border-color: transparent;\n",
              "      border-left-color: var(--fill-color);\n",
              "      border-top-color: var(--fill-color);\n",
              "    }\n",
              "    30% {\n",
              "      border-color: transparent;\n",
              "      border-left-color: var(--fill-color);\n",
              "      border-top-color: var(--fill-color);\n",
              "      border-right-color: var(--fill-color);\n",
              "    }\n",
              "    40% {\n",
              "      border-color: transparent;\n",
              "      border-right-color: var(--fill-color);\n",
              "      border-top-color: var(--fill-color);\n",
              "    }\n",
              "    60% {\n",
              "      border-color: transparent;\n",
              "      border-right-color: var(--fill-color);\n",
              "    }\n",
              "    80% {\n",
              "      border-color: transparent;\n",
              "      border-right-color: var(--fill-color);\n",
              "      border-bottom-color: var(--fill-color);\n",
              "    }\n",
              "    90% {\n",
              "      border-color: transparent;\n",
              "      border-bottom-color: var(--fill-color);\n",
              "    }\n",
              "  }\n",
              "</style>\n",
              "\n",
              "  <script>\n",
              "    async function quickchart(key) {\n",
              "      const quickchartButtonEl =\n",
              "        document.querySelector('#' + key + ' button');\n",
              "      quickchartButtonEl.disabled = true;  // To prevent multiple clicks.\n",
              "      quickchartButtonEl.classList.add('colab-df-spinner');\n",
              "      try {\n",
              "        const charts = await google.colab.kernel.invokeFunction(\n",
              "            'suggestCharts', [key], {});\n",
              "      } catch (error) {\n",
              "        console.error('Error during call to suggestCharts:', error);\n",
              "      }\n",
              "      quickchartButtonEl.classList.remove('colab-df-spinner');\n",
              "      quickchartButtonEl.classList.add('colab-df-quickchart-complete');\n",
              "    }\n",
              "    (() => {\n",
              "      let quickchartButtonEl =\n",
              "        document.querySelector('#df-a3dae9be-7a74-4487-89d3-7079d5aa1a4c button');\n",
              "      quickchartButtonEl.style.display =\n",
              "        google.colab.kernel.accessAllowed ? 'block' : 'none';\n",
              "    })();\n",
              "  </script>\n",
              "</div>\n",
              "\n",
              "    </div>\n",
              "  </div>\n"
            ],
            "application/vnd.google.colaboratory.intrinsic+json": {
              "type": "dataframe",
              "variable_name": "df",
              "summary": "{\n  \"name\": \"df\",\n  \"rows\": 891,\n  \"fields\": [\n    {\n      \"column\": \"PassengerId\",\n      \"properties\": {\n        \"dtype\": \"number\",\n        \"std\": 257,\n        \"min\": 1,\n        \"max\": 891,\n        \"num_unique_values\": 891,\n        \"samples\": [\n          710,\n          440,\n          841\n        ],\n        \"semantic_type\": \"\",\n        \"description\": \"\"\n      }\n    },\n    {\n      \"column\": \"Survived\",\n      \"properties\": {\n        \"dtype\": \"number\",\n        \"std\": 0,\n        \"min\": 0,\n        \"max\": 1,\n        \"num_unique_values\": 2,\n        \"samples\": [\n          1,\n          0\n        ],\n        \"semantic_type\": \"\",\n        \"description\": \"\"\n      }\n    },\n    {\n      \"column\": \"Pclass\",\n      \"properties\": {\n        \"dtype\": \"number\",\n        \"std\": 0,\n        \"min\": 1,\n        \"max\": 3,\n        \"num_unique_values\": 3,\n        \"samples\": [\n          3,\n          1\n        ],\n        \"semantic_type\": \"\",\n        \"description\": \"\"\n      }\n    },\n    {\n      \"column\": \"Name\",\n      \"properties\": {\n        \"dtype\": \"string\",\n        \"num_unique_values\": 891,\n        \"samples\": [\n          \"Moubarek, Master. Halim Gonios (\\\"William George\\\")\",\n          \"Kvillner, Mr. Johan Henrik Johannesson\"\n        ],\n        \"semantic_type\": \"\",\n        \"description\": \"\"\n      }\n    },\n    {\n      \"column\": \"Sex\",\n      \"properties\": {\n        \"dtype\": \"category\",\n        \"num_unique_values\": 2,\n        \"samples\": [\n          \"female\",\n          \"male\"\n        ],\n        \"semantic_type\": \"\",\n        \"description\": \"\"\n      }\n    },\n    {\n      \"column\": \"Age\",\n      \"properties\": {\n        \"dtype\": \"number\",\n        \"std\": 14.526497332334044,\n        \"min\": 0.42,\n        \"max\": 80.0,\n        \"num_unique_values\": 88,\n        \"samples\": [\n          0.75,\n          22.0\n        ],\n        \"semantic_type\": \"\",\n        \"description\": \"\"\n      }\n    },\n    {\n      \"column\": \"SibSp\",\n      \"properties\": {\n        \"dtype\": \"number\",\n        \"std\": 1,\n        \"min\": 0,\n        \"max\": 8,\n        \"num_unique_values\": 7,\n        \"samples\": [\n          1,\n          0\n        ],\n        \"semantic_type\": \"\",\n        \"description\": \"\"\n      }\n    },\n    {\n      \"column\": \"Parch\",\n      \"properties\": {\n        \"dtype\": \"number\",\n        \"std\": 0,\n        \"min\": 0,\n        \"max\": 6,\n        \"num_unique_values\": 7,\n        \"samples\": [\n          0,\n          1\n        ],\n        \"semantic_type\": \"\",\n        \"description\": \"\"\n      }\n    },\n    {\n      \"column\": \"Ticket\",\n      \"properties\": {\n        \"dtype\": \"string\",\n        \"num_unique_values\": 681,\n        \"samples\": [\n          \"11774\",\n          \"248740\"\n        ],\n        \"semantic_type\": \"\",\n        \"description\": \"\"\n      }\n    },\n    {\n      \"column\": \"Fare\",\n      \"properties\": {\n        \"dtype\": \"number\",\n        \"std\": 49.693428597180905,\n        \"min\": 0.0,\n        \"max\": 512.3292,\n        \"num_unique_values\": 248,\n        \"samples\": [\n          11.2417,\n          51.8625\n        ],\n        \"semantic_type\": \"\",\n        \"description\": \"\"\n      }\n    },\n    {\n      \"column\": \"Cabin\",\n      \"properties\": {\n        \"dtype\": \"category\",\n        \"num_unique_values\": 147,\n        \"samples\": [\n          \"D45\",\n          \"B49\"\n        ],\n        \"semantic_type\": \"\",\n        \"description\": \"\"\n      }\n    },\n    {\n      \"column\": \"Embarked\",\n      \"properties\": {\n        \"dtype\": \"category\",\n        \"num_unique_values\": 3,\n        \"samples\": [\n          \"S\",\n          \"C\"\n        ],\n        \"semantic_type\": \"\",\n        \"description\": \"\"\n      }\n    }\n  ]\n}"
            }
          },
          "metadata": {},
          "execution_count": 110
        }
      ]
    },
    {
      "cell_type": "markdown",
      "source": [
        "Colunas do DataFrame Titanic:\n",
        "- Survived: Indica se o passageiro sobreviveu (1) ou não (0).\n",
        "- Pclass: Classe do bilhete (1ª, 2ª ou 3ª).\n",
        "- Sex: Gênero do passageiro.\n",
        "- Age: Idade do passageiro.\n",
        "- SibSp: Número de irmãos/cônjuges a bordo.\n",
        "- Parch: Número de pais/filhos a bordo.\n",
        "- Fare: Tarifa paga pelo bilhete.\n",
        "- Embarked: Porto de embarque (C = Cherbourg, Q = Queenstown, S = Southampton).\n",
        "- Cabin: Número da cabine.\n",
        "- Embark_town: Nome da cidade de embarque.\n",
        "- Alive: Se a pessoa sobreviveu ou não (similar a Survived).\n",
        "- Alone: Se a pessoa estava sozinha ou não.\n"
      ],
      "metadata": {
        "id": "yVcI2Ej5RjpC"
      }
    },
    {
      "cell_type": "markdown",
      "source": [
        "# Etapas"
      ],
      "metadata": {
        "id": "l_MwAieTcR3C"
      }
    },
    {
      "cell_type": "markdown",
      "source": [
        "Pré-processamento:\n",
        "- 1 - Visualização\n",
        "- 2 - Imputação(Valores Faltando)\n",
        "- 3 - Categorização de Textos\n",
        "- 4 - Normalização/Padronização"
      ],
      "metadata": {
        "id": "uK5XbRS1UJNo"
      }
    },
    {
      "cell_type": "markdown",
      "source": [
        "## Visualização"
      ],
      "metadata": {
        "id": "a-Dj9itDU059"
      }
    },
    {
      "cell_type": "code",
      "execution_count": null,
      "metadata": {
        "colab": {
          "base_uri": "https://localhost:8080/"
        },
        "id": "nk24MdDDRaCm",
        "outputId": "aefc48ac-7584-480e-add3-bbf09dad3b44"
      },
      "outputs": [
        {
          "output_type": "stream",
          "name": "stdout",
          "text": [
            "<class 'pandas.core.frame.DataFrame'>\n",
            "RangeIndex: 891 entries, 0 to 890\n",
            "Data columns (total 12 columns):\n",
            " #   Column       Non-Null Count  Dtype  \n",
            "---  ------       --------------  -----  \n",
            " 0   PassengerId  891 non-null    int64  \n",
            " 1   Survived     891 non-null    int64  \n",
            " 2   Pclass       891 non-null    int64  \n",
            " 3   Name         891 non-null    object \n",
            " 4   Sex          891 non-null    object \n",
            " 5   Age          714 non-null    float64\n",
            " 6   SibSp        891 non-null    int64  \n",
            " 7   Parch        891 non-null    int64  \n",
            " 8   Ticket       891 non-null    object \n",
            " 9   Fare         891 non-null    float64\n",
            " 10  Cabin        204 non-null    object \n",
            " 11  Embarked     889 non-null    object \n",
            "dtypes: float64(2), int64(5), object(5)\n",
            "memory usage: 83.7+ KB\n"
          ]
        }
      ],
      "source": [
        "# Informações gerais sobre o DataFrame\n",
        "df.info()"
      ]
    },
    {
      "cell_type": "code",
      "source": [
        "# Resumo estatístico das colunas numéricas\n",
        "df.describe()"
      ],
      "metadata": {
        "colab": {
          "base_uri": "https://localhost:8080/",
          "height": 300
        },
        "id": "Tfevih8JVzSc",
        "outputId": "2c5350ca-59e1-4705-a525-87ab44f50d71"
      },
      "execution_count": null,
      "outputs": [
        {
          "output_type": "execute_result",
          "data": {
            "text/plain": [
              "       PassengerId    Survived      Pclass         Age       SibSp  \\\n",
              "count   891.000000  891.000000  891.000000  714.000000  891.000000   \n",
              "mean    446.000000    0.383838    2.308642   29.699118    0.523008   \n",
              "std     257.353842    0.486592    0.836071   14.526497    1.102743   \n",
              "min       1.000000    0.000000    1.000000    0.420000    0.000000   \n",
              "25%     223.500000    0.000000    2.000000   20.125000    0.000000   \n",
              "50%     446.000000    0.000000    3.000000   28.000000    0.000000   \n",
              "75%     668.500000    1.000000    3.000000   38.000000    1.000000   \n",
              "max     891.000000    1.000000    3.000000   80.000000    8.000000   \n",
              "\n",
              "            Parch        Fare  \n",
              "count  891.000000  891.000000  \n",
              "mean     0.381594   32.204208  \n",
              "std      0.806057   49.693429  \n",
              "min      0.000000    0.000000  \n",
              "25%      0.000000    7.910400  \n",
              "50%      0.000000   14.454200  \n",
              "75%      0.000000   31.000000  \n",
              "max      6.000000  512.329200  "
            ],
            "text/html": [
              "\n",
              "  <div id=\"df-4807283f-bf0c-452b-b001-d1516bcb38c4\" class=\"colab-df-container\">\n",
              "    <div>\n",
              "<style scoped>\n",
              "    .dataframe tbody tr th:only-of-type {\n",
              "        vertical-align: middle;\n",
              "    }\n",
              "\n",
              "    .dataframe tbody tr th {\n",
              "        vertical-align: top;\n",
              "    }\n",
              "\n",
              "    .dataframe thead th {\n",
              "        text-align: right;\n",
              "    }\n",
              "</style>\n",
              "<table border=\"1\" class=\"dataframe\">\n",
              "  <thead>\n",
              "    <tr style=\"text-align: right;\">\n",
              "      <th></th>\n",
              "      <th>PassengerId</th>\n",
              "      <th>Survived</th>\n",
              "      <th>Pclass</th>\n",
              "      <th>Age</th>\n",
              "      <th>SibSp</th>\n",
              "      <th>Parch</th>\n",
              "      <th>Fare</th>\n",
              "    </tr>\n",
              "  </thead>\n",
              "  <tbody>\n",
              "    <tr>\n",
              "      <th>count</th>\n",
              "      <td>891.000000</td>\n",
              "      <td>891.000000</td>\n",
              "      <td>891.000000</td>\n",
              "      <td>714.000000</td>\n",
              "      <td>891.000000</td>\n",
              "      <td>891.000000</td>\n",
              "      <td>891.000000</td>\n",
              "    </tr>\n",
              "    <tr>\n",
              "      <th>mean</th>\n",
              "      <td>446.000000</td>\n",
              "      <td>0.383838</td>\n",
              "      <td>2.308642</td>\n",
              "      <td>29.699118</td>\n",
              "      <td>0.523008</td>\n",
              "      <td>0.381594</td>\n",
              "      <td>32.204208</td>\n",
              "    </tr>\n",
              "    <tr>\n",
              "      <th>std</th>\n",
              "      <td>257.353842</td>\n",
              "      <td>0.486592</td>\n",
              "      <td>0.836071</td>\n",
              "      <td>14.526497</td>\n",
              "      <td>1.102743</td>\n",
              "      <td>0.806057</td>\n",
              "      <td>49.693429</td>\n",
              "    </tr>\n",
              "    <tr>\n",
              "      <th>min</th>\n",
              "      <td>1.000000</td>\n",
              "      <td>0.000000</td>\n",
              "      <td>1.000000</td>\n",
              "      <td>0.420000</td>\n",
              "      <td>0.000000</td>\n",
              "      <td>0.000000</td>\n",
              "      <td>0.000000</td>\n",
              "    </tr>\n",
              "    <tr>\n",
              "      <th>25%</th>\n",
              "      <td>223.500000</td>\n",
              "      <td>0.000000</td>\n",
              "      <td>2.000000</td>\n",
              "      <td>20.125000</td>\n",
              "      <td>0.000000</td>\n",
              "      <td>0.000000</td>\n",
              "      <td>7.910400</td>\n",
              "    </tr>\n",
              "    <tr>\n",
              "      <th>50%</th>\n",
              "      <td>446.000000</td>\n",
              "      <td>0.000000</td>\n",
              "      <td>3.000000</td>\n",
              "      <td>28.000000</td>\n",
              "      <td>0.000000</td>\n",
              "      <td>0.000000</td>\n",
              "      <td>14.454200</td>\n",
              "    </tr>\n",
              "    <tr>\n",
              "      <th>75%</th>\n",
              "      <td>668.500000</td>\n",
              "      <td>1.000000</td>\n",
              "      <td>3.000000</td>\n",
              "      <td>38.000000</td>\n",
              "      <td>1.000000</td>\n",
              "      <td>0.000000</td>\n",
              "      <td>31.000000</td>\n",
              "    </tr>\n",
              "    <tr>\n",
              "      <th>max</th>\n",
              "      <td>891.000000</td>\n",
              "      <td>1.000000</td>\n",
              "      <td>3.000000</td>\n",
              "      <td>80.000000</td>\n",
              "      <td>8.000000</td>\n",
              "      <td>6.000000</td>\n",
              "      <td>512.329200</td>\n",
              "    </tr>\n",
              "  </tbody>\n",
              "</table>\n",
              "</div>\n",
              "    <div class=\"colab-df-buttons\">\n",
              "\n",
              "  <div class=\"colab-df-container\">\n",
              "    <button class=\"colab-df-convert\" onclick=\"convertToInteractive('df-4807283f-bf0c-452b-b001-d1516bcb38c4')\"\n",
              "            title=\"Convert this dataframe to an interactive table.\"\n",
              "            style=\"display:none;\">\n",
              "\n",
              "  <svg xmlns=\"http://www.w3.org/2000/svg\" height=\"24px\" viewBox=\"0 -960 960 960\">\n",
              "    <path d=\"M120-120v-720h720v720H120Zm60-500h600v-160H180v160Zm220 220h160v-160H400v160Zm0 220h160v-160H400v160ZM180-400h160v-160H180v160Zm440 0h160v-160H620v160ZM180-180h160v-160H180v160Zm440 0h160v-160H620v160Z\"/>\n",
              "  </svg>\n",
              "    </button>\n",
              "\n",
              "  <style>\n",
              "    .colab-df-container {\n",
              "      display:flex;\n",
              "      gap: 12px;\n",
              "    }\n",
              "\n",
              "    .colab-df-convert {\n",
              "      background-color: #E8F0FE;\n",
              "      border: none;\n",
              "      border-radius: 50%;\n",
              "      cursor: pointer;\n",
              "      display: none;\n",
              "      fill: #1967D2;\n",
              "      height: 32px;\n",
              "      padding: 0 0 0 0;\n",
              "      width: 32px;\n",
              "    }\n",
              "\n",
              "    .colab-df-convert:hover {\n",
              "      background-color: #E2EBFA;\n",
              "      box-shadow: 0px 1px 2px rgba(60, 64, 67, 0.3), 0px 1px 3px 1px rgba(60, 64, 67, 0.15);\n",
              "      fill: #174EA6;\n",
              "    }\n",
              "\n",
              "    .colab-df-buttons div {\n",
              "      margin-bottom: 4px;\n",
              "    }\n",
              "\n",
              "    [theme=dark] .colab-df-convert {\n",
              "      background-color: #3B4455;\n",
              "      fill: #D2E3FC;\n",
              "    }\n",
              "\n",
              "    [theme=dark] .colab-df-convert:hover {\n",
              "      background-color: #434B5C;\n",
              "      box-shadow: 0px 1px 3px 1px rgba(0, 0, 0, 0.15);\n",
              "      filter: drop-shadow(0px 1px 2px rgba(0, 0, 0, 0.3));\n",
              "      fill: #FFFFFF;\n",
              "    }\n",
              "  </style>\n",
              "\n",
              "    <script>\n",
              "      const buttonEl =\n",
              "        document.querySelector('#df-4807283f-bf0c-452b-b001-d1516bcb38c4 button.colab-df-convert');\n",
              "      buttonEl.style.display =\n",
              "        google.colab.kernel.accessAllowed ? 'block' : 'none';\n",
              "\n",
              "      async function convertToInteractive(key) {\n",
              "        const element = document.querySelector('#df-4807283f-bf0c-452b-b001-d1516bcb38c4');\n",
              "        const dataTable =\n",
              "          await google.colab.kernel.invokeFunction('convertToInteractive',\n",
              "                                                    [key], {});\n",
              "        if (!dataTable) return;\n",
              "\n",
              "        const docLinkHtml = 'Like what you see? Visit the ' +\n",
              "          '<a target=\"_blank\" href=https://colab.research.google.com/notebooks/data_table.ipynb>data table notebook</a>'\n",
              "          + ' to learn more about interactive tables.';\n",
              "        element.innerHTML = '';\n",
              "        dataTable['output_type'] = 'display_data';\n",
              "        await google.colab.output.renderOutput(dataTable, element);\n",
              "        const docLink = document.createElement('div');\n",
              "        docLink.innerHTML = docLinkHtml;\n",
              "        element.appendChild(docLink);\n",
              "      }\n",
              "    </script>\n",
              "  </div>\n",
              "\n",
              "\n",
              "<div id=\"df-bb20d040-6835-4e30-a3f2-8d9751333667\">\n",
              "  <button class=\"colab-df-quickchart\" onclick=\"quickchart('df-bb20d040-6835-4e30-a3f2-8d9751333667')\"\n",
              "            title=\"Suggest charts\"\n",
              "            style=\"display:none;\">\n",
              "\n",
              "<svg xmlns=\"http://www.w3.org/2000/svg\" height=\"24px\"viewBox=\"0 0 24 24\"\n",
              "     width=\"24px\">\n",
              "    <g>\n",
              "        <path d=\"M19 3H5c-1.1 0-2 .9-2 2v14c0 1.1.9 2 2 2h14c1.1 0 2-.9 2-2V5c0-1.1-.9-2-2-2zM9 17H7v-7h2v7zm4 0h-2V7h2v10zm4 0h-2v-4h2v4z\"/>\n",
              "    </g>\n",
              "</svg>\n",
              "  </button>\n",
              "\n",
              "<style>\n",
              "  .colab-df-quickchart {\n",
              "      --bg-color: #E8F0FE;\n",
              "      --fill-color: #1967D2;\n",
              "      --hover-bg-color: #E2EBFA;\n",
              "      --hover-fill-color: #174EA6;\n",
              "      --disabled-fill-color: #AAA;\n",
              "      --disabled-bg-color: #DDD;\n",
              "  }\n",
              "\n",
              "  [theme=dark] .colab-df-quickchart {\n",
              "      --bg-color: #3B4455;\n",
              "      --fill-color: #D2E3FC;\n",
              "      --hover-bg-color: #434B5C;\n",
              "      --hover-fill-color: #FFFFFF;\n",
              "      --disabled-bg-color: #3B4455;\n",
              "      --disabled-fill-color: #666;\n",
              "  }\n",
              "\n",
              "  .colab-df-quickchart {\n",
              "    background-color: var(--bg-color);\n",
              "    border: none;\n",
              "    border-radius: 50%;\n",
              "    cursor: pointer;\n",
              "    display: none;\n",
              "    fill: var(--fill-color);\n",
              "    height: 32px;\n",
              "    padding: 0;\n",
              "    width: 32px;\n",
              "  }\n",
              "\n",
              "  .colab-df-quickchart:hover {\n",
              "    background-color: var(--hover-bg-color);\n",
              "    box-shadow: 0 1px 2px rgba(60, 64, 67, 0.3), 0 1px 3px 1px rgba(60, 64, 67, 0.15);\n",
              "    fill: var(--button-hover-fill-color);\n",
              "  }\n",
              "\n",
              "  .colab-df-quickchart-complete:disabled,\n",
              "  .colab-df-quickchart-complete:disabled:hover {\n",
              "    background-color: var(--disabled-bg-color);\n",
              "    fill: var(--disabled-fill-color);\n",
              "    box-shadow: none;\n",
              "  }\n",
              "\n",
              "  .colab-df-spinner {\n",
              "    border: 2px solid var(--fill-color);\n",
              "    border-color: transparent;\n",
              "    border-bottom-color: var(--fill-color);\n",
              "    animation:\n",
              "      spin 1s steps(1) infinite;\n",
              "  }\n",
              "\n",
              "  @keyframes spin {\n",
              "    0% {\n",
              "      border-color: transparent;\n",
              "      border-bottom-color: var(--fill-color);\n",
              "      border-left-color: var(--fill-color);\n",
              "    }\n",
              "    20% {\n",
              "      border-color: transparent;\n",
              "      border-left-color: var(--fill-color);\n",
              "      border-top-color: var(--fill-color);\n",
              "    }\n",
              "    30% {\n",
              "      border-color: transparent;\n",
              "      border-left-color: var(--fill-color);\n",
              "      border-top-color: var(--fill-color);\n",
              "      border-right-color: var(--fill-color);\n",
              "    }\n",
              "    40% {\n",
              "      border-color: transparent;\n",
              "      border-right-color: var(--fill-color);\n",
              "      border-top-color: var(--fill-color);\n",
              "    }\n",
              "    60% {\n",
              "      border-color: transparent;\n",
              "      border-right-color: var(--fill-color);\n",
              "    }\n",
              "    80% {\n",
              "      border-color: transparent;\n",
              "      border-right-color: var(--fill-color);\n",
              "      border-bottom-color: var(--fill-color);\n",
              "    }\n",
              "    90% {\n",
              "      border-color: transparent;\n",
              "      border-bottom-color: var(--fill-color);\n",
              "    }\n",
              "  }\n",
              "</style>\n",
              "\n",
              "  <script>\n",
              "    async function quickchart(key) {\n",
              "      const quickchartButtonEl =\n",
              "        document.querySelector('#' + key + ' button');\n",
              "      quickchartButtonEl.disabled = true;  // To prevent multiple clicks.\n",
              "      quickchartButtonEl.classList.add('colab-df-spinner');\n",
              "      try {\n",
              "        const charts = await google.colab.kernel.invokeFunction(\n",
              "            'suggestCharts', [key], {});\n",
              "      } catch (error) {\n",
              "        console.error('Error during call to suggestCharts:', error);\n",
              "      }\n",
              "      quickchartButtonEl.classList.remove('colab-df-spinner');\n",
              "      quickchartButtonEl.classList.add('colab-df-quickchart-complete');\n",
              "    }\n",
              "    (() => {\n",
              "      let quickchartButtonEl =\n",
              "        document.querySelector('#df-bb20d040-6835-4e30-a3f2-8d9751333667 button');\n",
              "      quickchartButtonEl.style.display =\n",
              "        google.colab.kernel.accessAllowed ? 'block' : 'none';\n",
              "    })();\n",
              "  </script>\n",
              "</div>\n",
              "\n",
              "    </div>\n",
              "  </div>\n"
            ],
            "application/vnd.google.colaboratory.intrinsic+json": {
              "type": "dataframe",
              "summary": "{\n  \"name\": \"df\",\n  \"rows\": 8,\n  \"fields\": [\n    {\n      \"column\": \"PassengerId\",\n      \"properties\": {\n        \"dtype\": \"number\",\n        \"std\": 320.8159711429856,\n        \"min\": 1.0,\n        \"max\": 891.0,\n        \"num_unique_values\": 6,\n        \"samples\": [\n          891.0,\n          446.0,\n          668.5\n        ],\n        \"semantic_type\": \"\",\n        \"description\": \"\"\n      }\n    },\n    {\n      \"column\": \"Survived\",\n      \"properties\": {\n        \"dtype\": \"number\",\n        \"std\": 314.8713661874558,\n        \"min\": 0.0,\n        \"max\": 891.0,\n        \"num_unique_values\": 5,\n        \"samples\": [\n          0.3838383838383838,\n          1.0,\n          0.4865924542648585\n        ],\n        \"semantic_type\": \"\",\n        \"description\": \"\"\n      }\n    },\n    {\n      \"column\": \"Pclass\",\n      \"properties\": {\n        \"dtype\": \"number\",\n        \"std\": 314.2523437079693,\n        \"min\": 0.8360712409770513,\n        \"max\": 891.0,\n        \"num_unique_values\": 6,\n        \"samples\": [\n          891.0,\n          2.308641975308642,\n          3.0\n        ],\n        \"semantic_type\": \"\",\n        \"description\": \"\"\n      }\n    },\n    {\n      \"column\": \"Age\",\n      \"properties\": {\n        \"dtype\": \"number\",\n        \"std\": 242.9056731818781,\n        \"min\": 0.42,\n        \"max\": 714.0,\n        \"num_unique_values\": 8,\n        \"samples\": [\n          29.69911764705882,\n          28.0,\n          714.0\n        ],\n        \"semantic_type\": \"\",\n        \"description\": \"\"\n      }\n    },\n    {\n      \"column\": \"SibSp\",\n      \"properties\": {\n        \"dtype\": \"number\",\n        \"std\": 314.4908277465442,\n        \"min\": 0.0,\n        \"max\": 891.0,\n        \"num_unique_values\": 6,\n        \"samples\": [\n          891.0,\n          0.5230078563411896,\n          8.0\n        ],\n        \"semantic_type\": \"\",\n        \"description\": \"\"\n      }\n    },\n    {\n      \"column\": \"Parch\",\n      \"properties\": {\n        \"dtype\": \"number\",\n        \"std\": 314.65971717879,\n        \"min\": 0.0,\n        \"max\": 891.0,\n        \"num_unique_values\": 5,\n        \"samples\": [\n          0.38159371492704824,\n          6.0,\n          0.8060572211299559\n        ],\n        \"semantic_type\": \"\",\n        \"description\": \"\"\n      }\n    },\n    {\n      \"column\": \"Fare\",\n      \"properties\": {\n        \"dtype\": \"number\",\n        \"std\": 330.6256632228577,\n        \"min\": 0.0,\n        \"max\": 891.0,\n        \"num_unique_values\": 8,\n        \"samples\": [\n          32.204207968574636,\n          14.4542,\n          891.0\n        ],\n        \"semantic_type\": \"\",\n        \"description\": \"\"\n      }\n    }\n  ]\n}"
            }
          },
          "metadata": {},
          "execution_count": 105
        }
      ]
    },
    {
      "cell_type": "markdown",
      "source": [
        "- Variância relativamente diferente entre as colunas numéricas"
      ],
      "metadata": {
        "id": "SKcjyES9SJn0"
      }
    },
    {
      "cell_type": "code",
      "source": [
        "# Verificar valores ausentes\n",
        "df.isnull().sum()"
      ],
      "metadata": {
        "colab": {
          "base_uri": "https://localhost:8080/",
          "height": 460
        },
        "id": "wdluYeSLVz9-",
        "outputId": "3c123ceb-bcd5-44cf-a6a8-78d58466e815"
      },
      "execution_count": null,
      "outputs": [
        {
          "output_type": "execute_result",
          "data": {
            "text/plain": [
              "PassengerId      0\n",
              "Survived         0\n",
              "Pclass           0\n",
              "Name             0\n",
              "Sex              0\n",
              "Age            177\n",
              "SibSp            0\n",
              "Parch            0\n",
              "Ticket           0\n",
              "Fare             0\n",
              "Cabin          687\n",
              "Embarked         2\n",
              "dtype: int64"
            ],
            "text/html": [
              "<div>\n",
              "<style scoped>\n",
              "    .dataframe tbody tr th:only-of-type {\n",
              "        vertical-align: middle;\n",
              "    }\n",
              "\n",
              "    .dataframe tbody tr th {\n",
              "        vertical-align: top;\n",
              "    }\n",
              "\n",
              "    .dataframe thead th {\n",
              "        text-align: right;\n",
              "    }\n",
              "</style>\n",
              "<table border=\"1\" class=\"dataframe\">\n",
              "  <thead>\n",
              "    <tr style=\"text-align: right;\">\n",
              "      <th></th>\n",
              "      <th>0</th>\n",
              "    </tr>\n",
              "  </thead>\n",
              "  <tbody>\n",
              "    <tr>\n",
              "      <th>PassengerId</th>\n",
              "      <td>0</td>\n",
              "    </tr>\n",
              "    <tr>\n",
              "      <th>Survived</th>\n",
              "      <td>0</td>\n",
              "    </tr>\n",
              "    <tr>\n",
              "      <th>Pclass</th>\n",
              "      <td>0</td>\n",
              "    </tr>\n",
              "    <tr>\n",
              "      <th>Name</th>\n",
              "      <td>0</td>\n",
              "    </tr>\n",
              "    <tr>\n",
              "      <th>Sex</th>\n",
              "      <td>0</td>\n",
              "    </tr>\n",
              "    <tr>\n",
              "      <th>Age</th>\n",
              "      <td>177</td>\n",
              "    </tr>\n",
              "    <tr>\n",
              "      <th>SibSp</th>\n",
              "      <td>0</td>\n",
              "    </tr>\n",
              "    <tr>\n",
              "      <th>Parch</th>\n",
              "      <td>0</td>\n",
              "    </tr>\n",
              "    <tr>\n",
              "      <th>Ticket</th>\n",
              "      <td>0</td>\n",
              "    </tr>\n",
              "    <tr>\n",
              "      <th>Fare</th>\n",
              "      <td>0</td>\n",
              "    </tr>\n",
              "    <tr>\n",
              "      <th>Cabin</th>\n",
              "      <td>687</td>\n",
              "    </tr>\n",
              "    <tr>\n",
              "      <th>Embarked</th>\n",
              "      <td>2</td>\n",
              "    </tr>\n",
              "  </tbody>\n",
              "</table>\n",
              "</div><br><label><b>dtype:</b> int64</label>"
            ]
          },
          "metadata": {},
          "execution_count": 106
        }
      ]
    },
    {
      "cell_type": "code",
      "source": [
        "# identificação da coluna Deck\n",
        "df['Cabin'].value_counts()"
      ],
      "metadata": {
        "colab": {
          "base_uri": "https://localhost:8080/",
          "height": 489
        },
        "id": "_wUfvGSiYwF8",
        "outputId": "25a61516-9698-4d9b-d795-d71953c0fc37"
      },
      "execution_count": null,
      "outputs": [
        {
          "output_type": "execute_result",
          "data": {
            "text/plain": [
              "Cabin\n",
              "B96 B98        4\n",
              "G6             4\n",
              "C23 C25 C27    4\n",
              "C22 C26        3\n",
              "F33            3\n",
              "              ..\n",
              "E34            1\n",
              "C7             1\n",
              "C54            1\n",
              "E36            1\n",
              "C148           1\n",
              "Name: count, Length: 147, dtype: int64"
            ],
            "text/html": [
              "<div>\n",
              "<style scoped>\n",
              "    .dataframe tbody tr th:only-of-type {\n",
              "        vertical-align: middle;\n",
              "    }\n",
              "\n",
              "    .dataframe tbody tr th {\n",
              "        vertical-align: top;\n",
              "    }\n",
              "\n",
              "    .dataframe thead th {\n",
              "        text-align: right;\n",
              "    }\n",
              "</style>\n",
              "<table border=\"1\" class=\"dataframe\">\n",
              "  <thead>\n",
              "    <tr style=\"text-align: right;\">\n",
              "      <th></th>\n",
              "      <th>count</th>\n",
              "    </tr>\n",
              "    <tr>\n",
              "      <th>Cabin</th>\n",
              "      <th></th>\n",
              "    </tr>\n",
              "  </thead>\n",
              "  <tbody>\n",
              "    <tr>\n",
              "      <th>B96 B98</th>\n",
              "      <td>4</td>\n",
              "    </tr>\n",
              "    <tr>\n",
              "      <th>G6</th>\n",
              "      <td>4</td>\n",
              "    </tr>\n",
              "    <tr>\n",
              "      <th>C23 C25 C27</th>\n",
              "      <td>4</td>\n",
              "    </tr>\n",
              "    <tr>\n",
              "      <th>C22 C26</th>\n",
              "      <td>3</td>\n",
              "    </tr>\n",
              "    <tr>\n",
              "      <th>F33</th>\n",
              "      <td>3</td>\n",
              "    </tr>\n",
              "    <tr>\n",
              "      <th>...</th>\n",
              "      <td>...</td>\n",
              "    </tr>\n",
              "    <tr>\n",
              "      <th>E34</th>\n",
              "      <td>1</td>\n",
              "    </tr>\n",
              "    <tr>\n",
              "      <th>C7</th>\n",
              "      <td>1</td>\n",
              "    </tr>\n",
              "    <tr>\n",
              "      <th>C54</th>\n",
              "      <td>1</td>\n",
              "    </tr>\n",
              "    <tr>\n",
              "      <th>E36</th>\n",
              "      <td>1</td>\n",
              "    </tr>\n",
              "    <tr>\n",
              "      <th>C148</th>\n",
              "      <td>1</td>\n",
              "    </tr>\n",
              "  </tbody>\n",
              "</table>\n",
              "<p>147 rows × 1 columns</p>\n",
              "</div><br><label><b>dtype:</b> int64</label>"
            ]
          },
          "metadata": {},
          "execution_count": 108
        }
      ]
    },
    {
      "cell_type": "markdown",
      "source": [
        "## Imputação"
      ],
      "metadata": {
        "id": "3j-Mk1asVEDC"
      }
    },
    {
      "cell_type": "markdown",
      "source": [
        "Decisões:\n",
        "- Média\n",
        "  - Desvio Padrão\n",
        "- Moda\n",
        "- Mediana\n"
      ],
      "metadata": {
        "id": "BREQoFBiVc8u"
      }
    },
    {
      "cell_type": "markdown",
      "source": [
        "- Remoção Total: Remoção de todos os valores faltantes, importante para colunas inuteis."
      ],
      "metadata": {
        "id": "nGGIz7FCVi2R"
      }
    },
    {
      "cell_type": "code",
      "source": [
        "# Imputação da idade com a mediana\n",
        "df['Age'].fillna(df['Age'].median(), inplace=True) # implace diz que você quer alterar\n",
        "                                                   # o dataframe atual\n",
        "\n",
        "# Removor colunas redundantes como 'Alive' e 'Class'\n",
        "df.drop(columns=['Name', 'Cabin', 'Ticket', 'Embarked'], inplace=True)"
      ],
      "metadata": {
        "id": "DJyrss4wVF-8",
        "colab": {
          "base_uri": "https://localhost:8080/"
        },
        "outputId": "2be52e6e-bd72-4079-a9cf-32b99a4a5518"
      },
      "execution_count": null,
      "outputs": [
        {
          "output_type": "stream",
          "name": "stderr",
          "text": [
            "<ipython-input-111-d29ff7df7884>:2: FutureWarning: A value is trying to be set on a copy of a DataFrame or Series through chained assignment using an inplace method.\n",
            "The behavior will change in pandas 3.0. This inplace method will never work because the intermediate object on which we are setting values always behaves as a copy.\n",
            "\n",
            "For example, when doing 'df[col].method(value, inplace=True)', try using 'df.method({col: value}, inplace=True)' or df[col] = df[col].method(value) instead, to perform the operation inplace on the original object.\n",
            "\n",
            "\n",
            "  df['Age'].fillna(df['Age'].median(), inplace=True) # implace diz que você quer alterar\n"
          ]
        }
      ]
    },
    {
      "cell_type": "markdown",
      "source": [
        "Verificação"
      ],
      "metadata": {
        "id": "EaDmk2cuXMW6"
      }
    },
    {
      "cell_type": "code",
      "source": [
        "df.isnull().sum()"
      ],
      "metadata": {
        "colab": {
          "base_uri": "https://localhost:8080/",
          "height": 335
        },
        "id": "_jJsRthCaAub",
        "outputId": "13f59918-94ee-4dd4-8670-088f9a0d27aa"
      },
      "execution_count": null,
      "outputs": [
        {
          "output_type": "execute_result",
          "data": {
            "text/plain": [
              "PassengerId    0\n",
              "Survived       0\n",
              "Pclass         0\n",
              "Sex            0\n",
              "Age            0\n",
              "SibSp          0\n",
              "Parch          0\n",
              "Fare           0\n",
              "dtype: int64"
            ],
            "text/html": [
              "<div>\n",
              "<style scoped>\n",
              "    .dataframe tbody tr th:only-of-type {\n",
              "        vertical-align: middle;\n",
              "    }\n",
              "\n",
              "    .dataframe tbody tr th {\n",
              "        vertical-align: top;\n",
              "    }\n",
              "\n",
              "    .dataframe thead th {\n",
              "        text-align: right;\n",
              "    }\n",
              "</style>\n",
              "<table border=\"1\" class=\"dataframe\">\n",
              "  <thead>\n",
              "    <tr style=\"text-align: right;\">\n",
              "      <th></th>\n",
              "      <th>0</th>\n",
              "    </tr>\n",
              "  </thead>\n",
              "  <tbody>\n",
              "    <tr>\n",
              "      <th>PassengerId</th>\n",
              "      <td>0</td>\n",
              "    </tr>\n",
              "    <tr>\n",
              "      <th>Survived</th>\n",
              "      <td>0</td>\n",
              "    </tr>\n",
              "    <tr>\n",
              "      <th>Pclass</th>\n",
              "      <td>0</td>\n",
              "    </tr>\n",
              "    <tr>\n",
              "      <th>Sex</th>\n",
              "      <td>0</td>\n",
              "    </tr>\n",
              "    <tr>\n",
              "      <th>Age</th>\n",
              "      <td>0</td>\n",
              "    </tr>\n",
              "    <tr>\n",
              "      <th>SibSp</th>\n",
              "      <td>0</td>\n",
              "    </tr>\n",
              "    <tr>\n",
              "      <th>Parch</th>\n",
              "      <td>0</td>\n",
              "    </tr>\n",
              "    <tr>\n",
              "      <th>Fare</th>\n",
              "      <td>0</td>\n",
              "    </tr>\n",
              "  </tbody>\n",
              "</table>\n",
              "</div><br><label><b>dtype:</b> int64</label>"
            ]
          },
          "metadata": {},
          "execution_count": 112
        }
      ]
    },
    {
      "cell_type": "code",
      "source": [
        "df.info()"
      ],
      "metadata": {
        "colab": {
          "base_uri": "https://localhost:8080/"
        },
        "id": "YlZTICI8bwG2",
        "outputId": "7f25618c-db37-430f-dfe8-6a2d3b765c3c"
      },
      "execution_count": null,
      "outputs": [
        {
          "output_type": "stream",
          "name": "stdout",
          "text": [
            "<class 'pandas.core.frame.DataFrame'>\n",
            "RangeIndex: 891 entries, 0 to 890\n",
            "Data columns (total 8 columns):\n",
            " #   Column       Non-Null Count  Dtype  \n",
            "---  ------       --------------  -----  \n",
            " 0   PassengerId  891 non-null    int64  \n",
            " 1   Survived     891 non-null    int64  \n",
            " 2   Pclass       891 non-null    int64  \n",
            " 3   Sex          891 non-null    object \n",
            " 4   Age          891 non-null    float64\n",
            " 5   SibSp        891 non-null    int64  \n",
            " 6   Parch        891 non-null    int64  \n",
            " 7   Fare         891 non-null    float64\n",
            "dtypes: float64(2), int64(5), object(1)\n",
            "memory usage: 55.8+ KB\n"
          ]
        }
      ]
    },
    {
      "cell_type": "code",
      "source": [
        "df.head()"
      ],
      "metadata": {
        "colab": {
          "base_uri": "https://localhost:8080/",
          "height": 206
        },
        "id": "uPOp819RaED3",
        "outputId": "5eb294c7-8809-4c5f-f3fa-347cf3f4ddae"
      },
      "execution_count": null,
      "outputs": [
        {
          "output_type": "execute_result",
          "data": {
            "text/plain": [
              "   PassengerId  Survived  Pclass     Sex   Age  SibSp  Parch     Fare\n",
              "0            1         0       3    male  22.0      1      0   7.2500\n",
              "1            2         1       1  female  38.0      1      0  71.2833\n",
              "2            3         1       3  female  26.0      0      0   7.9250\n",
              "3            4         1       1  female  35.0      1      0  53.1000\n",
              "4            5         0       3    male  35.0      0      0   8.0500"
            ],
            "text/html": [
              "\n",
              "  <div id=\"df-1525662a-b140-42d1-aa79-8eaedda1bc36\" class=\"colab-df-container\">\n",
              "    <div>\n",
              "<style scoped>\n",
              "    .dataframe tbody tr th:only-of-type {\n",
              "        vertical-align: middle;\n",
              "    }\n",
              "\n",
              "    .dataframe tbody tr th {\n",
              "        vertical-align: top;\n",
              "    }\n",
              "\n",
              "    .dataframe thead th {\n",
              "        text-align: right;\n",
              "    }\n",
              "</style>\n",
              "<table border=\"1\" class=\"dataframe\">\n",
              "  <thead>\n",
              "    <tr style=\"text-align: right;\">\n",
              "      <th></th>\n",
              "      <th>PassengerId</th>\n",
              "      <th>Survived</th>\n",
              "      <th>Pclass</th>\n",
              "      <th>Sex</th>\n",
              "      <th>Age</th>\n",
              "      <th>SibSp</th>\n",
              "      <th>Parch</th>\n",
              "      <th>Fare</th>\n",
              "    </tr>\n",
              "  </thead>\n",
              "  <tbody>\n",
              "    <tr>\n",
              "      <th>0</th>\n",
              "      <td>1</td>\n",
              "      <td>0</td>\n",
              "      <td>3</td>\n",
              "      <td>male</td>\n",
              "      <td>22.0</td>\n",
              "      <td>1</td>\n",
              "      <td>0</td>\n",
              "      <td>7.2500</td>\n",
              "    </tr>\n",
              "    <tr>\n",
              "      <th>1</th>\n",
              "      <td>2</td>\n",
              "      <td>1</td>\n",
              "      <td>1</td>\n",
              "      <td>female</td>\n",
              "      <td>38.0</td>\n",
              "      <td>1</td>\n",
              "      <td>0</td>\n",
              "      <td>71.2833</td>\n",
              "    </tr>\n",
              "    <tr>\n",
              "      <th>2</th>\n",
              "      <td>3</td>\n",
              "      <td>1</td>\n",
              "      <td>3</td>\n",
              "      <td>female</td>\n",
              "      <td>26.0</td>\n",
              "      <td>0</td>\n",
              "      <td>0</td>\n",
              "      <td>7.9250</td>\n",
              "    </tr>\n",
              "    <tr>\n",
              "      <th>3</th>\n",
              "      <td>4</td>\n",
              "      <td>1</td>\n",
              "      <td>1</td>\n",
              "      <td>female</td>\n",
              "      <td>35.0</td>\n",
              "      <td>1</td>\n",
              "      <td>0</td>\n",
              "      <td>53.1000</td>\n",
              "    </tr>\n",
              "    <tr>\n",
              "      <th>4</th>\n",
              "      <td>5</td>\n",
              "      <td>0</td>\n",
              "      <td>3</td>\n",
              "      <td>male</td>\n",
              "      <td>35.0</td>\n",
              "      <td>0</td>\n",
              "      <td>0</td>\n",
              "      <td>8.0500</td>\n",
              "    </tr>\n",
              "  </tbody>\n",
              "</table>\n",
              "</div>\n",
              "    <div class=\"colab-df-buttons\">\n",
              "\n",
              "  <div class=\"colab-df-container\">\n",
              "    <button class=\"colab-df-convert\" onclick=\"convertToInteractive('df-1525662a-b140-42d1-aa79-8eaedda1bc36')\"\n",
              "            title=\"Convert this dataframe to an interactive table.\"\n",
              "            style=\"display:none;\">\n",
              "\n",
              "  <svg xmlns=\"http://www.w3.org/2000/svg\" height=\"24px\" viewBox=\"0 -960 960 960\">\n",
              "    <path d=\"M120-120v-720h720v720H120Zm60-500h600v-160H180v160Zm220 220h160v-160H400v160Zm0 220h160v-160H400v160ZM180-400h160v-160H180v160Zm440 0h160v-160H620v160ZM180-180h160v-160H180v160Zm440 0h160v-160H620v160Z\"/>\n",
              "  </svg>\n",
              "    </button>\n",
              "\n",
              "  <style>\n",
              "    .colab-df-container {\n",
              "      display:flex;\n",
              "      gap: 12px;\n",
              "    }\n",
              "\n",
              "    .colab-df-convert {\n",
              "      background-color: #E8F0FE;\n",
              "      border: none;\n",
              "      border-radius: 50%;\n",
              "      cursor: pointer;\n",
              "      display: none;\n",
              "      fill: #1967D2;\n",
              "      height: 32px;\n",
              "      padding: 0 0 0 0;\n",
              "      width: 32px;\n",
              "    }\n",
              "\n",
              "    .colab-df-convert:hover {\n",
              "      background-color: #E2EBFA;\n",
              "      box-shadow: 0px 1px 2px rgba(60, 64, 67, 0.3), 0px 1px 3px 1px rgba(60, 64, 67, 0.15);\n",
              "      fill: #174EA6;\n",
              "    }\n",
              "\n",
              "    .colab-df-buttons div {\n",
              "      margin-bottom: 4px;\n",
              "    }\n",
              "\n",
              "    [theme=dark] .colab-df-convert {\n",
              "      background-color: #3B4455;\n",
              "      fill: #D2E3FC;\n",
              "    }\n",
              "\n",
              "    [theme=dark] .colab-df-convert:hover {\n",
              "      background-color: #434B5C;\n",
              "      box-shadow: 0px 1px 3px 1px rgba(0, 0, 0, 0.15);\n",
              "      filter: drop-shadow(0px 1px 2px rgba(0, 0, 0, 0.3));\n",
              "      fill: #FFFFFF;\n",
              "    }\n",
              "  </style>\n",
              "\n",
              "    <script>\n",
              "      const buttonEl =\n",
              "        document.querySelector('#df-1525662a-b140-42d1-aa79-8eaedda1bc36 button.colab-df-convert');\n",
              "      buttonEl.style.display =\n",
              "        google.colab.kernel.accessAllowed ? 'block' : 'none';\n",
              "\n",
              "      async function convertToInteractive(key) {\n",
              "        const element = document.querySelector('#df-1525662a-b140-42d1-aa79-8eaedda1bc36');\n",
              "        const dataTable =\n",
              "          await google.colab.kernel.invokeFunction('convertToInteractive',\n",
              "                                                    [key], {});\n",
              "        if (!dataTable) return;\n",
              "\n",
              "        const docLinkHtml = 'Like what you see? Visit the ' +\n",
              "          '<a target=\"_blank\" href=https://colab.research.google.com/notebooks/data_table.ipynb>data table notebook</a>'\n",
              "          + ' to learn more about interactive tables.';\n",
              "        element.innerHTML = '';\n",
              "        dataTable['output_type'] = 'display_data';\n",
              "        await google.colab.output.renderOutput(dataTable, element);\n",
              "        const docLink = document.createElement('div');\n",
              "        docLink.innerHTML = docLinkHtml;\n",
              "        element.appendChild(docLink);\n",
              "      }\n",
              "    </script>\n",
              "  </div>\n",
              "\n",
              "\n",
              "<div id=\"df-4ac34e6c-c20b-4e06-9a0e-32cfc5e0cf24\">\n",
              "  <button class=\"colab-df-quickchart\" onclick=\"quickchart('df-4ac34e6c-c20b-4e06-9a0e-32cfc5e0cf24')\"\n",
              "            title=\"Suggest charts\"\n",
              "            style=\"display:none;\">\n",
              "\n",
              "<svg xmlns=\"http://www.w3.org/2000/svg\" height=\"24px\"viewBox=\"0 0 24 24\"\n",
              "     width=\"24px\">\n",
              "    <g>\n",
              "        <path d=\"M19 3H5c-1.1 0-2 .9-2 2v14c0 1.1.9 2 2 2h14c1.1 0 2-.9 2-2V5c0-1.1-.9-2-2-2zM9 17H7v-7h2v7zm4 0h-2V7h2v10zm4 0h-2v-4h2v4z\"/>\n",
              "    </g>\n",
              "</svg>\n",
              "  </button>\n",
              "\n",
              "<style>\n",
              "  .colab-df-quickchart {\n",
              "      --bg-color: #E8F0FE;\n",
              "      --fill-color: #1967D2;\n",
              "      --hover-bg-color: #E2EBFA;\n",
              "      --hover-fill-color: #174EA6;\n",
              "      --disabled-fill-color: #AAA;\n",
              "      --disabled-bg-color: #DDD;\n",
              "  }\n",
              "\n",
              "  [theme=dark] .colab-df-quickchart {\n",
              "      --bg-color: #3B4455;\n",
              "      --fill-color: #D2E3FC;\n",
              "      --hover-bg-color: #434B5C;\n",
              "      --hover-fill-color: #FFFFFF;\n",
              "      --disabled-bg-color: #3B4455;\n",
              "      --disabled-fill-color: #666;\n",
              "  }\n",
              "\n",
              "  .colab-df-quickchart {\n",
              "    background-color: var(--bg-color);\n",
              "    border: none;\n",
              "    border-radius: 50%;\n",
              "    cursor: pointer;\n",
              "    display: none;\n",
              "    fill: var(--fill-color);\n",
              "    height: 32px;\n",
              "    padding: 0;\n",
              "    width: 32px;\n",
              "  }\n",
              "\n",
              "  .colab-df-quickchart:hover {\n",
              "    background-color: var(--hover-bg-color);\n",
              "    box-shadow: 0 1px 2px rgba(60, 64, 67, 0.3), 0 1px 3px 1px rgba(60, 64, 67, 0.15);\n",
              "    fill: var(--button-hover-fill-color);\n",
              "  }\n",
              "\n",
              "  .colab-df-quickchart-complete:disabled,\n",
              "  .colab-df-quickchart-complete:disabled:hover {\n",
              "    background-color: var(--disabled-bg-color);\n",
              "    fill: var(--disabled-fill-color);\n",
              "    box-shadow: none;\n",
              "  }\n",
              "\n",
              "  .colab-df-spinner {\n",
              "    border: 2px solid var(--fill-color);\n",
              "    border-color: transparent;\n",
              "    border-bottom-color: var(--fill-color);\n",
              "    animation:\n",
              "      spin 1s steps(1) infinite;\n",
              "  }\n",
              "\n",
              "  @keyframes spin {\n",
              "    0% {\n",
              "      border-color: transparent;\n",
              "      border-bottom-color: var(--fill-color);\n",
              "      border-left-color: var(--fill-color);\n",
              "    }\n",
              "    20% {\n",
              "      border-color: transparent;\n",
              "      border-left-color: var(--fill-color);\n",
              "      border-top-color: var(--fill-color);\n",
              "    }\n",
              "    30% {\n",
              "      border-color: transparent;\n",
              "      border-left-color: var(--fill-color);\n",
              "      border-top-color: var(--fill-color);\n",
              "      border-right-color: var(--fill-color);\n",
              "    }\n",
              "    40% {\n",
              "      border-color: transparent;\n",
              "      border-right-color: var(--fill-color);\n",
              "      border-top-color: var(--fill-color);\n",
              "    }\n",
              "    60% {\n",
              "      border-color: transparent;\n",
              "      border-right-color: var(--fill-color);\n",
              "    }\n",
              "    80% {\n",
              "      border-color: transparent;\n",
              "      border-right-color: var(--fill-color);\n",
              "      border-bottom-color: var(--fill-color);\n",
              "    }\n",
              "    90% {\n",
              "      border-color: transparent;\n",
              "      border-bottom-color: var(--fill-color);\n",
              "    }\n",
              "  }\n",
              "</style>\n",
              "\n",
              "  <script>\n",
              "    async function quickchart(key) {\n",
              "      const quickchartButtonEl =\n",
              "        document.querySelector('#' + key + ' button');\n",
              "      quickchartButtonEl.disabled = true;  // To prevent multiple clicks.\n",
              "      quickchartButtonEl.classList.add('colab-df-spinner');\n",
              "      try {\n",
              "        const charts = await google.colab.kernel.invokeFunction(\n",
              "            'suggestCharts', [key], {});\n",
              "      } catch (error) {\n",
              "        console.error('Error during call to suggestCharts:', error);\n",
              "      }\n",
              "      quickchartButtonEl.classList.remove('colab-df-spinner');\n",
              "      quickchartButtonEl.classList.add('colab-df-quickchart-complete');\n",
              "    }\n",
              "    (() => {\n",
              "      let quickchartButtonEl =\n",
              "        document.querySelector('#df-4ac34e6c-c20b-4e06-9a0e-32cfc5e0cf24 button');\n",
              "      quickchartButtonEl.style.display =\n",
              "        google.colab.kernel.accessAllowed ? 'block' : 'none';\n",
              "    })();\n",
              "  </script>\n",
              "</div>\n",
              "\n",
              "    </div>\n",
              "  </div>\n"
            ],
            "application/vnd.google.colaboratory.intrinsic+json": {
              "type": "dataframe",
              "variable_name": "df",
              "summary": "{\n  \"name\": \"df\",\n  \"rows\": 891,\n  \"fields\": [\n    {\n      \"column\": \"PassengerId\",\n      \"properties\": {\n        \"dtype\": \"number\",\n        \"std\": 257,\n        \"min\": 1,\n        \"max\": 891,\n        \"num_unique_values\": 891,\n        \"samples\": [\n          710,\n          440,\n          841\n        ],\n        \"semantic_type\": \"\",\n        \"description\": \"\"\n      }\n    },\n    {\n      \"column\": \"Survived\",\n      \"properties\": {\n        \"dtype\": \"number\",\n        \"std\": 0,\n        \"min\": 0,\n        \"max\": 1,\n        \"num_unique_values\": 2,\n        \"samples\": [\n          1,\n          0\n        ],\n        \"semantic_type\": \"\",\n        \"description\": \"\"\n      }\n    },\n    {\n      \"column\": \"Pclass\",\n      \"properties\": {\n        \"dtype\": \"number\",\n        \"std\": 0,\n        \"min\": 1,\n        \"max\": 3,\n        \"num_unique_values\": 3,\n        \"samples\": [\n          3,\n          1\n        ],\n        \"semantic_type\": \"\",\n        \"description\": \"\"\n      }\n    },\n    {\n      \"column\": \"Sex\",\n      \"properties\": {\n        \"dtype\": \"category\",\n        \"num_unique_values\": 2,\n        \"samples\": [\n          \"female\",\n          \"male\"\n        ],\n        \"semantic_type\": \"\",\n        \"description\": \"\"\n      }\n    },\n    {\n      \"column\": \"Age\",\n      \"properties\": {\n        \"dtype\": \"number\",\n        \"std\": 13.019696550973194,\n        \"min\": 0.42,\n        \"max\": 80.0,\n        \"num_unique_values\": 88,\n        \"samples\": [\n          0.75,\n          22.0\n        ],\n        \"semantic_type\": \"\",\n        \"description\": \"\"\n      }\n    },\n    {\n      \"column\": \"SibSp\",\n      \"properties\": {\n        \"dtype\": \"number\",\n        \"std\": 1,\n        \"min\": 0,\n        \"max\": 8,\n        \"num_unique_values\": 7,\n        \"samples\": [\n          1,\n          0\n        ],\n        \"semantic_type\": \"\",\n        \"description\": \"\"\n      }\n    },\n    {\n      \"column\": \"Parch\",\n      \"properties\": {\n        \"dtype\": \"number\",\n        \"std\": 0,\n        \"min\": 0,\n        \"max\": 6,\n        \"num_unique_values\": 7,\n        \"samples\": [\n          0,\n          1\n        ],\n        \"semantic_type\": \"\",\n        \"description\": \"\"\n      }\n    },\n    {\n      \"column\": \"Fare\",\n      \"properties\": {\n        \"dtype\": \"number\",\n        \"std\": 49.693428597180905,\n        \"min\": 0.0,\n        \"max\": 512.3292,\n        \"num_unique_values\": 248,\n        \"samples\": [\n          11.2417,\n          51.8625\n        ],\n        \"semantic_type\": \"\",\n        \"description\": \"\"\n      }\n    }\n  ]\n}"
            }
          },
          "metadata": {},
          "execution_count": 114
        }
      ]
    },
    {
      "cell_type": "markdown",
      "source": [
        "## Lidando com texto"
      ],
      "metadata": {
        "id": "pv0HbWWsbRzq"
      }
    },
    {
      "cell_type": "code",
      "source": [
        "# Codificação da coluna 'Sex'\n",
        "df['Sex'] = df['Sex'].replace({'male': 0, 'female': 1})"
      ],
      "metadata": {
        "id": "oj-qvchZb9qB",
        "colab": {
          "base_uri": "https://localhost:8080/"
        },
        "outputId": "e2bcc5b5-ad03-4348-faa6-1b20ea6e1fd9"
      },
      "execution_count": null,
      "outputs": [
        {
          "output_type": "stream",
          "name": "stderr",
          "text": [
            "<ipython-input-116-257fc56b338b>:2: FutureWarning: Downcasting behavior in `replace` is deprecated and will be removed in a future version. To retain the old behavior, explicitly call `result.infer_objects(copy=False)`. To opt-in to the future behavior, set `pd.set_option('future.no_silent_downcasting', True)`\n",
            "  df['Sex'] = df['Sex'].replace({'male': 0, 'female': 1})\n"
          ]
        }
      ]
    },
    {
      "cell_type": "markdown",
      "source": [
        "- 0 : Homem\n",
        "- 1 : Mulher"
      ],
      "metadata": {
        "id": "YPW-hi6OcsVU"
      }
    },
    {
      "cell_type": "code",
      "source": [
        "df.info()"
      ],
      "metadata": {
        "colab": {
          "base_uri": "https://localhost:8080/"
        },
        "id": "v3PxmdomcmGx",
        "outputId": "8ffaa607-1322-497a-96c5-2ce3480b3848"
      },
      "execution_count": null,
      "outputs": [
        {
          "output_type": "stream",
          "name": "stdout",
          "text": [
            "<class 'pandas.core.frame.DataFrame'>\n",
            "RangeIndex: 891 entries, 0 to 890\n",
            "Data columns (total 8 columns):\n",
            " #   Column       Non-Null Count  Dtype  \n",
            "---  ------       --------------  -----  \n",
            " 0   PassengerId  891 non-null    int64  \n",
            " 1   Survived     891 non-null    int64  \n",
            " 2   Pclass       891 non-null    int64  \n",
            " 3   Sex          891 non-null    int64  \n",
            " 4   Age          891 non-null    float64\n",
            " 5   SibSp        891 non-null    int64  \n",
            " 6   Parch        891 non-null    int64  \n",
            " 7   Fare         891 non-null    float64\n",
            "dtypes: float64(2), int64(6)\n",
            "memory usage: 55.8 KB\n"
          ]
        }
      ]
    },
    {
      "cell_type": "code",
      "source": [
        "df.head()"
      ],
      "metadata": {
        "colab": {
          "base_uri": "https://localhost:8080/",
          "height": 206
        },
        "id": "tPSrR-HccpOb",
        "outputId": "406e86a6-73cd-49a7-f3ae-f93781016b09"
      },
      "execution_count": null,
      "outputs": [
        {
          "output_type": "execute_result",
          "data": {
            "text/plain": [
              "   PassengerId  Survived  Pclass  Sex   Age  SibSp  Parch     Fare\n",
              "0            1         0       3    0  22.0      1      0   7.2500\n",
              "1            2         1       1    1  38.0      1      0  71.2833\n",
              "2            3         1       3    1  26.0      0      0   7.9250\n",
              "3            4         1       1    1  35.0      1      0  53.1000\n",
              "4            5         0       3    0  35.0      0      0   8.0500"
            ],
            "text/html": [
              "\n",
              "  <div id=\"df-8c94b34e-f970-46bd-8214-e85c5c297426\" class=\"colab-df-container\">\n",
              "    <div>\n",
              "<style scoped>\n",
              "    .dataframe tbody tr th:only-of-type {\n",
              "        vertical-align: middle;\n",
              "    }\n",
              "\n",
              "    .dataframe tbody tr th {\n",
              "        vertical-align: top;\n",
              "    }\n",
              "\n",
              "    .dataframe thead th {\n",
              "        text-align: right;\n",
              "    }\n",
              "</style>\n",
              "<table border=\"1\" class=\"dataframe\">\n",
              "  <thead>\n",
              "    <tr style=\"text-align: right;\">\n",
              "      <th></th>\n",
              "      <th>PassengerId</th>\n",
              "      <th>Survived</th>\n",
              "      <th>Pclass</th>\n",
              "      <th>Sex</th>\n",
              "      <th>Age</th>\n",
              "      <th>SibSp</th>\n",
              "      <th>Parch</th>\n",
              "      <th>Fare</th>\n",
              "    </tr>\n",
              "  </thead>\n",
              "  <tbody>\n",
              "    <tr>\n",
              "      <th>0</th>\n",
              "      <td>1</td>\n",
              "      <td>0</td>\n",
              "      <td>3</td>\n",
              "      <td>0</td>\n",
              "      <td>22.0</td>\n",
              "      <td>1</td>\n",
              "      <td>0</td>\n",
              "      <td>7.2500</td>\n",
              "    </tr>\n",
              "    <tr>\n",
              "      <th>1</th>\n",
              "      <td>2</td>\n",
              "      <td>1</td>\n",
              "      <td>1</td>\n",
              "      <td>1</td>\n",
              "      <td>38.0</td>\n",
              "      <td>1</td>\n",
              "      <td>0</td>\n",
              "      <td>71.2833</td>\n",
              "    </tr>\n",
              "    <tr>\n",
              "      <th>2</th>\n",
              "      <td>3</td>\n",
              "      <td>1</td>\n",
              "      <td>3</td>\n",
              "      <td>1</td>\n",
              "      <td>26.0</td>\n",
              "      <td>0</td>\n",
              "      <td>0</td>\n",
              "      <td>7.9250</td>\n",
              "    </tr>\n",
              "    <tr>\n",
              "      <th>3</th>\n",
              "      <td>4</td>\n",
              "      <td>1</td>\n",
              "      <td>1</td>\n",
              "      <td>1</td>\n",
              "      <td>35.0</td>\n",
              "      <td>1</td>\n",
              "      <td>0</td>\n",
              "      <td>53.1000</td>\n",
              "    </tr>\n",
              "    <tr>\n",
              "      <th>4</th>\n",
              "      <td>5</td>\n",
              "      <td>0</td>\n",
              "      <td>3</td>\n",
              "      <td>0</td>\n",
              "      <td>35.0</td>\n",
              "      <td>0</td>\n",
              "      <td>0</td>\n",
              "      <td>8.0500</td>\n",
              "    </tr>\n",
              "  </tbody>\n",
              "</table>\n",
              "</div>\n",
              "    <div class=\"colab-df-buttons\">\n",
              "\n",
              "  <div class=\"colab-df-container\">\n",
              "    <button class=\"colab-df-convert\" onclick=\"convertToInteractive('df-8c94b34e-f970-46bd-8214-e85c5c297426')\"\n",
              "            title=\"Convert this dataframe to an interactive table.\"\n",
              "            style=\"display:none;\">\n",
              "\n",
              "  <svg xmlns=\"http://www.w3.org/2000/svg\" height=\"24px\" viewBox=\"0 -960 960 960\">\n",
              "    <path d=\"M120-120v-720h720v720H120Zm60-500h600v-160H180v160Zm220 220h160v-160H400v160Zm0 220h160v-160H400v160ZM180-400h160v-160H180v160Zm440 0h160v-160H620v160ZM180-180h160v-160H180v160Zm440 0h160v-160H620v160Z\"/>\n",
              "  </svg>\n",
              "    </button>\n",
              "\n",
              "  <style>\n",
              "    .colab-df-container {\n",
              "      display:flex;\n",
              "      gap: 12px;\n",
              "    }\n",
              "\n",
              "    .colab-df-convert {\n",
              "      background-color: #E8F0FE;\n",
              "      border: none;\n",
              "      border-radius: 50%;\n",
              "      cursor: pointer;\n",
              "      display: none;\n",
              "      fill: #1967D2;\n",
              "      height: 32px;\n",
              "      padding: 0 0 0 0;\n",
              "      width: 32px;\n",
              "    }\n",
              "\n",
              "    .colab-df-convert:hover {\n",
              "      background-color: #E2EBFA;\n",
              "      box-shadow: 0px 1px 2px rgba(60, 64, 67, 0.3), 0px 1px 3px 1px rgba(60, 64, 67, 0.15);\n",
              "      fill: #174EA6;\n",
              "    }\n",
              "\n",
              "    .colab-df-buttons div {\n",
              "      margin-bottom: 4px;\n",
              "    }\n",
              "\n",
              "    [theme=dark] .colab-df-convert {\n",
              "      background-color: #3B4455;\n",
              "      fill: #D2E3FC;\n",
              "    }\n",
              "\n",
              "    [theme=dark] .colab-df-convert:hover {\n",
              "      background-color: #434B5C;\n",
              "      box-shadow: 0px 1px 3px 1px rgba(0, 0, 0, 0.15);\n",
              "      filter: drop-shadow(0px 1px 2px rgba(0, 0, 0, 0.3));\n",
              "      fill: #FFFFFF;\n",
              "    }\n",
              "  </style>\n",
              "\n",
              "    <script>\n",
              "      const buttonEl =\n",
              "        document.querySelector('#df-8c94b34e-f970-46bd-8214-e85c5c297426 button.colab-df-convert');\n",
              "      buttonEl.style.display =\n",
              "        google.colab.kernel.accessAllowed ? 'block' : 'none';\n",
              "\n",
              "      async function convertToInteractive(key) {\n",
              "        const element = document.querySelector('#df-8c94b34e-f970-46bd-8214-e85c5c297426');\n",
              "        const dataTable =\n",
              "          await google.colab.kernel.invokeFunction('convertToInteractive',\n",
              "                                                    [key], {});\n",
              "        if (!dataTable) return;\n",
              "\n",
              "        const docLinkHtml = 'Like what you see? Visit the ' +\n",
              "          '<a target=\"_blank\" href=https://colab.research.google.com/notebooks/data_table.ipynb>data table notebook</a>'\n",
              "          + ' to learn more about interactive tables.';\n",
              "        element.innerHTML = '';\n",
              "        dataTable['output_type'] = 'display_data';\n",
              "        await google.colab.output.renderOutput(dataTable, element);\n",
              "        const docLink = document.createElement('div');\n",
              "        docLink.innerHTML = docLinkHtml;\n",
              "        element.appendChild(docLink);\n",
              "      }\n",
              "    </script>\n",
              "  </div>\n",
              "\n",
              "\n",
              "<div id=\"df-79c03425-ad71-4844-9157-2fac1785bde6\">\n",
              "  <button class=\"colab-df-quickchart\" onclick=\"quickchart('df-79c03425-ad71-4844-9157-2fac1785bde6')\"\n",
              "            title=\"Suggest charts\"\n",
              "            style=\"display:none;\">\n",
              "\n",
              "<svg xmlns=\"http://www.w3.org/2000/svg\" height=\"24px\"viewBox=\"0 0 24 24\"\n",
              "     width=\"24px\">\n",
              "    <g>\n",
              "        <path d=\"M19 3H5c-1.1 0-2 .9-2 2v14c0 1.1.9 2 2 2h14c1.1 0 2-.9 2-2V5c0-1.1-.9-2-2-2zM9 17H7v-7h2v7zm4 0h-2V7h2v10zm4 0h-2v-4h2v4z\"/>\n",
              "    </g>\n",
              "</svg>\n",
              "  </button>\n",
              "\n",
              "<style>\n",
              "  .colab-df-quickchart {\n",
              "      --bg-color: #E8F0FE;\n",
              "      --fill-color: #1967D2;\n",
              "      --hover-bg-color: #E2EBFA;\n",
              "      --hover-fill-color: #174EA6;\n",
              "      --disabled-fill-color: #AAA;\n",
              "      --disabled-bg-color: #DDD;\n",
              "  }\n",
              "\n",
              "  [theme=dark] .colab-df-quickchart {\n",
              "      --bg-color: #3B4455;\n",
              "      --fill-color: #D2E3FC;\n",
              "      --hover-bg-color: #434B5C;\n",
              "      --hover-fill-color: #FFFFFF;\n",
              "      --disabled-bg-color: #3B4455;\n",
              "      --disabled-fill-color: #666;\n",
              "  }\n",
              "\n",
              "  .colab-df-quickchart {\n",
              "    background-color: var(--bg-color);\n",
              "    border: none;\n",
              "    border-radius: 50%;\n",
              "    cursor: pointer;\n",
              "    display: none;\n",
              "    fill: var(--fill-color);\n",
              "    height: 32px;\n",
              "    padding: 0;\n",
              "    width: 32px;\n",
              "  }\n",
              "\n",
              "  .colab-df-quickchart:hover {\n",
              "    background-color: var(--hover-bg-color);\n",
              "    box-shadow: 0 1px 2px rgba(60, 64, 67, 0.3), 0 1px 3px 1px rgba(60, 64, 67, 0.15);\n",
              "    fill: var(--button-hover-fill-color);\n",
              "  }\n",
              "\n",
              "  .colab-df-quickchart-complete:disabled,\n",
              "  .colab-df-quickchart-complete:disabled:hover {\n",
              "    background-color: var(--disabled-bg-color);\n",
              "    fill: var(--disabled-fill-color);\n",
              "    box-shadow: none;\n",
              "  }\n",
              "\n",
              "  .colab-df-spinner {\n",
              "    border: 2px solid var(--fill-color);\n",
              "    border-color: transparent;\n",
              "    border-bottom-color: var(--fill-color);\n",
              "    animation:\n",
              "      spin 1s steps(1) infinite;\n",
              "  }\n",
              "\n",
              "  @keyframes spin {\n",
              "    0% {\n",
              "      border-color: transparent;\n",
              "      border-bottom-color: var(--fill-color);\n",
              "      border-left-color: var(--fill-color);\n",
              "    }\n",
              "    20% {\n",
              "      border-color: transparent;\n",
              "      border-left-color: var(--fill-color);\n",
              "      border-top-color: var(--fill-color);\n",
              "    }\n",
              "    30% {\n",
              "      border-color: transparent;\n",
              "      border-left-color: var(--fill-color);\n",
              "      border-top-color: var(--fill-color);\n",
              "      border-right-color: var(--fill-color);\n",
              "    }\n",
              "    40% {\n",
              "      border-color: transparent;\n",
              "      border-right-color: var(--fill-color);\n",
              "      border-top-color: var(--fill-color);\n",
              "    }\n",
              "    60% {\n",
              "      border-color: transparent;\n",
              "      border-right-color: var(--fill-color);\n",
              "    }\n",
              "    80% {\n",
              "      border-color: transparent;\n",
              "      border-right-color: var(--fill-color);\n",
              "      border-bottom-color: var(--fill-color);\n",
              "    }\n",
              "    90% {\n",
              "      border-color: transparent;\n",
              "      border-bottom-color: var(--fill-color);\n",
              "    }\n",
              "  }\n",
              "</style>\n",
              "\n",
              "  <script>\n",
              "    async function quickchart(key) {\n",
              "      const quickchartButtonEl =\n",
              "        document.querySelector('#' + key + ' button');\n",
              "      quickchartButtonEl.disabled = true;  // To prevent multiple clicks.\n",
              "      quickchartButtonEl.classList.add('colab-df-spinner');\n",
              "      try {\n",
              "        const charts = await google.colab.kernel.invokeFunction(\n",
              "            'suggestCharts', [key], {});\n",
              "      } catch (error) {\n",
              "        console.error('Error during call to suggestCharts:', error);\n",
              "      }\n",
              "      quickchartButtonEl.classList.remove('colab-df-spinner');\n",
              "      quickchartButtonEl.classList.add('colab-df-quickchart-complete');\n",
              "    }\n",
              "    (() => {\n",
              "      let quickchartButtonEl =\n",
              "        document.querySelector('#df-79c03425-ad71-4844-9157-2fac1785bde6 button');\n",
              "      quickchartButtonEl.style.display =\n",
              "        google.colab.kernel.accessAllowed ? 'block' : 'none';\n",
              "    })();\n",
              "  </script>\n",
              "</div>\n",
              "\n",
              "    </div>\n",
              "  </div>\n"
            ],
            "application/vnd.google.colaboratory.intrinsic+json": {
              "type": "dataframe",
              "variable_name": "df",
              "summary": "{\n  \"name\": \"df\",\n  \"rows\": 891,\n  \"fields\": [\n    {\n      \"column\": \"PassengerId\",\n      \"properties\": {\n        \"dtype\": \"number\",\n        \"std\": 257,\n        \"min\": 1,\n        \"max\": 891,\n        \"num_unique_values\": 891,\n        \"samples\": [\n          710,\n          440,\n          841\n        ],\n        \"semantic_type\": \"\",\n        \"description\": \"\"\n      }\n    },\n    {\n      \"column\": \"Survived\",\n      \"properties\": {\n        \"dtype\": \"number\",\n        \"std\": 0,\n        \"min\": 0,\n        \"max\": 1,\n        \"num_unique_values\": 2,\n        \"samples\": [\n          1,\n          0\n        ],\n        \"semantic_type\": \"\",\n        \"description\": \"\"\n      }\n    },\n    {\n      \"column\": \"Pclass\",\n      \"properties\": {\n        \"dtype\": \"number\",\n        \"std\": 0,\n        \"min\": 1,\n        \"max\": 3,\n        \"num_unique_values\": 3,\n        \"samples\": [\n          3,\n          1\n        ],\n        \"semantic_type\": \"\",\n        \"description\": \"\"\n      }\n    },\n    {\n      \"column\": \"Sex\",\n      \"properties\": {\n        \"dtype\": \"number\",\n        \"std\": 0,\n        \"min\": 0,\n        \"max\": 1,\n        \"num_unique_values\": 2,\n        \"samples\": [\n          1,\n          0\n        ],\n        \"semantic_type\": \"\",\n        \"description\": \"\"\n      }\n    },\n    {\n      \"column\": \"Age\",\n      \"properties\": {\n        \"dtype\": \"number\",\n        \"std\": 13.019696550973194,\n        \"min\": 0.42,\n        \"max\": 80.0,\n        \"num_unique_values\": 88,\n        \"samples\": [\n          0.75,\n          22.0\n        ],\n        \"semantic_type\": \"\",\n        \"description\": \"\"\n      }\n    },\n    {\n      \"column\": \"SibSp\",\n      \"properties\": {\n        \"dtype\": \"number\",\n        \"std\": 1,\n        \"min\": 0,\n        \"max\": 8,\n        \"num_unique_values\": 7,\n        \"samples\": [\n          1,\n          0\n        ],\n        \"semantic_type\": \"\",\n        \"description\": \"\"\n      }\n    },\n    {\n      \"column\": \"Parch\",\n      \"properties\": {\n        \"dtype\": \"number\",\n        \"std\": 0,\n        \"min\": 0,\n        \"max\": 6,\n        \"num_unique_values\": 7,\n        \"samples\": [\n          0,\n          1\n        ],\n        \"semantic_type\": \"\",\n        \"description\": \"\"\n      }\n    },\n    {\n      \"column\": \"Fare\",\n      \"properties\": {\n        \"dtype\": \"number\",\n        \"std\": 49.693428597180905,\n        \"min\": 0.0,\n        \"max\": 512.3292,\n        \"num_unique_values\": 248,\n        \"samples\": [\n          11.2417,\n          51.8625\n        ],\n        \"semantic_type\": \"\",\n        \"description\": \"\"\n      }\n    }\n  ]\n}"
            }
          },
          "metadata": {},
          "execution_count": 118
        }
      ]
    },
    {
      "cell_type": "code",
      "source": [
        "df['Age'] = df['Age'].astype(int)"
      ],
      "metadata": {
        "id": "rMg2BlxMPoY4"
      },
      "execution_count": null,
      "outputs": []
    },
    {
      "cell_type": "code",
      "source": [
        "df.info()"
      ],
      "metadata": {
        "colab": {
          "base_uri": "https://localhost:8080/"
        },
        "id": "xDSwCICkS9MP",
        "outputId": "3b6545dc-5bc2-4b09-c6ef-a05bcf0fccb2"
      },
      "execution_count": null,
      "outputs": [
        {
          "output_type": "stream",
          "name": "stdout",
          "text": [
            "<class 'pandas.core.frame.DataFrame'>\n",
            "RangeIndex: 891 entries, 0 to 890\n",
            "Data columns (total 8 columns):\n",
            " #   Column       Non-Null Count  Dtype  \n",
            "---  ------       --------------  -----  \n",
            " 0   PassengerId  891 non-null    int64  \n",
            " 1   Survived     891 non-null    int64  \n",
            " 2   Pclass       891 non-null    int64  \n",
            " 3   Sex          891 non-null    int64  \n",
            " 4   Age          891 non-null    int64  \n",
            " 5   SibSp        891 non-null    int64  \n",
            " 6   Parch        891 non-null    int64  \n",
            " 7   Fare         891 non-null    float64\n",
            "dtypes: float64(1), int64(7)\n",
            "memory usage: 55.8 KB\n"
          ]
        }
      ]
    },
    {
      "cell_type": "markdown",
      "source": [
        "# Visualizações"
      ],
      "metadata": {
        "id": "ej5zIGv5iI2I"
      }
    },
    {
      "cell_type": "code",
      "source": [
        "import matplotlib.pyplot as plt"
      ],
      "metadata": {
        "id": "kZ0bLsvliXnJ"
      },
      "execution_count": null,
      "outputs": []
    },
    {
      "cell_type": "markdown",
      "source": [
        "## Distribuição de Sobreviventes"
      ],
      "metadata": {
        "id": "v0XIq9QRonnp"
      }
    },
    {
      "cell_type": "code",
      "source": [
        "plt.figure(figsize=(10, 6))\n",
        "sns.countplot(x='Survived', data=df, hue='Survived')\n",
        "plt.title('Distribuição de Sobrevivência')\n",
        "plt.legend(title='Sobreviveu', labels=['Não Sobreviveu', 'Sobreviveu'])\n",
        "plt.xlabel('Sobreviveu')\n",
        "plt.ylabel('Número de Passageiros')\n",
        "plt.show()"
      ],
      "metadata": {
        "colab": {
          "base_uri": "https://localhost:8080/",
          "height": 654
        },
        "id": "KPKD0WoioS2y",
        "outputId": "fc1e177a-f66c-4c7f-fa6f-d87eda57d99e"
      },
      "execution_count": null,
      "outputs": [
        {
          "output_type": "stream",
          "name": "stderr",
          "text": [
            "/usr/local/lib/python3.10/dist-packages/seaborn/_base.py:949: FutureWarning: When grouping with a length-1 list-like, you will need to pass a length-1 tuple to get_group in a future version of pandas. Pass `(name,)` instead of `name` to silence this warning.\n",
            "  data_subset = grouped_data.get_group(pd_key)\n",
            "/usr/local/lib/python3.10/dist-packages/seaborn/_base.py:949: FutureWarning: When grouping with a length-1 list-like, you will need to pass a length-1 tuple to get_group in a future version of pandas. Pass `(name,)` instead of `name` to silence this warning.\n",
            "  data_subset = grouped_data.get_group(pd_key)\n"
          ]
        },
        {
          "output_type": "display_data",
          "data": {
            "text/plain": [
              "<Figure size 1000x600 with 1 Axes>"
            ],
            "image/png": "[encoded data removed]"
          },
          "metadata": {}
        }
      ]
    },
    {
      "cell_type": "markdown",
      "source": [
        "## Correlação de Pearson"
      ],
      "metadata": {
        "id": "WKWbNzGsrrvt"
      }
    },
    {
      "cell_type": "markdown",
      "source": [
        "- $1$ indica uma correlação positiva perfeita (quando uma variável aumenta, a outra também aumenta proporcionalmente).\n",
        "- $-1$ indica uma correlação negativa perfeita (quando uma variável aumenta, a outra diminui proporcionalmente)."
      ],
      "metadata": {
        "id": "Rcz9qyugj65s"
      }
    },
    {
      "cell_type": "code",
      "source": [
        "# Calcular a matriz de correlação\n",
        "correlation_matrix = df.corr()\n",
        "\n",
        "# Plotar o heatmap da matriz de correlação\n",
        "plt.figure(figsize=(10, 8))\n",
        "sns.heatmap(correlation_matrix, annot=True, cmap='coolwarm', fmt=\".2f\", linewidths=0.5)\n",
        "plt.title('Matriz de Correlação do Titanic')\n",
        "plt.show()"
      ],
      "metadata": {
        "colab": {
          "base_uri": "https://localhost:8080/",
          "height": 699
        },
        "id": "sm1bfpD2iNMZ",
        "outputId": "c3b6c624-b3c9-4b9c-88b4-2fb5db2e2d4b"
      },
      "execution_count": null,
      "outputs": [
        {
          "output_type": "display_data",
          "data": {
            "text/plain": [
              "<Figure size 1000x800 with 2 Axes>"
            ],
            "image/png": "[encoded data removed]"
          },
          "metadata": {}
        }
      ]
    },
    {
      "cell_type": "markdown",
      "source": [
        "- As colunas, **'alone'**, **'fare'**, **'sex'** e **'pclass'** tem uma influencia maior para o direcionamento vetorial da variavel **'survived'**, o que pode indicar uma possível influência na sobrevivência de um passageiro."
      ],
      "metadata": {
        "id": "mS2qs9RxT19a"
      }
    },
    {
      "cell_type": "markdown",
      "source": [
        "## Box-Plot"
      ],
      "metadata": {
        "id": "cBiUrubLIu5E"
      }
    },
    {
      "cell_type": "code",
      "source": [
        "plt.figure(figsize=(10, 6))\n",
        "sns.boxplot(x='Survived', y='Age', data=df, hue='Sex')\n",
        "plt.legend(title='Sexo', labels=['homem', 'mulher'])\n",
        "plt.title('Distribuição de Idade por Sobrevivência')\n",
        "plt.xlabel('Sobreviveu')"
      ],
      "metadata": {
        "colab": {
          "base_uri": "https://localhost:8080/",
          "height": 741
        },
        "id": "QxH7Lj4PJUIM",
        "outputId": "2683579f-0359-45a6-996f-710f2d7da52a"
      },
      "execution_count": null,
      "outputs": [
        {
          "output_type": "stream",
          "name": "stderr",
          "text": [
            "/usr/local/lib/python3.10/dist-packages/seaborn/_base.py:949: FutureWarning: When grouping with a length-1 list-like, you will need to pass a length-1 tuple to get_group in a future version of pandas. Pass `(name,)` instead of `name` to silence this warning.\n",
            "  data_subset = grouped_data.get_group(pd_key)\n",
            "/usr/local/lib/python3.10/dist-packages/seaborn/categorical.py:640: FutureWarning: SeriesGroupBy.grouper is deprecated and will be removed in a future version of pandas.\n",
            "  positions = grouped.grouper.result_index.to_numpy(dtype=float)\n",
            "/usr/local/lib/python3.10/dist-packages/seaborn/_base.py:949: FutureWarning: When grouping with a length-1 list-like, you will need to pass a length-1 tuple to get_group in a future version of pandas. Pass `(name,)` instead of `name` to silence this warning.\n",
            "  data_subset = grouped_data.get_group(pd_key)\n",
            "/usr/local/lib/python3.10/dist-packages/seaborn/categorical.py:640: FutureWarning: SeriesGroupBy.grouper is deprecated and will be removed in a future version of pandas.\n",
            "  positions = grouped.grouper.result_index.to_numpy(dtype=float)\n"
          ]
        },
        {
          "output_type": "execute_result",
          "data": {
            "text/plain": [
              "Text(0.5, 0, 'Sobreviveu')"
            ]
          },
          "metadata": {},
          "execution_count": 126
        },
        {
          "output_type": "display_data",
          "data": {
            "text/plain": [
              "<Figure size 1000x600 with 1 Axes>"
            ],
            "image/png": "[encoded data removed]"
          },
          "metadata": {}
        }
      ]
    },
    {
      "cell_type": "markdown",
      "source": [
        "## Gráfico de pizza"
      ],
      "metadata": {
        "id": "tqKY4az1kwur"
      }
    },
    {
      "cell_type": "code",
      "source": [
        "plt.figure(figsize=(6, 6))\n",
        "plt.pie(df['Survived'].value_counts(), labels=['Não Sobreviveu', 'Sobreviveu'], autopct='%1.1f%%', startangle=90, colors=['red', 'green'])\n",
        "plt.title('Distribuição de Sobrevivência')\n",
        "plt.show()"
      ],
      "metadata": {
        "colab": {
          "base_uri": "https://localhost:8080/",
          "height": 521
        },
        "id": "r-CqdiVRj4O8",
        "outputId": "4a5d4345-78ac-494e-c67e-48da7348595b"
      },
      "execution_count": null,
      "outputs": [
        {
          "output_type": "display_data",
          "data": {
            "text/plain": [
              "<Figure size 600x600 with 1 Axes>"
            ],
            "image/png": "[encoded data removed]"
          },
          "metadata": {}
        }
      ]
    },
    {
      "cell_type": "markdown",
      "source": [
        "## Gráfico de Barras"
      ],
      "metadata": {
        "id": "QsJSttIklQnp"
      }
    },
    {
      "cell_type": "code",
      "source": [
        "plt.figure(figsize=(8, 6))\n",
        "sns.barplot(x='Pclass', y='Survived', data=df, errorbar=None, hue='Pclass')\n",
        "plt.title('Taxa de Sobrevivência por Classe')\n",
        "plt.xlabel('Classe')\n",
        "plt.ylabel('Taxa de Sobrevivência')\n",
        "plt.show()"
      ],
      "metadata": {
        "colab": {
          "base_uri": "https://localhost:8080/",
          "height": 689
        },
        "id": "xpx28ltLlWnW",
        "outputId": "4df1565a-c4d9-484b-a432-7250bae814cc"
      },
      "execution_count": null,
      "outputs": [
        {
          "output_type": "stream",
          "name": "stderr",
          "text": [
            "/usr/local/lib/python3.10/dist-packages/seaborn/_base.py:949: FutureWarning: When grouping with a length-1 list-like, you will need to pass a length-1 tuple to get_group in a future version of pandas. Pass `(name,)` instead of `name` to silence this warning.\n",
            "  data_subset = grouped_data.get_group(pd_key)\n",
            "/usr/local/lib/python3.10/dist-packages/seaborn/_base.py:949: FutureWarning: When grouping with a length-1 list-like, you will need to pass a length-1 tuple to get_group in a future version of pandas. Pass `(name,)` instead of `name` to silence this warning.\n",
            "  data_subset = grouped_data.get_group(pd_key)\n",
            "/usr/local/lib/python3.10/dist-packages/seaborn/_base.py:949: FutureWarning: When grouping with a length-1 list-like, you will need to pass a length-1 tuple to get_group in a future version of pandas. Pass `(name,)` instead of `name` to silence this warning.\n",
            "  data_subset = grouped_data.get_group(pd_key)\n"
          ]
        },
        {
          "output_type": "display_data",
          "data": {
            "text/plain": [
              "<Figure size 800x600 with 1 Axes>"
            ],
            "image/png": "[encoded data removed]"
          },
          "metadata": {}
        }
      ]
    },
    {
      "cell_type": "code",
      "source": [
        "plt.figure(figsize=(8, 6))\n",
        "sns.countplot(x='Pclass', data=df)\n",
        "plt.title('Número de Passageiros por Classe')\n",
        "plt.xlabel('Classe')\n",
        "plt.ylabel('Número de Passageiros')\n",
        "plt.show()"
      ],
      "metadata": {
        "colab": {
          "base_uri": "https://localhost:8080/",
          "height": 565
        },
        "id": "sy-wP_SEmj37",
        "outputId": "79e0f73d-ef13-49e6-ef21-0f99d402d570"
      },
      "execution_count": null,
      "outputs": [
        {
          "output_type": "display_data",
          "data": {
            "text/plain": [
              "<Figure size 800x600 with 1 Axes>"
            ],
            "image/png": "[encoded data removed]"
          },
          "metadata": {}
        }
      ]
    },
    {
      "cell_type": "markdown",
      "source": [
        "## Histograma de Idade"
      ],
      "metadata": {
        "id": "tOGw8A86mckC"
      }
    },
    {
      "cell_type": "code",
      "source": [
        "plt.figure(figsize=(8, 6))\n",
        "sns.histplot(df['Age'], bins=30, kde=True, color='blue')\n",
        "plt.title('Distribuição de Idade dos Passageiros')\n",
        "plt.xlabel('Idade')\n",
        "plt.ylabel('Frequência')\n",
        "plt.show()"
      ],
      "metadata": {
        "colab": {
          "base_uri": "https://localhost:8080/",
          "height": 564
        },
        "id": "ZN3afv4EnOuM",
        "outputId": "d947a4b4-95d8-4d94-f47a-4895703a9241"
      },
      "execution_count": null,
      "outputs": [
        {
          "output_type": "display_data",
          "data": {
            "text/plain": [
              "<Figure size 800x600 with 1 Axes>"
            ],
            "image/png": "[encoded data removed]"
          },
          "metadata": {}
        }
      ]
    },
    {
      "cell_type": "markdown",
      "source": [
        "# Teste de Hipotese"
      ],
      "metadata": {
        "id": "1q0aixLztVsR"
      }
    },
    {
      "cell_type": "markdown",
      "source": [
        "Correlação $vs$ Teste de Hipótese"
      ],
      "metadata": {
        "id": "WZNZwhXupVpU"
      }
    },
    {
      "cell_type": "markdown",
      "source": [
        "- **Correlação:** Mede a força e a direção da relação entre duas variáveis numéricas. Não envolve diretamente a decisão de aceitar ou rejeitar uma hipótese.\n",
        "\n",
        "- **Teste de Hipóteses:** É um procedimento formal para decidir entre duas hipóteses baseadas em dados, geralmente envolvendo um cálculo de p-valor e uma regra de decisão."
      ],
      "metadata": {
        "id": "3RghEfzosm09"
      }
    },
    {
      "cell_type": "markdown",
      "source": [
        "**O teste de hipóteses** é um procedimento estatístico que envolve a formulação de uma **hipótese nula (H₀)** e uma **hipótese alternativa (H₁)**, seguido de uma análise para determinar se os dados fornecem evidências suficientes para rejeitar a hipótese nula."
      ],
      "metadata": {
        "id": "n53tLtv9s3bM"
      }
    },
    {
      "cell_type": "markdown",
      "source": [
        "## Qui-Quadrado"
      ],
      "metadata": {
        "id": "h-MgDJzGsuVv"
      }
    },
    {
      "cell_type": "markdown",
      "source": [
        "*Exemplo:*\n",
        "- **Hipótese nula (H₀):** A classe (class) não tem relação com a sobrevivência (survived). Ou seja, as variáveis são independentes.\n",
        "- **Hipótese alternativa (H₁):** A classe (class) tem relação com a sobrevivência (survived). Ou seja, as variáveis são dependentes."
      ],
      "metadata": {
        "id": "qOt0zsC_tcps"
      }
    },
    {
      "cell_type": "markdown",
      "source": [
        "Para resolver problemas como este, usamos **Padronização** e **regras de decisão**."
      ],
      "metadata": {
        "id": "3adfkmO6t0jD"
      }
    },
    {
      "cell_type": "markdown",
      "source": [
        "Teste Qui-Quadrados:\n",
        "\n",
        "É usado para testar a associação entre duas variáveis categóricas ou para testar a conformidade dos dados com uma distribuição esperada. Por exemplo, testar se a coluna classe do bilhete(1, 2, 3) tem relação com a sobrevivência."
      ],
      "metadata": {
        "id": "b2d5bTEeukPG"
      }
    },
    {
      "cell_type": "markdown",
      "source": [
        "Para isso devemos criar uma **tabela de contingência**, que consiste e enumerar a quantidade de uma coluna em relação a outra:\n",
        "\n"
      ],
      "metadata": {
        "id": "ojvPJqjivsEt"
      }
    },
    {
      "cell_type": "markdown",
      "source": [
        "![image.png](data:image/png;base64,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)"
      ],
      "metadata": {
        "id": "BV_38BOowqsa"
      }
    },
    {
      "cell_type": "code",
      "source": [
        "import pandas as pd\n",
        "from scipy.stats import chi2_contingency\n",
        "\n",
        "# tabela de contingência\n",
        "contingencia = pd.crosstab(df['Pclass'], df['Survived'])\n",
        "\n",
        "print(\"Tabela de Contingência:\")\n",
        "print(contingencia)\n",
        "\n",
        "# teste Qui-Quadrado\n",
        "chi2_stat, p_value, dof, experado = chi2_contingency(contingencia)\n",
        "\n",
        "print(\"\\nResultado do Teste Qui-Quadrado:\")\n",
        "print(f\"Estatística Qui-Quadrado: {chi2_stat}\")\n",
        "print(f\"P-valor: {p_value}\")\n",
        "print(f\"Graus de Liberdade: {dof}\")\n",
        "print(f\"Valores Esperados:\\n{experado}\")\n",
        "\n",
        "# Interpretando o p-valor\n",
        "alpha = 0.05\n",
        "if p_value < alpha:\n",
        "    print(\"\\nRejeitamos a hipótese nula. Existe uma associação significativa entre 'class' e 'survived'.\")\n",
        "else:\n",
        "    print(\"\\nNão rejeitamos a hipótese nula. Não há evidência suficiente para afirmar que 'class' e 'survived' estão associados.\")\n"
      ],
      "metadata": {
        "colab": {
          "base_uri": "https://localhost:8080/"
        },
        "id": "BanTH2Z8vXLW",
        "outputId": "c33dc260-4de8-4b6a-b7da-bdd09c887eb6"
      },
      "execution_count": null,
      "outputs": [
        {
          "output_type": "stream",
          "name": "stdout",
          "text": [
            "Tabela de Contingência:\n",
            "Survived    0    1\n",
            "Pclass            \n",
            "1          80  136\n",
            "2          97   87\n",
            "3         372  119\n",
            "\n",
            "Resultado do Teste Qui-Quadrado:\n",
            "Estatística Qui-Quadrado: 102.88898875696056\n",
            "P-valor: 4.549251711298793e-23\n",
            "Graus de Liberdade: 2\n",
            "Valores Esperados:\n",
            "[[133.09090909  82.90909091]\n",
            " [113.37373737  70.62626263]\n",
            " [302.53535354 188.46464646]]\n",
            "\n",
            "Rejeitamos a hipótese nula. Existe uma associação significativa entre 'class' e 'survived'.\n"
          ]
        }
      ]
    },
    {
      "cell_type": "markdown",
      "source": [
        "## ANOVA"
      ],
      "metadata": {
        "id": "lVnOxtFZfWEi"
      }
    },
    {
      "cell_type": "markdown",
      "source": [
        "Agora que temos informações sobre a relevancia da classe do bilhete para sobrevivência, iremos performar o ANOVA para análisar a significância das diferenças\n",
        "entre as classes."
      ],
      "metadata": {
        "id": "6jWlu6FGfYFL"
      }
    },
    {
      "cell_type": "markdown",
      "source": [
        "Para isso, primeiro vamos calcular a taxa de sobrevivência performando uma regressão linear, visando encontrar o coêficiente angular, que mede a relação entre uma variável $X$ para o $Y$ previsto."
      ],
      "metadata": {
        "id": "KcnE1yogfywv"
      }
    },
    {
      "cell_type": "markdown",
      "source": [
        "Para o teste de hipótese:\n",
        "\n",
        "- **Hipótese nula (H₀):** As médias das taxas de sobrevivência entre as diferentes classes de passageiros são iguais.\n",
        "- **Hipótese alternativa (H₁):** Pelo menos uma média da taxa de sobrevivência entre as diferentes classes de passageiros é diferente."
      ],
      "metadata": {
        "id": "8T_m-VaogMJq"
      }
    },
    {
      "cell_type": "code",
      "source": [
        "import statsmodels.api as sm\n",
        "from statsmodels.formula.api import ols\n",
        "from statsmodels.stats.anova import anova_lm\n",
        "\n",
        "# recebendo as probabilidades atraves da regressão linear\n",
        "modelo = ols('Survived ~ C(Pclass)', data=df[['Pclass', 'Survived']]).fit()\n",
        "print(modelo.summary())\n",
        "print(modelo.params)\n",
        "resultados = anova_lm(modelo, typ=2)\n",
        "print()\n",
        "print(resultados)\n",
        "print()\n",
        "alpha = 0.05\n",
        "\n",
        "if resultados['PR(>F)'][0] < alpha:\n",
        "    print(\"Rejeitamos a hipótese nula. As variáveis são dependentes.\")\n",
        "else:\n",
        "    print(\"Não rejeitamos a hipótese nula. As variáveis são independentes.\")\n"
      ],
      "metadata": {
        "colab": {
          "base_uri": "https://localhost:8080/"
        },
        "id": "pESGfaznhyfS",
        "outputId": "00a6c9f8-1120-43b9-edab-72de7eabe4f9"
      },
      "execution_count": null,
      "outputs": [
        {
          "output_type": "stream",
          "name": "stdout",
          "text": [
            "                            OLS Regression Results                            \n",
            "==============================================================================\n",
            "Dep. Variable:               Survived   R-squared:                       0.115\n",
            "Model:                            OLS   Adj. R-squared:                  0.113\n",
            "Method:                 Least Squares   F-statistic:                     57.96\n",
            "Date:                Thu, 03 Oct 2024   Prob (F-statistic):           2.18e-24\n",
            "Time:                        23:15:55   Log-Likelihood:                -567.30\n",
            "No. Observations:                 891   AIC:                             1141.\n",
            "Df Residuals:                     888   BIC:                             1155.\n",
            "Df Model:                           2                                         \n",
            "Covariance Type:            nonrobust                                         \n",
            "==================================================================================\n",
            "                     coef    std err          t      P>|t|      [0.025      0.975]\n",
            "----------------------------------------------------------------------------------\n",
            "Intercept          0.6296      0.031     20.198      0.000       0.568       0.691\n",
            "C(Pclass)[T.2]    -0.1568      0.046     -3.412      0.001      -0.247      -0.067\n",
            "C(Pclass)[T.3]    -0.3873      0.037    -10.353      0.000      -0.461      -0.314\n",
            "==============================================================================\n",
            "Omnibus:                     1364.423   Durbin-Watson:                   1.957\n",
            "Prob(Omnibus):                  0.000   Jarque-Bera (JB):               86.840\n",
            "Skew:                           0.421   Prob(JB):                     1.39e-19\n",
            "Kurtosis:                       1.723   Cond. No.                         4.56\n",
            "==============================================================================\n",
            "\n",
            "Notes:\n",
            "[1] Standard Errors assume that the covariance matrix of the errors is correctly specified.\n",
            "Intercept         0.629630\n",
            "C(Pclass)[T.2]   -0.156804\n",
            "C(Pclass)[T.3]   -0.387267\n",
            "dtype: float64\n",
            "\n",
            "               sum_sq     df          F        PR(>F)\n",
            "C(Pclass)   24.333912    2.0  57.964818  2.183247e-24\n",
            "Residual   186.393360  888.0        NaN           NaN\n",
            "\n",
            "Rejeitamos a hipótese nula. As variáveis são dependentes.\n"
          ]
        },
        {
          "output_type": "stream",
          "name": "stderr",
          "text": [
            "<ipython-input-133-ce80818417a0>:15: FutureWarning: Series.__getitem__ treating keys as positions is deprecated. In a future version, integer keys will always be treated as labels (consistent with DataFrame behavior). To access a value by position, use `ser.iloc[pos]`\n",
            "  if resultados['PR(>F)'][0] < alpha:\n"
          ]
        }
      ]
    },
    {
      "cell_type": "markdown",
      "source": [
        "### Tukey"
      ],
      "metadata": {
        "id": "WtIAYuVLp69X"
      }
    },
    {
      "cell_type": "markdown",
      "source": [
        "Conforme o ANOVA aponta uma diferença significativa em pelo menos umas das classes, irei realizar o teste de Tukey para verificar quais grupos tem diferenças significativas."
      ],
      "metadata": {
        "id": "Ha9Areegp88G"
      }
    },
    {
      "cell_type": "code",
      "source": [
        "from statsmodels.stats.multicomp import pairwise_tukeyhsd\n",
        "\n",
        "teste_tukey = pairwise_tukeyhsd(endog=df['Survived'], groups=df['Pclass'], alpha=alpha)\n",
        "\n",
        "print(\"Resultado do teste de Tukey:\")\n",
        "print(teste_tukey)"
      ],
      "metadata": {
        "colab": {
          "base_uri": "https://localhost:8080/"
        },
        "id": "7cx5BTdhqMhu",
        "outputId": "de84f2e8-e1ac-4679-eeaa-4a17c2c16985"
      },
      "execution_count": null,
      "outputs": [
        {
          "output_type": "stream",
          "name": "stdout",
          "text": [
            "Resultado do teste de Tukey:\n",
            "Multiple Comparison of Means - Tukey HSD, FWER=0.05\n",
            "===================================================\n",
            "group1 group2 meandiff p-adj  lower   upper  reject\n",
            "---------------------------------------------------\n",
            "     1      2  -0.1568 0.002 -0.2647 -0.0489   True\n",
            "     1      3  -0.3873   0.0 -0.4751 -0.2994   True\n",
            "     2      3  -0.2305   0.0 -0.3234 -0.1375   True\n",
            "---------------------------------------------------\n"
          ]
        }
      ]
    },
    {
      "cell_type": "markdown",
      "source": [
        "- Todos os bilhetes possuem uma diferença significativa para sobrevivência so passageiro.\n",
        "- Vale destacar que a diferença entre a primera e segunda classe em relação a terceira são mais discrepantes."
      ],
      "metadata": {
        "id": "cbIPCEJ5q_se"
      }
    },
    {
      "cell_type": "markdown",
      "source": [
        "# Conclusões"
      ],
      "metadata": {
        "id": "SihlvAifkEHq"
      }
    },
    {
      "cell_type": "markdown",
      "source": [
        "> Dado as visualizações através da tabela de correlação, gráficos e testes, é facil informar que a classe do bilhete e o sexo do passageiro, são informações cruciais para determinar de forma probabilistica que, os mesmos que possuem bilhetes da primeira ou segunda classe e são do sexo feminino, possuem uma tendência significantemente maior a sobrevivência no desastre do titânic.\n",
        "\n",
        "> Isto pode inferir, que o investimento em um bilhete de classe superior impacta de forma significativa a sobrevivência em desatres potênciais, o que pode influênciar na venda de bilhetes mais caros ou mesmo impactar no investimento em segurança para todas as áreas do navio.\n",
        "\n",
        "> Além disso, vale mencionar a correlação entre o fato de estar viajando sozinho e a sobrevivência, o que indica uma tendência a não sobrevivência quando se está sozinho em um desastre."
      ],
      "metadata": {
        "id": "yv2ylfOSkGvY"
      }
    },
    {
      "cell_type": "markdown",
      "source": [
        "# Modelagem"
      ],
      "metadata": {
        "id": "Oo8jOp5cuaYu"
      }
    },
    {
      "cell_type": "markdown",
      "source": [
        "> Por fim, para realizar a predição de sobrevivência com base um modelo probabilistico, irei aplicar Regressão Logistica para prever a taxa de sobrevivência de 'futuros' passageiros do Titanic.\n",
        "-  Para penalizar variaveis menos impactantes no modelo, utilizarei uma penalização l2, assim posso controlar as variaveis menos relevantes sem removelas completamente."
      ],
      "metadata": {
        "id": "3pxKkkpbub7Q"
      }
    },
    {
      "cell_type": "code",
      "source": [
        "df"
      ],
      "metadata": {
        "colab": {
          "base_uri": "https://localhost:8080/",
          "height": 423
        },
        "id": "x6_MYMsgtzVT",
        "outputId": "81118126-e603-42dc-8a38-d6cf27816ad9"
      },
      "execution_count": null,
      "outputs": [
        {
          "output_type": "execute_result",
          "data": {
            "text/plain": [
              "     survived  pclass  sex  age  sibsp  parch     fare  alone\n",
              "0           0       3    0   22      1      0   7.2500      0\n",
              "1           1       1    1   38      1      0  71.2833      0\n",
              "2           1       3    1   26      0      0   7.9250      1\n",
              "3           1       1    1   35      1      0  53.1000      0\n",
              "4           0       3    0   35      0      0   8.0500      1\n",
              "..        ...     ...  ...  ...    ...    ...      ...    ...\n",
              "886         0       2    0   27      0      0  13.0000      1\n",
              "887         1       1    1   19      0      0  30.0000      1\n",
              "888         0       3    1   28      1      2  23.4500      0\n",
              "889         1       1    0   26      0      0  30.0000      1\n",
              "890         0       3    0   32      0      0   7.7500      1\n",
              "\n",
              "[891 rows x 8 columns]"
            ],
            "text/html": [
              "\n",
              "  <div id=\"df-f7b2c63c-0903-4ec5-aa7b-b70a196eb826\" class=\"colab-df-container\">\n",
              "    <div>\n",
              "<style scoped>\n",
              "    .dataframe tbody tr th:only-of-type {\n",
              "        vertical-align: middle;\n",
              "    }\n",
              "\n",
              "    .dataframe tbody tr th {\n",
              "        vertical-align: top;\n",
              "    }\n",
              "\n",
              "    .dataframe thead th {\n",
              "        text-align: right;\n",
              "    }\n",
              "</style>\n",
              "<table border=\"1\" class=\"dataframe\">\n",
              "  <thead>\n",
              "    <tr style=\"text-align: right;\">\n",
              "      <th></th>\n",
              "      <th>survived</th>\n",
              "      <th>pclass</th>\n",
              "      <th>sex</th>\n",
              "      <th>age</th>\n",
              "      <th>sibsp</th>\n",
              "      <th>parch</th>\n",
              "      <th>fare</th>\n",
              "      <th>alone</th>\n",
              "    </tr>\n",
              "  </thead>\n",
              "  <tbody>\n",
              "    <tr>\n",
              "      <th>0</th>\n",
              "      <td>0</td>\n",
              "      <td>3</td>\n",
              "      <td>0</td>\n",
              "      <td>22</td>\n",
              "      <td>1</td>\n",
              "      <td>0</td>\n",
              "      <td>7.2500</td>\n",
              "      <td>0</td>\n",
              "    </tr>\n",
              "    <tr>\n",
              "      <th>1</th>\n",
              "      <td>1</td>\n",
              "      <td>1</td>\n",
              "      <td>1</td>\n",
              "      <td>38</td>\n",
              "      <td>1</td>\n",
              "      <td>0</td>\n",
              "      <td>71.2833</td>\n",
              "      <td>0</td>\n",
              "    </tr>\n",
              "    <tr>\n",
              "      <th>2</th>\n",
              "      <td>1</td>\n",
              "      <td>3</td>\n",
              "      <td>1</td>\n",
              "      <td>26</td>\n",
              "      <td>0</td>\n",
              "      <td>0</td>\n",
              "      <td>7.9250</td>\n",
              "      <td>1</td>\n",
              "    </tr>\n",
              "    <tr>\n",
              "      <th>3</th>\n",
              "      <td>1</td>\n",
              "      <td>1</td>\n",
              "      <td>1</td>\n",
              "      <td>35</td>\n",
              "      <td>1</td>\n",
              "      <td>0</td>\n",
              "      <td>53.1000</td>\n",
              "      <td>0</td>\n",
              "    </tr>\n",
              "    <tr>\n",
              "      <th>4</th>\n",
              "      <td>0</td>\n",
              "      <td>3</td>\n",
              "      <td>0</td>\n",
              "      <td>35</td>\n",
              "      <td>0</td>\n",
              "      <td>0</td>\n",
              "      <td>8.0500</td>\n",
              "      <td>1</td>\n",
              "    </tr>\n",
              "    <tr>\n",
              "      <th>...</th>\n",
              "      <td>...</td>\n",
              "      <td>...</td>\n",
              "      <td>...</td>\n",
              "      <td>...</td>\n",
              "      <td>...</td>\n",
              "      <td>...</td>\n",
              "      <td>...</td>\n",
              "      <td>...</td>\n",
              "    </tr>\n",
              "    <tr>\n",
              "      <th>886</th>\n",
              "      <td>0</td>\n",
              "      <td>2</td>\n",
              "      <td>0</td>\n",
              "      <td>27</td>\n",
              "      <td>0</td>\n",
              "      <td>0</td>\n",
              "      <td>13.0000</td>\n",
              "      <td>1</td>\n",
              "    </tr>\n",
              "    <tr>\n",
              "      <th>887</th>\n",
              "      <td>1</td>\n",
              "      <td>1</td>\n",
              "      <td>1</td>\n",
              "      <td>19</td>\n",
              "      <td>0</td>\n",
              "      <td>0</td>\n",
              "      <td>30.0000</td>\n",
              "      <td>1</td>\n",
              "    </tr>\n",
              "    <tr>\n",
              "      <th>888</th>\n",
              "      <td>0</td>\n",
              "      <td>3</td>\n",
              "      <td>1</td>\n",
              "      <td>28</td>\n",
              "      <td>1</td>\n",
              "      <td>2</td>\n",
              "      <td>23.4500</td>\n",
              "      <td>0</td>\n",
              "    </tr>\n",
              "    <tr>\n",
              "      <th>889</th>\n",
              "      <td>1</td>\n",
              "      <td>1</td>\n",
              "      <td>0</td>\n",
              "      <td>26</td>\n",
              "      <td>0</td>\n",
              "      <td>0</td>\n",
              "      <td>30.0000</td>\n",
              "      <td>1</td>\n",
              "    </tr>\n",
              "    <tr>\n",
              "      <th>890</th>\n",
              "      <td>0</td>\n",
              "      <td>3</td>\n",
              "      <td>0</td>\n",
              "      <td>32</td>\n",
              "      <td>0</td>\n",
              "      <td>0</td>\n",
              "      <td>7.7500</td>\n",
              "      <td>1</td>\n",
              "    </tr>\n",
              "  </tbody>\n",
              "</table>\n",
              "<p>891 rows × 8 columns</p>\n",
              "</div>\n",
              "    <div class=\"colab-df-buttons\">\n",
              "\n",
              "  <div class=\"colab-df-container\">\n",
              "    <button class=\"colab-df-convert\" onclick=\"convertToInteractive('df-f7b2c63c-0903-4ec5-aa7b-b70a196eb826')\"\n",
              "            title=\"Convert this dataframe to an interactive table.\"\n",
              "            style=\"display:none;\">\n",
              "\n",
              "  <svg xmlns=\"http://www.w3.org/2000/svg\" height=\"24px\" viewBox=\"0 -960 960 960\">\n",
              "    <path d=\"M120-120v-720h720v720H120Zm60-500h600v-160H180v160Zm220 220h160v-160H400v160Zm0 220h160v-160H400v160ZM180-400h160v-160H180v160Zm440 0h160v-160H620v160ZM180-180h160v-160H180v160Zm440 0h160v-160H620v160Z\"/>\n",
              "  </svg>\n",
              "    </button>\n",
              "\n",
              "  <style>\n",
              "    .colab-df-container {\n",
              "      display:flex;\n",
              "      gap: 12px;\n",
              "    }\n",
              "\n",
              "    .colab-df-convert {\n",
              "      background-color: #E8F0FE;\n",
              "      border: none;\n",
              "      border-radius: 50%;\n",
              "      cursor: pointer;\n",
              "      display: none;\n",
              "      fill: #1967D2;\n",
              "      height: 32px;\n",
              "      padding: 0 0 0 0;\n",
              "      width: 32px;\n",
              "    }\n",
              "\n",
              "    .colab-df-convert:hover {\n",
              "      background-color: #E2EBFA;\n",
              "      box-shadow: 0px 1px 2px rgba(60, 64, 67, 0.3), 0px 1px 3px 1px rgba(60, 64, 67, 0.15);\n",
              "      fill: #174EA6;\n",
              "    }\n",
              "\n",
              "    .colab-df-buttons div {\n",
              "      margin-bottom: 4px;\n",
              "    }\n",
              "\n",
              "    [theme=dark] .colab-df-convert {\n",
              "      background-color: #3B4455;\n",
              "      fill: #D2E3FC;\n",
              "    }\n",
              "\n",
              "    [theme=dark] .colab-df-convert:hover {\n",
              "      background-color: #434B5C;\n",
              "      box-shadow: 0px 1px 3px 1px rgba(0, 0, 0, 0.15);\n",
              "      filter: drop-shadow(0px 1px 2px rgba(0, 0, 0, 0.3));\n",
              "      fill: #FFFFFF;\n",
              "    }\n",
              "  </style>\n",
              "\n",
              "    <script>\n",
              "      const buttonEl =\n",
              "        document.querySelector('#df-f7b2c63c-0903-4ec5-aa7b-b70a196eb826 button.colab-df-convert');\n",
              "      buttonEl.style.display =\n",
              "        google.colab.kernel.accessAllowed ? 'block' : 'none';\n",
              "\n",
              "      async function convertToInteractive(key) {\n",
              "        const element = document.querySelector('#df-f7b2c63c-0903-4ec5-aa7b-b70a196eb826');\n",
              "        const dataTable =\n",
              "          await google.colab.kernel.invokeFunction('convertToInteractive',\n",
              "                                                    [key], {});\n",
              "        if (!dataTable) return;\n",
              "\n",
              "        const docLinkHtml = 'Like what you see? Visit the ' +\n",
              "          '<a target=\"_blank\" href=https://colab.research.google.com/notebooks/data_table.ipynb>data table notebook</a>'\n",
              "          + ' to learn more about interactive tables.';\n",
              "        element.innerHTML = '';\n",
              "        dataTable['output_type'] = 'display_data';\n",
              "        await google.colab.output.renderOutput(dataTable, element);\n",
              "        const docLink = document.createElement('div');\n",
              "        docLink.innerHTML = docLinkHtml;\n",
              "        element.appendChild(docLink);\n",
              "      }\n",
              "    </script>\n",
              "  </div>\n",
              "\n",
              "\n",
              "<div id=\"df-6d84b0aa-b1e7-461a-864e-b53a58de5ae0\">\n",
              "  <button class=\"colab-df-quickchart\" onclick=\"quickchart('df-6d84b0aa-b1e7-461a-864e-b53a58de5ae0')\"\n",
              "            title=\"Suggest charts\"\n",
              "            style=\"display:none;\">\n",
              "\n",
              "<svg xmlns=\"http://www.w3.org/2000/svg\" height=\"24px\"viewBox=\"0 0 24 24\"\n",
              "     width=\"24px\">\n",
              "    <g>\n",
              "        <path d=\"M19 3H5c-1.1 0-2 .9-2 2v14c0 1.1.9 2 2 2h14c1.1 0 2-.9 2-2V5c0-1.1-.9-2-2-2zM9 17H7v-7h2v7zm4 0h-2V7h2v10zm4 0h-2v-4h2v4z\"/>\n",
              "    </g>\n",
              "</svg>\n",
              "  </button>\n",
              "\n",
              "<style>\n",
              "  .colab-df-quickchart {\n",
              "      --bg-color: #E8F0FE;\n",
              "      --fill-color: #1967D2;\n",
              "      --hover-bg-color: #E2EBFA;\n",
              "      --hover-fill-color: #174EA6;\n",
              "      --disabled-fill-color: #AAA;\n",
              "      --disabled-bg-color: #DDD;\n",
              "  }\n",
              "\n",
              "  [theme=dark] .colab-df-quickchart {\n",
              "      --bg-color: #3B4455;\n",
              "      --fill-color: #D2E3FC;\n",
              "      --hover-bg-color: #434B5C;\n",
              "      --hover-fill-color: #FFFFFF;\n",
              "      --disabled-bg-color: #3B4455;\n",
              "      --disabled-fill-color: #666;\n",
              "  }\n",
              "\n",
              "  .colab-df-quickchart {\n",
              "    background-color: var(--bg-color);\n",
              "    border: none;\n",
              "    border-radius: 50%;\n",
              "    cursor: pointer;\n",
              "    display: none;\n",
              "    fill: var(--fill-color);\n",
              "    height: 32px;\n",
              "    padding: 0;\n",
              "    width: 32px;\n",
              "  }\n",
              "\n",
              "  .colab-df-quickchart:hover {\n",
              "    background-color: var(--hover-bg-color);\n",
              "    box-shadow: 0 1px 2px rgba(60, 64, 67, 0.3), 0 1px 3px 1px rgba(60, 64, 67, 0.15);\n",
              "    fill: var(--button-hover-fill-color);\n",
              "  }\n",
              "\n",
              "  .colab-df-quickchart-complete:disabled,\n",
              "  .colab-df-quickchart-complete:disabled:hover {\n",
              "    background-color: var(--disabled-bg-color);\n",
              "    fill: var(--disabled-fill-color);\n",
              "    box-shadow: none;\n",
              "  }\n",
              "\n",
              "  .colab-df-spinner {\n",
              "    border: 2px solid var(--fill-color);\n",
              "    border-color: transparent;\n",
              "    border-bottom-color: var(--fill-color);\n",
              "    animation:\n",
              "      spin 1s steps(1) infinite;\n",
              "  }\n",
              "\n",
              "  @keyframes spin {\n",
              "    0% {\n",
              "      border-color: transparent;\n",
              "      border-bottom-color: var(--fill-color);\n",
              "      border-left-color: var(--fill-color);\n",
              "    }\n",
              "    20% {\n",
              "      border-color: transparent;\n",
              "      border-left-color: var(--fill-color);\n",
              "      border-top-color: var(--fill-color);\n",
              "    }\n",
              "    30% {\n",
              "      border-color: transparent;\n",
              "      border-left-color: var(--fill-color);\n",
              "      border-top-color: var(--fill-color);\n",
              "      border-right-color: var(--fill-color);\n",
              "    }\n",
              "    40% {\n",
              "      border-color: transparent;\n",
              "      border-right-color: var(--fill-color);\n",
              "      border-top-color: var(--fill-color);\n",
              "    }\n",
              "    60% {\n",
              "      border-color: transparent;\n",
              "      border-right-color: var(--fill-color);\n",
              "    }\n",
              "    80% {\n",
              "      border-color: transparent;\n",
              "      border-right-color: var(--fill-color);\n",
              "      border-bottom-color: var(--fill-color);\n",
              "    }\n",
              "    90% {\n",
              "      border-color: transparent;\n",
              "      border-bottom-color: var(--fill-color);\n",
              "    }\n",
              "  }\n",
              "</style>\n",
              "\n",
              "  <script>\n",
              "    async function quickchart(key) {\n",
              "      const quickchartButtonEl =\n",
              "        document.querySelector('#' + key + ' button');\n",
              "      quickchartButtonEl.disabled = true;  // To prevent multiple clicks.\n",
              "      quickchartButtonEl.classList.add('colab-df-spinner');\n",
              "      try {\n",
              "        const charts = await google.colab.kernel.invokeFunction(\n",
              "            'suggestCharts', [key], {});\n",
              "      } catch (error) {\n",
              "        console.error('Error during call to suggestCharts:', error);\n",
              "      }\n",
              "      quickchartButtonEl.classList.remove('colab-df-spinner');\n",
              "      quickchartButtonEl.classList.add('colab-df-quickchart-complete');\n",
              "    }\n",
              "    (() => {\n",
              "      let quickchartButtonEl =\n",
              "        document.querySelector('#df-6d84b0aa-b1e7-461a-864e-b53a58de5ae0 button');\n",
              "      quickchartButtonEl.style.display =\n",
              "        google.colab.kernel.accessAllowed ? 'block' : 'none';\n",
              "    })();\n",
              "  </script>\n",
              "</div>\n",
              "\n",
              "  <div id=\"id_1991173e-3a49-4b11-ac4c-5deed4bd6a6a\">\n",
              "    <style>\n",
              "      .colab-df-generate {\n",
              "        background-color: #E8F0FE;\n",
              "        border: none;\n",
              "        border-radius: 50%;\n",
              "        cursor: pointer;\n",
              "        display: none;\n",
              "        fill: #1967D2;\n",
              "        height: 32px;\n",
              "        padding: 0 0 0 0;\n",
              "        width: 32px;\n",
              "      }\n",
              "\n",
              "      .colab-df-generate:hover {\n",
              "        background-color: #E2EBFA;\n",
              "        box-shadow: 0px 1px 2px rgba(60, 64, 67, 0.3), 0px 1px 3px 1px rgba(60, 64, 67, 0.15);\n",
              "        fill: #174EA6;\n",
              "      }\n",
              "\n",
              "      [theme=dark] .colab-df-generate {\n",
              "        background-color: #3B4455;\n",
              "        fill: #D2E3FC;\n",
              "      }\n",
              "\n",
              "      [theme=dark] .colab-df-generate:hover {\n",
              "        background-color: #434B5C;\n",
              "        box-shadow: 0px 1px 3px 1px rgba(0, 0, 0, 0.15);\n",
              "        filter: drop-shadow(0px 1px 2px rgba(0, 0, 0, 0.3));\n",
              "        fill: #FFFFFF;\n",
              "      }\n",
              "    </style>\n",
              "    <button class=\"colab-df-generate\" onclick=\"generateWithVariable('df')\"\n",
              "            title=\"Generate code using this dataframe.\"\n",
              "            style=\"display:none;\">\n",
              "\n",
              "  <svg xmlns=\"http://www.w3.org/2000/svg\" height=\"24px\"viewBox=\"0 0 24 24\"\n",
              "       width=\"24px\">\n",
              "    <path d=\"M7,19H8.4L18.45,9,17,7.55,7,17.6ZM5,21V16.75L18.45,3.32a2,2,0,0,1,2.83,0l1.4,1.43a1.91,1.91,0,0,1,.58,1.4,1.91,1.91,0,0,1-.58,1.4L9.25,21ZM18.45,9,17,7.55Zm-12,3A5.31,5.31,0,0,0,4.9,8.1,5.31,5.31,0,0,0,1,6.5,5.31,5.31,0,0,0,4.9,4.9,5.31,5.31,0,0,0,6.5,1,5.31,5.31,0,0,0,8.1,4.9,5.31,5.31,0,0,0,12,6.5,5.46,5.46,0,0,0,6.5,12Z\"/>\n",
              "  </svg>\n",
              "    </button>\n",
              "    <script>\n",
              "      (() => {\n",
              "      const buttonEl =\n",
              "        document.querySelector('#id_1991173e-3a49-4b11-ac4c-5deed4bd6a6a button.colab-df-generate');\n",
              "      buttonEl.style.display =\n",
              "        google.colab.kernel.accessAllowed ? 'block' : 'none';\n",
              "\n",
              "      buttonEl.onclick = () => {\n",
              "        google.colab.notebook.generateWithVariable('df');\n",
              "      }\n",
              "      })();\n",
              "    </script>\n",
              "  </div>\n",
              "\n",
              "    </div>\n",
              "  </div>\n"
            ],
            "application/vnd.google.colaboratory.intrinsic+json": {
              "type": "dataframe",
              "variable_name": "df",
              "summary": "{\n  \"name\": \"df\",\n  \"rows\": 891,\n  \"fields\": [\n    {\n      \"column\": \"survived\",\n      \"properties\": {\n        \"dtype\": \"number\",\n        \"std\": 0,\n        \"min\": 0,\n        \"max\": 1,\n        \"num_unique_values\": 2,\n        \"samples\": [\n          1,\n          0\n        ],\n        \"semantic_type\": \"\",\n        \"description\": \"\"\n      }\n    },\n    {\n      \"column\": \"pclass\",\n      \"properties\": {\n        \"dtype\": \"number\",\n        \"std\": 0,\n        \"min\": 1,\n        \"max\": 3,\n        \"num_unique_values\": 3,\n        \"samples\": [\n          3,\n          1\n        ],\n        \"semantic_type\": \"\",\n        \"description\": \"\"\n      }\n    },\n    {\n      \"column\": \"sex\",\n      \"properties\": {\n        \"dtype\": \"number\",\n        \"std\": 0,\n        \"min\": 0,\n        \"max\": 1,\n        \"num_unique_values\": 2,\n        \"samples\": [\n          1,\n          0\n        ],\n        \"semantic_type\": \"\",\n        \"description\": \"\"\n      }\n    },\n    {\n      \"column\": \"age\",\n      \"properties\": {\n        \"dtype\": \"number\",\n        \"std\": 13,\n        \"min\": 0,\n        \"max\": 80,\n        \"num_unique_values\": 71,\n        \"samples\": [\n          21,\n          22\n        ],\n        \"semantic_type\": \"\",\n        \"description\": \"\"\n      }\n    },\n    {\n      \"column\": \"sibsp\",\n      \"properties\": {\n        \"dtype\": \"number\",\n        \"std\": 1,\n        \"min\": 0,\n        \"max\": 8,\n        \"num_unique_values\": 7,\n        \"samples\": [\n          1,\n          0\n        ],\n        \"semantic_type\": \"\",\n        \"description\": \"\"\n      }\n    },\n    {\n      \"column\": \"parch\",\n      \"properties\": {\n        \"dtype\": \"number\",\n        \"std\": 0,\n        \"min\": 0,\n        \"max\": 6,\n        \"num_unique_values\": 7,\n        \"samples\": [\n          0,\n          1\n        ],\n        \"semantic_type\": \"\",\n        \"description\": \"\"\n      }\n    },\n    {\n      \"column\": \"fare\",\n      \"properties\": {\n        \"dtype\": \"number\",\n        \"std\": 49.693428597180905,\n        \"min\": 0.0,\n        \"max\": 512.3292,\n        \"num_unique_values\": 248,\n        \"samples\": [\n          11.2417,\n          51.8625\n        ],\n        \"semantic_type\": \"\",\n        \"description\": \"\"\n      }\n    },\n    {\n      \"column\": \"alone\",\n      \"properties\": {\n        \"dtype\": \"number\",\n        \"std\": 0,\n        \"min\": 0,\n        \"max\": 1,\n        \"num_unique_values\": 2,\n        \"samples\": [\n          1,\n          0\n        ],\n        \"semantic_type\": \"\",\n        \"description\": \"\"\n      }\n    }\n  ]\n}"
            }
          },
          "metadata": {},
          "execution_count": 55
        }
      ]
    },
    {
      "cell_type": "code",
      "source": [
        "from sklearn.model_selection import train_test_split\n",
        "from sklearn.linear_model import LogisticRegression\n",
        "from sklearn.metrics import accuracy_score, classification_report, confusion_matrix\n",
        "from sklearn.preprocessing import StandardScaler\n",
        "from sklearn.pipeline import make_pipeline\n",
        "from sklearn.model_selection import GridSearchCV\n",
        "\n",
        "X = df.drop('Survived', axis=1)\n",
        "y = df['Survived']\n",
        "\n",
        "X_train, X_test, y_train, y_test = train_test_split(X, y, test_size = 0.2, random_state=42)\n",
        "\n",
        "param = {\n",
        "    'logisticregression__penalty': ['l2'],\n",
        "    'logisticregression__C': np.linspace(0.01, 10, 10),\n",
        "    'logisticregression__solver': ['sag', 'saga', 'lbfgs'],\n",
        "    'logisticregression__class_weight': [None, 'balanced']\n",
        "}\n",
        "\n",
        "pipeline = make_pipeline(StandardScaler(), LogisticRegression())"
      ],
      "metadata": {
        "id": "3fxnS7eLwFzK"
      },
      "execution_count": null,
      "outputs": []
    },
    {
      "cell_type": "code",
      "source": [
        "modelo_cv = GridSearchCV(pipeline, param, cv=5, n_jobs=-1, scoring='accuracy')\n",
        "modelo_cv.fit(X_train, y_train)\n",
        "\n",
        "print(\"Melhores parâmetros encontrado:\")\n",
        "print(modelo_cv.best_params_)\n",
        "print()\n",
        "y_pred = modelo_cv.predict(X_test)\n",
        "\n",
        "print(\"Métricas de classificação:\")\n",
        "print(classification_report(y_test, y_pred))\n",
        "\n",
        "print()\n",
        "print(\"Acuracia:\")\n",
        "print(accuracy_score(y_test, y_pred))"
      ],
      "metadata": {
        "colab": {
          "base_uri": "https://localhost:8080/"
        },
        "id": "_p5zKudnjBfr",
        "outputId": "2f099f8c-4d16-47a3-e322-d191a2c13619"
      },
      "execution_count": null,
      "outputs": [
        {
          "output_type": "stream",
          "name": "stdout",
          "text": [
            "Melhores parâmetros encontrado:\n",
            "{'logisticregression__C': 1.12, 'logisticregression__class_weight': None, 'logisticregression__penalty': 'l2', 'logisticregression__solver': 'sag'}\n",
            "\n",
            "Métricas de classificação:\n",
            "              precision    recall  f1-score   support\n",
            "\n",
            "           0       0.81      0.87      0.84       105\n",
            "           1       0.79      0.72      0.75        74\n",
            "\n",
            "    accuracy                           0.80       179\n",
            "   macro avg       0.80      0.79      0.80       179\n",
            "weighted avg       0.80      0.80      0.80       179\n",
            "\n",
            "\n",
            "Acuracia:\n",
            "0.8044692737430168\n"
          ]
        }
      ]
    },
    {
      "cell_type": "code",
      "source": [
        "matriz_conf = confusion_matrix(y_test, y_pred)\n",
        "\n",
        "sns.heatmap(matriz_conf, annot=True, fmt='d', cmap='Blues')\n",
        "plt.xlabel('Valores Preditos')\n",
        "plt.ylabel('Valores Reais')\n",
        "plt.title('Matriz de Confusão')\n",
        "plt.show()"
      ],
      "metadata": {
        "colab": {
          "base_uri": "https://localhost:8080/",
          "height": 472
        },
        "id": "4v_d5lKanfcy",
        "outputId": "e8d41307-ffc1-4e67-c359-3e7afe441bef"
      },
      "execution_count": null,
      "outputs": [
        {
          "output_type": "display_data",
          "data": {
            "text/plain": [
              "<Figure size 640x480 with 2 Axes>"
            ],
            "image/png": "[encoded data removed]"
          },
          "metadata": {}
        }
      ]
    },
    {
      "cell_type": "code",
      "source": [
        "from sklearn.metrics import roc_curve, roc_auc_score\n",
        "\n",
        "fpr, tpr, thresholds = roc_curve(y_test, y_pred)\n",
        "\n",
        "roc_auc = roc_auc_score(y_test, y_pred)\n",
        "\n",
        "plt.figure()\n",
        "plt.plot([0, 1], [0, 1], color='navy', lw=2, linestyle='--')\n",
        "plt.plot(fpr, tpr, color='darkorange', lw=2, label='curva ROC (área = %0.2f)' % roc_auc)\n",
        "plt.xlabel('Frequência de Falso Positivo')\n",
        "plt.ylabel('Frequência de Verdadeiro Positivo')\n",
        "plt.title('Curva ROC')\n",
        "plt.legend(loc=\"lower right\")\n",
        "plt.show()"
      ],
      "metadata": {
        "colab": {
          "base_uri": "https://localhost:8080/",
          "height": 472
        },
        "id": "aFQ5n55mntjo",
        "outputId": "6f9d0f42-833c-465a-e2c6-277226c77b1d"
      },
      "execution_count": null,
      "outputs": [
        {
          "output_type": "display_data",
          "data": {
            "text/plain": [
              "<Figure size 640x480 with 1 Axes>"
            ],
            "image/png": "[encoded data removed]"
          },
          "metadata": {}
        }
      ]
    }
  ]
}