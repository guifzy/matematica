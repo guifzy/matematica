{
  "nbformat": 4,
  "nbformat_minor": 0,
  "metadata": {
    "colab": {
      "provenance": [],
      "toc_visible": true,
      "authorship_tag": "ABX9TyONyDv3hH0/DzuR4/vuSShM",
      "include_colab_link": true
    },
    "kernelspec": {
      "name": "python3",
      "display_name": "Python 3"
    },
    "language_info": {
      "name": "python"
    }
  },
  "cells": [
    {
      "cell_type": "markdown",
      "metadata": {
        "id": "view-in-github",
        "colab_type": "text"
      },
      "source": [
        "<a href=\"https://colab.research.google.com/github/guifzy/matematica/blob/main/linear_algebra.ipynb\" target=\"_parent\"><img src=\"https://colab.research.google.com/assets/colab-badge.svg\" alt=\"Open In Colab\"/></a>"
      ]
    },
    {
      "cell_type": "markdown",
      "source": [
        "**TENSORS: nome dado a variaveis de diferentes dimensões**\n",
        "\n",
        "---\n",
        "\n",
        "\n",
        "x = scaler;\n",
        "[x, y] = vector;\n",
        "[[x, y], [z, w]] = matrix;\n",
        "3D matrix = 3-tensor;\n",
        "3D+ matrix = n-tensor;"
      ],
      "metadata": {
        "id": "YaAW-e0kjjW7"
      }
    },
    {
      "cell_type": "markdown",
      "source": [
        "#Importando as Bibliotecas"
      ],
      "metadata": {
        "id": "lNTT_vgk7shW"
      }
    },
    {
      "cell_type": "code",
      "source": [
        "import numpy as np\n",
        "import torch\n",
        "import matplotlib.pyplot as plt"
      ],
      "metadata": {
        "id": "6tQTXWRilYS9"
      },
      "execution_count": 2,
      "outputs": []
    },
    {
      "cell_type": "markdown",
      "source": [
        "# 1- Conceitos Básicos de Algebra linear"
      ],
      "metadata": {
        "id": "zL6dip-uWJSu"
      }
    },
    {
      "cell_type": "markdown",
      "source": [
        "## $L^2$ Norm(Módulo de um vetor) -> Distância de um vetor x"
      ],
      "metadata": {
        "id": "tzd_h_qSlPn_"
      }
    },
    {
      "cell_type": "code",
      "execution_count": null,
      "metadata": {
        "colab": {
          "base_uri": "https://localhost:8080/"
        },
        "id": "FMQCJ-7Vh0a_",
        "outputId": "45998ee9-18c0-4bcc-9233-7d23392f2775"
      },
      "outputs": [
        {
          "output_type": "execute_result",
          "data": {
            "text/plain": [
              "array([25,  2,  5])"
            ]
          },
          "metadata": {},
          "execution_count": 2
        }
      ],
      "source": [
        "x = np.array([25, 2, 5])\n",
        "x"
      ]
    },
    {
      "cell_type": "code",
      "source": [
        "#forma tradicional\n",
        "(25**2 + 2**2 + 5**2)**(1/2)"
      ],
      "metadata": {
        "colab": {
          "base_uri": "https://localhost:8080/"
        },
        "id": "_g4H8we5ltLY",
        "outputId": "e05d2123-a1d2-4e88-a541-9c35bfb8a7b1"
      },
      "execution_count": null,
      "outputs": [
        {
          "output_type": "execute_result",
          "data": {
            "text/plain": [
              "25.573423705088842"
            ]
          },
          "metadata": {},
          "execution_count": 5
        }
      ]
    },
    {
      "cell_type": "code",
      "source": [
        "#usando numpy\n",
        "np.linalg.norm(x)"
      ],
      "metadata": {
        "colab": {
          "base_uri": "https://localhost:8080/"
        },
        "id": "FPAoqeq1nRHi",
        "outputId": "a154a553-d7e3-416e-9f2c-d3360c0a430b"
      },
      "execution_count": null,
      "outputs": [
        {
          "output_type": "execute_result",
          "data": {
            "text/plain": [
              "25.573423705088842"
            ]
          },
          "metadata": {},
          "execution_count": 4
        }
      ]
    },
    {
      "cell_type": "code",
      "source": [
        "#usnado torch\n",
        "torch.norm(torch.tensor([25, 2, 5.]))"
      ],
      "metadata": {
        "colab": {
          "base_uri": "https://localhost:8080/"
        },
        "id": "A8LtRk_Nn0QU",
        "outputId": "ead11483-1dc5-42a7-f8c3-2363484f5782"
      },
      "execution_count": null,
      "outputs": [
        {
          "output_type": "execute_result",
          "data": {
            "text/plain": [
              "tensor(25.5734)"
            ]
          },
          "metadata": {},
          "execution_count": 6
        }
      ]
    },
    {
      "cell_type": "markdown",
      "source": [
        "##**Matrizes e Matriz transposta**"
      ],
      "metadata": {
        "id": "9t16Urecn7vm"
      }
    },
    {
      "cell_type": "code",
      "source": [
        "X = np.array([[25, 2], [5, 26], [3, 7]])\n",
        "X"
      ],
      "metadata": {
        "colab": {
          "base_uri": "https://localhost:8080/"
        },
        "id": "Kf3Edd_zoLY3",
        "outputId": "e0c7d890-6c79-490a-e955-d16cf55273e5"
      },
      "execution_count": null,
      "outputs": [
        {
          "output_type": "execute_result",
          "data": {
            "text/plain": [
              "array([[25,  2],\n",
              "       [ 5, 26],\n",
              "       [ 3,  7]])"
            ]
          },
          "metadata": {},
          "execution_count": 7
        }
      ]
    },
    {
      "cell_type": "code",
      "source": [
        "X.shape"
      ],
      "metadata": {
        "colab": {
          "base_uri": "https://localhost:8080/"
        },
        "id": "_9LR2ocQoOmP",
        "outputId": "cdc87688-2ff1-4199-a7f5-95c99bc1c217"
      },
      "execution_count": null,
      "outputs": [
        {
          "output_type": "execute_result",
          "data": {
            "text/plain": [
              "(3, 2)"
            ]
          },
          "metadata": {},
          "execution_count": 8
        }
      ]
    },
    {
      "cell_type": "code",
      "source": [
        "X_p = torch.tensor([[25, 2], [5, 26], [3, 7]])\n",
        "X_p"
      ],
      "metadata": {
        "colab": {
          "base_uri": "https://localhost:8080/"
        },
        "id": "wMVrhjMeohdp",
        "outputId": "d603798d-e3ad-46c7-cc1c-565f01e13d6c"
      },
      "execution_count": null,
      "outputs": [
        {
          "output_type": "execute_result",
          "data": {
            "text/plain": [
              "tensor([[25,  2],\n",
              "        [ 5, 26],\n",
              "        [ 3,  7]])"
            ]
          },
          "metadata": {},
          "execution_count": 10
        }
      ]
    },
    {
      "cell_type": "code",
      "source": [
        "X_p.shape"
      ],
      "metadata": {
        "colab": {
          "base_uri": "https://localhost:8080/"
        },
        "id": "zngGzEshollY",
        "outputId": "b54dff3b-af4b-4a34-faf8-021d2db674a2"
      },
      "execution_count": null,
      "outputs": [
        {
          "output_type": "execute_result",
          "data": {
            "text/plain": [
              "torch.Size([3, 2])"
            ]
          },
          "metadata": {},
          "execution_count": 11
        }
      ]
    },
    {
      "cell_type": "code",
      "source": [
        "X.T"
      ],
      "metadata": {
        "colab": {
          "base_uri": "https://localhost:8080/"
        },
        "id": "fOFVFed9onsz",
        "outputId": "aa44a50e-c8d6-4545-f5d5-04f3ae6a8a6a"
      },
      "execution_count": null,
      "outputs": [
        {
          "output_type": "execute_result",
          "data": {
            "text/plain": [
              "array([[25,  5,  3],\n",
              "       [ 2, 26,  7]])"
            ]
          },
          "metadata": {},
          "execution_count": 12
        }
      ]
    },
    {
      "cell_type": "code",
      "source": [
        "X_p.T\n",
        "#Mesmo comando para as duas bibliotecas"
      ],
      "metadata": {
        "colab": {
          "base_uri": "https://localhost:8080/"
        },
        "id": "NqZH8OiyosSs",
        "outputId": "1fd3c227-ea59-4ab0-9886-0d7879e5417e"
      },
      "execution_count": null,
      "outputs": [
        {
          "output_type": "execute_result",
          "data": {
            "text/plain": [
              "tensor([[25,  5,  3],\n",
              "        [ 2, 26,  7]])"
            ]
          },
          "metadata": {},
          "execution_count": 13
        }
      ]
    },
    {
      "cell_type": "markdown",
      "source": [
        "##**Dot Product(Pruduto Escalar)**"
      ],
      "metadata": {
        "id": "Q-yzLTvfsPS0"
      }
    },
    {
      "cell_type": "markdown",
      "source": [
        "Multiplicação entre dois vetores, associação de dois vetores a um número real"
      ],
      "metadata": {
        "id": "T2LiTgrmsg6i"
      }
    },
    {
      "cell_type": "code",
      "source": [
        "b = np.array([1, 2, 3])\n",
        "b"
      ],
      "metadata": {
        "colab": {
          "base_uri": "https://localhost:8080/"
        },
        "id": "SIbFgV93sYIa",
        "outputId": "0b066854-8c24-4530-a325-c741966297f2"
      },
      "execution_count": null,
      "outputs": [
        {
          "output_type": "execute_result",
          "data": {
            "text/plain": [
              "array([1, 2, 3])"
            ]
          },
          "metadata": {},
          "execution_count": 21
        }
      ]
    },
    {
      "cell_type": "code",
      "source": [
        "x"
      ],
      "metadata": {
        "colab": {
          "base_uri": "https://localhost:8080/"
        },
        "id": "zJIWxvqLszoB",
        "outputId": "9490e7ea-f7f1-4a66-fa1b-a985a84d8970"
      },
      "execution_count": null,
      "outputs": [
        {
          "output_type": "execute_result",
          "data": {
            "text/plain": [
              "array([25,  2,  5])"
            ]
          },
          "metadata": {},
          "execution_count": 22
        }
      ]
    },
    {
      "cell_type": "code",
      "source": [
        "np.dot(b, x)"
      ],
      "metadata": {
        "colab": {
          "base_uri": "https://localhost:8080/"
        },
        "id": "vrbNj5cSs06X",
        "outputId": "ff4b5d5e-f474-4418-a836-fec0cd3fd0f1"
      },
      "execution_count": null,
      "outputs": [
        {
          "output_type": "execute_result",
          "data": {
            "text/plain": [
              "44"
            ]
          },
          "metadata": {},
          "execution_count": 23
        }
      ]
    },
    {
      "cell_type": "markdown",
      "source": [
        "##**Multiplicação de Matrizes**"
      ],
      "metadata": {
        "id": "lfZxpscmo3OJ"
      }
    },
    {
      "cell_type": "markdown",
      "source": [
        "Tipos de multiplicação:\n",
        "\n",
        "*   Multiplicação por escalares(multiplica cada elemento da matriz por um escalar)\n",
        "*   Multiplicação entre escalares de uma matriz $A \\odot B$(Handamard product)\n",
        "*   Multiplicação entre matrizes $A \\dot B$\n",
        "\n",
        "\n",
        "\n",
        "\n"
      ],
      "metadata": {
        "id": "b01xnkPbqpNt"
      }
    },
    {
      "cell_type": "code",
      "source": [
        "#Multiplicação por escalares\n",
        "X*3"
      ],
      "metadata": {
        "colab": {
          "base_uri": "https://localhost:8080/"
        },
        "id": "t0a9XAURo2zY",
        "outputId": "39b75526-4c87-4368-fee8-8a019b268f71"
      },
      "execution_count": null,
      "outputs": [
        {
          "output_type": "execute_result",
          "data": {
            "text/plain": [
              "array([[75,  6],\n",
              "       [15, 78],\n",
              "       [ 9, 21]])"
            ]
          },
          "metadata": {},
          "execution_count": 14
        }
      ]
    },
    {
      "cell_type": "code",
      "source": [
        "X*3+3"
      ],
      "metadata": {
        "colab": {
          "base_uri": "https://localhost:8080/"
        },
        "id": "5zghtEFariiP",
        "outputId": "6788839a-0eff-4c02-e49a-7c1566735e3e"
      },
      "execution_count": null,
      "outputs": [
        {
          "output_type": "execute_result",
          "data": {
            "text/plain": [
              "array([[78,  9],\n",
              "       [18, 81],\n",
              "       [12, 24]])"
            ]
          },
          "metadata": {},
          "execution_count": 15
        }
      ]
    },
    {
      "cell_type": "markdown",
      "source": [
        "Hadamard product"
      ],
      "metadata": {
        "id": "hKbBv82CrpG1"
      }
    },
    {
      "cell_type": "code",
      "source": [
        "A = np.array([[3, 4], [5, 6], [7, 8]])\n",
        "A"
      ],
      "metadata": {
        "colab": {
          "base_uri": "https://localhost:8080/"
        },
        "id": "xU5driXarl5g",
        "outputId": "2df05b79-7f18-4589-ecda-1ef60dea8d2e"
      },
      "execution_count": null,
      "outputs": [
        {
          "output_type": "execute_result",
          "data": {
            "text/plain": [
              "array([[3, 4],\n",
              "       [5, 6],\n",
              "       [7, 8]])"
            ]
          },
          "metadata": {},
          "execution_count": 17
        }
      ]
    },
    {
      "cell_type": "code",
      "source": [
        "X"
      ],
      "metadata": {
        "colab": {
          "base_uri": "https://localhost:8080/"
        },
        "id": "PliZcRyOrort",
        "outputId": "76965c42-e53b-4345-99de-82121efc9345"
      },
      "execution_count": null,
      "outputs": [
        {
          "output_type": "execute_result",
          "data": {
            "text/plain": [
              "array([[25,  2],\n",
              "       [ 5, 26],\n",
              "       [ 3,  7]])"
            ]
          },
          "metadata": {},
          "execution_count": 16
        }
      ]
    },
    {
      "cell_type": "code",
      "source": [
        "X * A #Multiplica cada escalar individualmente"
      ],
      "metadata": {
        "colab": {
          "base_uri": "https://localhost:8080/"
        },
        "id": "jfoBIgvgr8Pq",
        "outputId": "f6255820-f5b6-467a-f853-3d3be8ac86af"
      },
      "execution_count": null,
      "outputs": [
        {
          "output_type": "execute_result",
          "data": {
            "text/plain": [
              "array([[ 75,   8],\n",
              "       [ 25, 156],\n",
              "       [ 21,  56]])"
            ]
          },
          "metadata": {},
          "execution_count": 18
        }
      ]
    },
    {
      "cell_type": "markdown",
      "source": [
        "Multiplicação de matrizes\n",
        "\n",
        "*   Número de colunas da primeira deve ser igual ao número de linhas da outra matriz, 3,3 & 3,2 por exemplo ;\n",
        "*   $A \\dot B$ != $B \\dot A$ ;\n",
        "\n"
      ],
      "metadata": {
        "id": "5ojSY16ZsFeZ"
      }
    },
    {
      "cell_type": "code",
      "source": [
        "A"
      ],
      "metadata": {
        "colab": {
          "base_uri": "https://localhost:8080/"
        },
        "id": "ls3adcT2tP0b",
        "outputId": "50d51c9c-ec14-4d9b-f00d-dd0df08f0309"
      },
      "execution_count": null,
      "outputs": [
        {
          "output_type": "execute_result",
          "data": {
            "text/plain": [
              "array([[3, 4],\n",
              "       [5, 6],\n",
              "       [7, 8]])"
            ]
          },
          "metadata": {},
          "execution_count": 24
        }
      ]
    },
    {
      "cell_type": "code",
      "source": [
        "B = np.array([[1, 9], [2, 0]])\n",
        "B"
      ],
      "metadata": {
        "colab": {
          "base_uri": "https://localhost:8080/"
        },
        "id": "OweXS3QNvFdq",
        "outputId": "4df7978d-eec0-4bff-ac4d-2c20243d9943"
      },
      "execution_count": null,
      "outputs": [
        {
          "output_type": "execute_result",
          "data": {
            "text/plain": [
              "array([[1, 9],\n",
              "       [2, 0]])"
            ]
          },
          "metadata": {},
          "execution_count": 26
        }
      ]
    },
    {
      "cell_type": "code",
      "source": [
        "A.shape"
      ],
      "metadata": {
        "colab": {
          "base_uri": "https://localhost:8080/"
        },
        "id": "_D5RqjkYvbBg",
        "outputId": "257e17b5-3655-4726-d980-cc2e31b979fa"
      },
      "execution_count": null,
      "outputs": [
        {
          "output_type": "execute_result",
          "data": {
            "text/plain": [
              "(2, 2)"
            ]
          },
          "metadata": {},
          "execution_count": 27
        }
      ]
    },
    {
      "cell_type": "code",
      "source": [
        "B.shape"
      ],
      "metadata": {
        "colab": {
          "base_uri": "https://localhost:8080/"
        },
        "id": "3InK9bW_vf4J",
        "outputId": "2bf8e406-b076-4d26-cfc9-4745afcf373f"
      },
      "execution_count": null,
      "outputs": [
        {
          "output_type": "execute_result",
          "data": {
            "text/plain": [
              "(2, 2)"
            ]
          },
          "metadata": {},
          "execution_count": 29
        }
      ]
    },
    {
      "cell_type": "code",
      "source": [
        "np.dot(A, B) #coluna da primeira igual linha da segunda"
      ],
      "metadata": {
        "colab": {
          "base_uri": "https://localhost:8080/"
        },
        "id": "U5Qjv4Y_vRVa",
        "outputId": "7ae1624a-247f-4010-9588-37d10bc92d83"
      },
      "execution_count": null,
      "outputs": [
        {
          "output_type": "execute_result",
          "data": {
            "text/plain": [
              "array([[11, 27],\n",
              "       [17, 45],\n",
              "       [23, 63]])"
            ]
          },
          "metadata": {},
          "execution_count": 30
        }
      ]
    },
    {
      "cell_type": "code",
      "source": [
        "A_p = torch.tensor([[3, 4], [5, 6], [7, 8]])\n",
        "A_p"
      ],
      "metadata": {
        "colab": {
          "base_uri": "https://localhost:8080/"
        },
        "id": "bugQNhsOvp0j",
        "outputId": "ce388b53-c731-4c2d-dd9d-eec64283823b"
      },
      "execution_count": null,
      "outputs": [
        {
          "output_type": "execute_result",
          "data": {
            "text/plain": [
              "tensor([[3, 4],\n",
              "        [5, 6],\n",
              "        [7, 8]])"
            ]
          },
          "metadata": {},
          "execution_count": 31
        }
      ]
    },
    {
      "cell_type": "code",
      "source": [
        "B_p = torch.tensor([[1, 9], [2, 0]])\n",
        "B_p"
      ],
      "metadata": {
        "colab": {
          "base_uri": "https://localhost:8080/"
        },
        "id": "UJ--e10ZvrR-",
        "outputId": "ebf09b8e-cba3-4057-ccd0-06d9c856c4d1"
      },
      "execution_count": null,
      "outputs": [
        {
          "output_type": "execute_result",
          "data": {
            "text/plain": [
              "tensor([[1, 9],\n",
              "        [2, 0]])"
            ]
          },
          "metadata": {},
          "execution_count": 33
        }
      ]
    },
    {
      "cell_type": "code",
      "source": [
        "torch.matmul(A_p, B_p) #Usando o pyTorch"
      ],
      "metadata": {
        "colab": {
          "base_uri": "https://localhost:8080/"
        },
        "id": "NnHkk8EYwAxQ",
        "outputId": "2aae1737-b88b-4e64-8edf-b36cd9354123"
      },
      "execution_count": null,
      "outputs": [
        {
          "output_type": "execute_result",
          "data": {
            "text/plain": [
              "tensor([[11, 27],\n",
              "        [17, 45],\n",
              "        [23, 63]])"
            ]
          },
          "metadata": {},
          "execution_count": 34
        }
      ]
    },
    {
      "cell_type": "markdown",
      "source": [
        "**Matriz Identidade**"
      ],
      "metadata": {
        "id": "m9lZqkR_zRDk"
      }
    },
    {
      "cell_type": "markdown",
      "source": [
        "## Matrix Inversa"
      ],
      "metadata": {
        "id": "MEmgpg9-xht7"
      }
    },
    {
      "cell_type": "code",
      "source": [
        "X = np.array([[4, 2], [-5, -3]])\n",
        "X"
      ],
      "metadata": {
        "colab": {
          "base_uri": "https://localhost:8080/"
        },
        "id": "biqC2MDZxkxs",
        "outputId": "f0bac7df-1000-44bb-dd7b-dec2abb53e3a"
      },
      "execution_count": null,
      "outputs": [
        {
          "output_type": "execute_result",
          "data": {
            "text/plain": [
              "array([[ 4,  2],\n",
              "       [-5, -3]])"
            ]
          },
          "metadata": {},
          "execution_count": 35
        }
      ]
    },
    {
      "cell_type": "code",
      "source": [
        "Xinv = np.linalg.inv(X)\n",
        "Xinv"
      ],
      "metadata": {
        "colab": {
          "base_uri": "https://localhost:8080/"
        },
        "id": "V64_ulB8yBjP",
        "outputId": "66b29b5b-db7e-4b40-f0f4-85771199ac2e"
      },
      "execution_count": null,
      "outputs": [
        {
          "output_type": "execute_result",
          "data": {
            "text/plain": [
              "array([[ 1.5,  1. ],\n",
              "       [-2.5, -2. ]])"
            ]
          },
          "metadata": {},
          "execution_count": 38
        }
      ]
    },
    {
      "cell_type": "markdown",
      "source": [
        "\n",
        "\n",
        "---\n",
        "\n",
        "\n",
        "\n",
        "---\n",
        "\n"
      ],
      "metadata": {
        "id": "szq8_pqCp3zb"
      }
    },
    {
      "cell_type": "markdown",
      "source": [
        "# 2- Eigen Formula"
      ],
      "metadata": {
        "id": "Pd6JhYLYIkrZ"
      }
    },
    {
      "cell_type": "markdown",
      "source": [
        "> ### Realizando o plot de um vetor\n",
        "\n",
        "Para realização dos plots, ierei fazer uma função que recebe como argumento um vetor e a cor desse vetor"
      ],
      "metadata": {
        "id": "OC1_acoL6CEm"
      }
    },
    {
      "cell_type": "code",
      "source": [
        "def plot_vectors(vectors, colors):\n",
        "  plt.figure() # realiza o plot de uma figura em branco\n",
        "  plt.axvline(x=0, color='lightgray') #determina que a linha passa pelo eixo X na posição 0\n",
        "  plt.axhline(y=0, color='lightgray') #determina que a linha passa pelo eixo y na posição 0\n",
        "\n",
        "\n",
        "  for i in range(len(vectors)): # percorre o tamanho do meu vetor\n",
        "    x = np.concatenate([[0,0],vectors[i]]) # junta os valores do vator [0, 0] co o vetor desejado, ex:\n",
        "    # [0, 0, 1, 2, 3]\n",
        "    plt.quiver([x[0]], [x[1]], [x[2]], [x[3]], angles='xy', scale_units='xy', scale=1, color=colors[i],) # função para imprimir uma\n",
        "    #seta no gráfico que começa no eixo [0, 0]-> primeiras duas posições do vetor, e aponta na direção do terceiro e quarto elemento"
      ],
      "metadata": {
        "id": "jHS_Z1at6FUl"
      },
      "execution_count": null,
      "outputs": []
    },
    {
      "cell_type": "code",
      "source": [
        "v = np.array([3, 1])"
      ],
      "metadata": {
        "id": "oxVQn-uH7f1V"
      },
      "execution_count": null,
      "outputs": []
    },
    {
      "cell_type": "code",
      "source": [
        "plot_vectors([v], ['lightblue'])\n",
        "plt.xlim(-1, 5)\n",
        "_ = plt.ylim(-1, 5)"
      ],
      "metadata": {
        "colab": {
          "base_uri": "https://localhost:8080/",
          "height": 435
        },
        "id": "SQNw4SjQ7dRU",
        "outputId": "64b28f58-0f41-4121-b5f1-1ce3bfd6d664"
      },
      "execution_count": null,
      "outputs": [
        {
          "output_type": "display_data",
          "data": {
            "text/plain": [
              "<Figure size 640x480 with 1 Axes>"
            ],
            "image/png": "[encoded data removed]"
          },
          "metadata": {}
        }
      ]
    },
    {
      "cell_type": "markdown",
      "source": [
        "> ## Affine Transformations( transformação afim )\n",
        "\n",
        "\n",
        "\n",
        "\n",
        "É uma transformação geométrica que preserva linhas e paralelismo, mas não necessariamente distâncias euclidianas e ângulos."
      ],
      "metadata": {
        "id": "ete61xEE9VwB"
      }
    },
    {
      "cell_type": "markdown",
      "source": [
        "**NOTA:**\n",
        "\n",
        "---\n",
        "*   \"Aplicar\" uma matriz a um vetor( multiplicação de matrizes ) pode mudar a forma do vetor( um vetor 3,2 pode se tornar um veotr 2,2 );\n",
        "\n",
        "\n",
        "\n",
        "*   \"Aplicar\" uma matriz identidade a um vetor ou matriz não muda sua forma( qualquer vetor/matrzi vezes uma matriz identidade resulta nele mesmo);\n",
        "---\n"
      ],
      "metadata": {
        "id": "2-CFZE6u78ji"
      }
    },
    {
      "cell_type": "markdown",
      "source": [
        "**1-** Considere uma matriz $E$ capaz de inverter o eixo $x$ de um vetor"
      ],
      "metadata": {
        "id": "ORc75gz_OUFP"
      }
    },
    {
      "cell_type": "code",
      "source": [
        "E = np.array([[1, 0], [0, -1]])\n",
        "E"
      ],
      "metadata": {
        "id": "rP6iAuU1722G",
        "colab": {
          "base_uri": "https://localhost:8080/"
        },
        "outputId": "328e9e5b-12b7-40f7-dac5-524c60ce4aef"
      },
      "execution_count": null,
      "outputs": [
        {
          "output_type": "execute_result",
          "data": {
            "text/plain": [
              "array([[ 1,  0],\n",
              "       [ 0, -1]])"
            ]
          },
          "metadata": {},
          "execution_count": 12
        }
      ]
    },
    {
      "cell_type": "code",
      "source": [
        "Ev = np.dot(E, v)\n",
        "Ev"
      ],
      "metadata": {
        "colab": {
          "base_uri": "https://localhost:8080/"
        },
        "id": "YaKGmYhWOd08",
        "outputId": "bc07f223-f870-416e-f620-fcd6e012e5cf"
      },
      "execution_count": null,
      "outputs": [
        {
          "output_type": "execute_result",
          "data": {
            "text/plain": [
              "array([ 3, -1])"
            ]
          },
          "metadata": {},
          "execution_count": 16
        }
      ]
    },
    {
      "cell_type": "code",
      "source": [
        "plot_vectors([v, Ev], ['lightblue', 'blue'])\n",
        "plt.xlim(-1, 5)\n",
        "_ = plt.ylim(-3, 3)"
      ],
      "metadata": {
        "colab": {
          "base_uri": "https://localhost:8080/",
          "height": 435
        },
        "id": "0BlIte3EOjP8",
        "outputId": "b3c4ce4c-1773-416b-ccb6-73b905c210c8"
      },
      "execution_count": null,
      "outputs": [
        {
          "output_type": "display_data",
          "data": {
            "text/plain": [
              "<Figure size 640x480 with 1 Axes>"
            ],
            "image/png": "[encoded data removed]"
          },
          "metadata": {}
        }
      ]
    },
    {
      "cell_type": "markdown",
      "source": [
        "**2-** Considerando uma matriz $F$ que é capaz de inverter o eixo $y$"
      ],
      "metadata": {
        "id": "vs7-gOF2Ope9"
      }
    },
    {
      "cell_type": "code",
      "source": [
        "F = np.array([[-1, 0], [0, 1]])\n",
        "F"
      ],
      "metadata": {
        "colab": {
          "base_uri": "https://localhost:8080/"
        },
        "id": "C8s7kUcKOpMA",
        "outputId": "50845451-3bf1-40ab-cb3c-737d8dcf65dd"
      },
      "execution_count": null,
      "outputs": [
        {
          "output_type": "execute_result",
          "data": {
            "text/plain": [
              "array([[-1,  0],\n",
              "       [ 0,  1]])"
            ]
          },
          "metadata": {},
          "execution_count": 11
        }
      ]
    },
    {
      "cell_type": "code",
      "source": [
        "Fv = np.dot(F, v)\n",
        "Fv"
      ],
      "metadata": {
        "colab": {
          "base_uri": "https://localhost:8080/"
        },
        "id": "7O_bdk3UP0IG",
        "outputId": "b8defed9-c371-4d3e-c8b7-dd494f3b1cd0"
      },
      "execution_count": null,
      "outputs": [
        {
          "output_type": "execute_result",
          "data": {
            "text/plain": [
              "array([-3,  1])"
            ]
          },
          "metadata": {},
          "execution_count": 12
        }
      ]
    },
    {
      "cell_type": "code",
      "source": [
        "plot_vectors([v, Fv], ['lightblue', 'blue'])\n",
        "plt.xlim(-5, 5)\n",
        "_ = plt.ylim(-1, 5)"
      ],
      "metadata": {
        "colab": {
          "base_uri": "https://localhost:8080/",
          "height": 435
        },
        "id": "kjSC7LmvP4bt",
        "outputId": "09075631-ae66-4ec9-fe88-14f56dd0ff62"
      },
      "execution_count": null,
      "outputs": [
        {
          "output_type": "display_data",
          "data": {
            "text/plain": [
              "<Figure size 640x480 with 1 Axes>"
            ],
            "image/png": "[encoded data removed]"
          },
          "metadata": {}
        }
      ]
    },
    {
      "cell_type": "markdown",
      "source": [
        "Outros exemplos de transformações de vetores por matrizes:"
      ],
      "metadata": {
        "id": "rJ9yGZvjQGTb"
      }
    },
    {
      "cell_type": "code",
      "source": [
        "A = np.array([[-1, 4], [2, -2]]) # matriz para mudar o angulo do vetor\n",
        "A"
      ],
      "metadata": {
        "colab": {
          "base_uri": "https://localhost:8080/"
        },
        "id": "PPoKXL6Zs9gk",
        "outputId": "4fae3af8-a899-426d-8d0b-d88135d59328"
      },
      "execution_count": null,
      "outputs": [
        {
          "output_type": "execute_result",
          "data": {
            "text/plain": [
              "array([[-1,  4],\n",
              "       [ 2, -2]])"
            ]
          },
          "metadata": {},
          "execution_count": 4
        }
      ]
    },
    {
      "cell_type": "code",
      "source": [
        "Av = np.dot(A, v)"
      ],
      "metadata": {
        "id": "-oTQAUprwYKs"
      },
      "execution_count": null,
      "outputs": []
    },
    {
      "cell_type": "code",
      "source": [
        "plot_vectors([v, Av], ['lightgreen', 'green'])\n",
        "plt.xlim(-1, 5)\n",
        "_ = plt.ylim(-1, 5)"
      ],
      "metadata": {
        "colab": {
          "base_uri": "https://localhost:8080/",
          "height": 435
        },
        "id": "xRgKlkJNwgyj",
        "outputId": "7a80b7be-2b7e-4691-9ffb-57665a67fb8d"
      },
      "execution_count": null,
      "outputs": [
        {
          "output_type": "display_data",
          "data": {
            "text/plain": [
              "<Figure size 640x480 with 1 Axes>"
            ],
            "image/png": "[encoded data removed]"
          },
          "metadata": {}
        }
      ]
    },
    {
      "cell_type": "code",
      "source": [
        "v2 = np.array([2, 1])\n",
        "plot_vectors([v2, np.dot(A, v2)], ['lightgreen', 'green'])\n",
        "plt.xlim(-1, 5)\n",
        "_ = plt.ylim(-1, 5)"
      ],
      "metadata": {
        "colab": {
          "base_uri": "https://localhost:8080/",
          "height": 435
        },
        "id": "WHz6YMfnwqWd",
        "outputId": "ea494060-3572-4da2-ede3-ff0a03027f68"
      },
      "execution_count": null,
      "outputs": [
        {
          "output_type": "display_data",
          "data": {
            "text/plain": [
              "<Figure size 640x480 with 1 Axes>"
            ],
            "image/png": "[encoded data removed]"
          },
          "metadata": {}
        }
      ]
    },
    {
      "cell_type": "markdown",
      "source": [
        "\n",
        "\n",
        "> ## Eigenvectors and Eigenvalues\n",
        "\n"
      ],
      "metadata": {
        "id": "ay5H2v00Ve7J"
      }
    },
    {
      "cell_type": "markdown",
      "source": [
        "\n",
        "\n",
        "---\n",
        "\n",
        "\n",
        "\n",
        "*   **Eigenvectors:** é um vetor especial associado a uma matriz onde, quando transformado por esse mesma matriz, sua direção permanece a mesma, apenas são escalados( mudam seus valores individuais );\n",
        "\n",
        "\n",
        "\n",
        "\n",
        "\n",
        "*   **Eigenvalues:** de forma simplificada, é um escalar que escala  o vetor especial( Eigenvector ), representado por $\\lambda$, atende a seguinte fórmula:\n",
        "\n",
        "\n",
        "\n",
        "> $Av = \\lambda v$\n",
        "\n",
        "\n",
        "\n",
        "---\n",
        "OBS: Quando um vetor especial muda sua direção devido a uma transformação por uma matriz $x$, pode-se dizer que ele não é um $Eigenvector$ dessa mestriz.\n",
        "\n"
      ],
      "metadata": {
        "id": "4zojFM4feYKX"
      }
    },
    {
      "cell_type": "code",
      "source": [
        "A"
      ],
      "metadata": {
        "colab": {
          "base_uri": "https://localhost:8080/"
        },
        "id": "Ep1zaPI0Q76-",
        "outputId": "9115b613-1e09-456c-cd68-7cf0be7b3920"
      },
      "execution_count": null,
      "outputs": [
        {
          "output_type": "execute_result",
          "data": {
            "text/plain": [
              "array([[-1,  4],\n",
              "       [ 2, -2]])"
            ]
          },
          "metadata": {},
          "execution_count": 15
        }
      ]
    },
    {
      "cell_type": "markdown",
      "source": [
        "Para realizar as operações, irei usar a função *eig()*, que retorna dois parâmetros de uma matriz:\n",
        "\n",
        "*   Um vetor de eigenvalues;\n",
        "*   Uma matriz de eingenvectors;\n",
        "\n"
      ],
      "metadata": {
        "id": "1_ioDAyGjzoY"
      }
    },
    {
      "cell_type": "code",
      "source": [
        "lambdas, V = np.linalg.eig(A)"
      ],
      "metadata": {
        "id": "Ov7F3RmOjy_7"
      },
      "execution_count": null,
      "outputs": []
    },
    {
      "cell_type": "code",
      "source": [
        "V # cada coluna de uma matriz é um eigenvector"
      ],
      "metadata": {
        "colab": {
          "base_uri": "https://localhost:8080/"
        },
        "id": "defJhUBfkps6",
        "outputId": "537b548f-7f3d-471f-81e8-f9860552487d"
      },
      "execution_count": null,
      "outputs": [
        {
          "output_type": "execute_result",
          "data": {
            "text/plain": [
              "array([[ 0.86011126, -0.76454754],\n",
              "       [ 0.51010647,  0.64456735]])"
            ]
          },
          "metadata": {},
          "execution_count": 17
        }
      ]
    },
    {
      "cell_type": "code",
      "source": [
        "lambdas"
      ],
      "metadata": {
        "colab": {
          "base_uri": "https://localhost:8080/"
        },
        "id": "1ShpTh5GkvNZ",
        "outputId": "ec314f68-90c8-4972-bea1-50c8bb3b576c"
      },
      "execution_count": null,
      "outputs": [
        {
          "output_type": "execute_result",
          "data": {
            "text/plain": [
              "array([ 1.37228132, -4.37228132])"
            ]
          },
          "metadata": {},
          "execution_count": 18
        }
      ]
    },
    {
      "cell_type": "markdown",
      "source": [
        "Aplicando a fórmula:\n",
        "\n",
        "$Av = \\lambda v$"
      ],
      "metadata": {
        "id": "cvzymLWrkzSh"
      }
    },
    {
      "cell_type": "code",
      "source": [
        "# Armazenei o primerio vetor e o primeiro escalar e duas variaveis\n",
        "lamb = lambdas[0]\n",
        "v = V[:,0]"
      ],
      "metadata": {
        "id": "pElpwDvZkxET"
      },
      "execution_count": null,
      "outputs": []
    },
    {
      "cell_type": "code",
      "source": [
        "Av = np.dot(A, v)\n",
        "Av"
      ],
      "metadata": {
        "colab": {
          "base_uri": "https://localhost:8080/"
        },
        "id": "V1j8eiLolIaR",
        "outputId": "66be6f85-99bd-46bc-ca90-363ad9a46be8"
      },
      "execution_count": null,
      "outputs": [
        {
          "output_type": "execute_result",
          "data": {
            "text/plain": [
              "array([1.18031462, 0.70000958])"
            ]
          },
          "metadata": {},
          "execution_count": 21
        }
      ]
    },
    {
      "cell_type": "code",
      "source": [
        "v * lamb"
      ],
      "metadata": {
        "colab": {
          "base_uri": "https://localhost:8080/"
        },
        "id": "pWXos60WlMIl",
        "outputId": "7ab52c72-12fe-45e2-f49a-75457b0b89fd"
      },
      "execution_count": null,
      "outputs": [
        {
          "output_type": "execute_result",
          "data": {
            "text/plain": [
              "array([1.18031462, 0.70000958])"
            ]
          },
          "metadata": {},
          "execution_count": 22
        }
      ]
    },
    {
      "cell_type": "markdown",
      "source": [
        "Vamos realizar um plot para visualizar a transformação do $Eigenvector$ atravez da aplicação de sua matriz:"
      ],
      "metadata": {
        "id": "hIFUSBYoloAg"
      }
    },
    {
      "cell_type": "markdown",
      "source": [
        "Repare que a direção do vetor permanece a mesma, porém, com valor escalar diferente."
      ],
      "metadata": {
        "id": "xrVVIqKsmXbX"
      }
    },
    {
      "cell_type": "code",
      "source": [
        "plot_vectors([Av, v], ['blue', 'lightblue'])\n",
        "plt.xlim(-1, 2)\n",
        "_ = plt.ylim(-1, 2)"
      ],
      "metadata": {
        "colab": {
          "base_uri": "https://localhost:8080/",
          "height": 435
        },
        "id": "PoLiP1k8lWPE",
        "outputId": "5584f1e4-fb74-4862-d371-0f83f32fcdd0"
      },
      "execution_count": null,
      "outputs": [
        {
          "output_type": "display_data",
          "data": {
            "text/plain": [
              "<Figure size 640x480 with 1 Axes>"
            ],
            "image/png": "[encoded data removed]"
          },
          "metadata": {}
        }
      ]
    },
    {
      "cell_type": "markdown",
      "source": [
        "Transformação do segundo vetor:"
      ],
      "metadata": {
        "id": "cxBWp4pPmtCq"
      }
    },
    {
      "cell_type": "code",
      "source": [
        "v2 = V[:,1]\n",
        "lamb2 = lambdas[1]"
      ],
      "metadata": {
        "id": "C1cWIXSWmvgl"
      },
      "execution_count": null,
      "outputs": []
    },
    {
      "cell_type": "code",
      "source": [
        "Av2 = np.dot(A, v2)\n",
        "Av2"
      ],
      "metadata": {
        "colab": {
          "base_uri": "https://localhost:8080/"
        },
        "id": "SrI9OWuKm-Og",
        "outputId": "f268aacb-2620-4668-f092-cc602c4eecc8"
      },
      "execution_count": null,
      "outputs": [
        {
          "output_type": "execute_result",
          "data": {
            "text/plain": [
              "array([ 3.34281692, -2.81822977])"
            ]
          },
          "metadata": {},
          "execution_count": 28
        }
      ]
    },
    {
      "cell_type": "code",
      "source": [
        "lamb2 * v2 # Provando a formula"
      ],
      "metadata": {
        "colab": {
          "base_uri": "https://localhost:8080/"
        },
        "id": "vYxYxMDnnGHI",
        "outputId": "470e21e1-8873-49d8-c885-38412b49f356"
      },
      "execution_count": null,
      "outputs": [
        {
          "output_type": "execute_result",
          "data": {
            "text/plain": [
              "array([ 3.34281692, -2.81822977])"
            ]
          },
          "metadata": {},
          "execution_count": 29
        }
      ]
    },
    {
      "cell_type": "code",
      "source": [
        "plot_vectors([Av2, v2], ['green', 'lightgreen'])\n",
        "plt.xlim(-1, 4)\n",
        "_ = plt.ylim(-3, 2)"
      ],
      "metadata": {
        "colab": {
          "base_uri": "https://localhost:8080/",
          "height": 435
        },
        "id": "9Z98bGinnMuo",
        "outputId": "2839f5e9-35a5-4635-cf81-f3728cee1fd7"
      },
      "execution_count": null,
      "outputs": [
        {
          "output_type": "display_data",
          "data": {
            "text/plain": [
              "<Figure size 640x480 with 1 Axes>"
            ],
            "image/png": "[encoded data removed]"
          },
          "metadata": {}
        }
      ]
    },
    {
      "cell_type": "code",
      "source": [
        "plot_vectors([Av2, v2, Av, v], ['green', 'lightgreen', 'blue', 'lightblue'])\n",
        "plt.xlim(-1, 4)\n",
        "_ = plt.ylim(-3, 2)"
      ],
      "metadata": {
        "colab": {
          "base_uri": "https://localhost:8080/",
          "height": 435
        },
        "id": "vFqlO9P1nnzT",
        "outputId": "134da683-0e34-45f7-c689-5dab85ba6f5f"
      },
      "execution_count": null,
      "outputs": [
        {
          "output_type": "display_data",
          "data": {
            "text/plain": [
              "<Figure size 640x480 with 1 Axes>"
            ],
            "image/png": "[encoded data removed]"
          },
          "metadata": {}
        }
      ]
    },
    {
      "cell_type": "markdown",
      "source": [
        "### Eigenvectors and Eigenvalues em mais de duas dimensões > 2D"
      ],
      "metadata": {
        "id": "SaW5jmW9okCE"
      }
    },
    {
      "cell_type": "code",
      "source": [
        "X = np.array([[25, 2, 9], [5, 26, -5], [3, 7, -1]])\n",
        "X"
      ],
      "metadata": {
        "colab": {
          "base_uri": "https://localhost:8080/"
        },
        "id": "O6Md_gtxI3JX",
        "outputId": "e48ad84b-0a67-48ac-868e-cab57ba6a1fc"
      },
      "execution_count": null,
      "outputs": [
        {
          "output_type": "execute_result",
          "data": {
            "text/plain": [
              "array([[25,  2,  9],\n",
              "       [ 5, 26, -5],\n",
              "       [ 3,  7, -1]])"
            ]
          },
          "metadata": {},
          "execution_count": 2
        }
      ]
    },
    {
      "cell_type": "code",
      "source": [
        "lambdas_x, V_x = np.linalg.eig(X)"
      ],
      "metadata": {
        "id": "N-MF_KKeJDLk"
      },
      "execution_count": null,
      "outputs": []
    },
    {
      "cell_type": "code",
      "source": [
        "V_x"
      ],
      "metadata": {
        "colab": {
          "base_uri": "https://localhost:8080/"
        },
        "id": "Kv7vJ37RJJ3V",
        "outputId": "5ae2efbe-1f27-4f85-aa40-e0cda3ffa21b"
      },
      "execution_count": null,
      "outputs": [
        {
          "output_type": "execute_result",
          "data": {
            "text/plain": [
              "array([[-0.71175736, -0.6501921 , -0.34220476],\n",
              "       [-0.66652125,  0.74464056,  0.23789717],\n",
              "       [-0.22170001,  0.15086635,  0.90901091]])"
            ]
          },
          "metadata": {},
          "execution_count": 5
        }
      ]
    },
    {
      "cell_type": "code",
      "source": [
        "lambdas_x"
      ],
      "metadata": {
        "colab": {
          "base_uri": "https://localhost:8080/"
        },
        "id": "Wn7IIKNCJN8i",
        "outputId": "6a1db308-eee9-40b8-85b2-e6db369c3c27"
      },
      "execution_count": null,
      "outputs": [
        {
          "output_type": "execute_result",
          "data": {
            "text/plain": [
              "array([29.67623202, 20.62117365, -0.29740567])"
            ]
          },
          "metadata": {},
          "execution_count": 6
        }
      ]
    },
    {
      "cell_type": "code",
      "source": [
        "lamb_x = lambdas_x[0]\n",
        "v_x = V_x[:,0]"
      ],
      "metadata": {
        "id": "RbfBRXJcJQF7"
      },
      "execution_count": null,
      "outputs": []
    },
    {
      "cell_type": "code",
      "source": [
        "np.dot(X, v_x)"
      ],
      "metadata": {
        "colab": {
          "base_uri": "https://localhost:8080/"
        },
        "id": "5PpoP9srJnU2",
        "outputId": "a0b4b5c4-ecfa-4744-c635-f330ed2a3c2f"
      },
      "execution_count": null,
      "outputs": [
        {
          "output_type": "execute_result",
          "data": {
            "text/plain": [
              "array([-21.12227645, -19.77983919,  -6.5792208 ])"
            ]
          },
          "metadata": {},
          "execution_count": 10
        }
      ]
    },
    {
      "cell_type": "code",
      "source": [
        "lamb_x * v_x"
      ],
      "metadata": {
        "colab": {
          "base_uri": "https://localhost:8080/"
        },
        "id": "XVoB4BYkJvSe",
        "outputId": "a8a1beda-fa4e-4032-9e14-57f2b1f71185"
      },
      "execution_count": null,
      "outputs": [
        {
          "output_type": "execute_result",
          "data": {
            "text/plain": [
              "array([-21.12227645, -19.77983919,  -6.5792208 ])"
            ]
          },
          "metadata": {},
          "execution_count": 9
        }
      ]
    },
    {
      "cell_type": "markdown",
      "source": [
        "#3- Determinantes"
      ],
      "metadata": {
        "id": "uFdWtDNiJ92K"
      }
    },
    {
      "cell_type": "markdown",
      "source": [
        "\n",
        "*   De forma resumida, o determiante é o resumo do valor de uma matriz em um escalar, esse escalar é usado para determinar se uma matriz possui ou não uma inversa;\n",
        "\n",
        "*   Se, det[$X$] = 0 :\n",
        "  *   Matrix $X$ é singular, ou seja, suas colunas são linearmente dependentes;\n",
        "\n",
        "  *   Esta matriz não possui inversa;\n",
        "\n",
        "\n",
        "\n",
        "\n",
        "\n",
        "\n"
      ],
      "metadata": {
        "id": "uoTGbF7LMDqL"
      }
    },
    {
      "cell_type": "markdown",
      "source": [
        " ## Determinantes de Matrizes 2x2"
      ],
      "metadata": {
        "id": "W7AVTOieKPOj"
      }
    },
    {
      "cell_type": "code",
      "source": [
        "X = np.array([[4, 2], [-5, -3]])\n",
        "X"
      ],
      "metadata": {
        "colab": {
          "base_uri": "https://localhost:8080/"
        },
        "id": "2ij283WzJ9MA",
        "outputId": "ca7d66fd-ef86-4fbd-976d-36466b90fa94"
      },
      "execution_count": null,
      "outputs": [
        {
          "output_type": "execute_result",
          "data": {
            "text/plain": [
              "array([[ 4,  2],\n",
              "       [-5, -3]])"
            ]
          },
          "metadata": {},
          "execution_count": 11
        }
      ]
    },
    {
      "cell_type": "code",
      "source": [
        "np.linalg.det(X)"
      ],
      "metadata": {
        "colab": {
          "base_uri": "https://localhost:8080/"
        },
        "id": "CGQsCdvfN-RM",
        "outputId": "19fe8e49-629a-4335-ef16-efbcf1f5e5d7"
      },
      "execution_count": null,
      "outputs": [
        {
          "output_type": "execute_result",
          "data": {
            "text/plain": [
              "-2.0000000000000013"
            ]
          },
          "metadata": {},
          "execution_count": 12
        }
      ]
    },
    {
      "cell_type": "code",
      "source": [
        "# Exemplo de matriz singular\n",
        "N = np.array([[-4, 1], [-8, 2]])\n",
        "N"
      ],
      "metadata": {
        "colab": {
          "base_uri": "https://localhost:8080/"
        },
        "id": "27z6Hk4gODs_",
        "outputId": "bbf18482-e9e9-423c-ad9c-7007b789357e"
      },
      "execution_count": null,
      "outputs": [
        {
          "output_type": "execute_result",
          "data": {
            "text/plain": [
              "array([[-4,  1],\n",
              "       [-8,  2]])"
            ]
          },
          "metadata": {},
          "execution_count": 13
        }
      ]
    },
    {
      "cell_type": "code",
      "source": [
        "np.linalg.det(N)"
      ],
      "metadata": {
        "colab": {
          "base_uri": "https://localhost:8080/"
        },
        "id": "3GnaXu6FOJE5",
        "outputId": "19926c81-e51f-484f-a61a-4d0fad23aa80"
      },
      "execution_count": null,
      "outputs": [
        {
          "output_type": "execute_result",
          "data": {
            "text/plain": [
              "0.0"
            ]
          },
          "metadata": {},
          "execution_count": 14
        }
      ]
    },
    {
      "cell_type": "code",
      "source": [
        "# Retire o comentartio para observar o erro\n",
        "# N_inversa = np.linalg.inv(N)"
      ],
      "metadata": {
        "id": "sKMtQnM4OLBP"
      },
      "execution_count": null,
      "outputs": []
    },
    {
      "cell_type": "markdown",
      "source": [
        "## Determinantes & Eigenvalues"
      ],
      "metadata": {
        "id": "O4qSd0ZpUSVR"
      }
    },
    {
      "cell_type": "markdown",
      "source": [
        "det[$X$] é o mesmo que o produto dos escalares( $Eigenvalues$ ) de uma matriz."
      ],
      "metadata": {
        "id": "j1Bh3HVOU_Ak"
      }
    },
    {
      "cell_type": "code",
      "source": [
        "X = np.array([[1, 2, 4], [2, -1, 3], [0, 5, 1]])\n",
        "X"
      ],
      "metadata": {
        "colab": {
          "base_uri": "https://localhost:8080/"
        },
        "id": "6ZFH1vKHVnvZ",
        "outputId": "67ccc603-29b5-4d9c-e59a-50b42919e08c"
      },
      "execution_count": null,
      "outputs": [
        {
          "output_type": "execute_result",
          "data": {
            "text/plain": [
              "array([[ 1,  2,  4],\n",
              "       [ 2, -1,  3],\n",
              "       [ 0,  5,  1]])"
            ]
          },
          "metadata": {},
          "execution_count": 17
        }
      ]
    },
    {
      "cell_type": "code",
      "source": [
        "np.linalg.det(X) #Valor do determinante"
      ],
      "metadata": {
        "colab": {
          "base_uri": "https://localhost:8080/"
        },
        "id": "rOtqRxvnVrjM",
        "outputId": "17f373eb-9875-4b20-a3e9-2471693834ca"
      },
      "execution_count": null,
      "outputs": [
        {
          "output_type": "execute_result",
          "data": {
            "text/plain": [
              "19.999999999999996"
            ]
          },
          "metadata": {},
          "execution_count": 18
        }
      ]
    },
    {
      "cell_type": "code",
      "source": [
        "lambdas, v = np.linalg.eig(X)"
      ],
      "metadata": {
        "id": "Oa9095hLVu9I"
      },
      "execution_count": null,
      "outputs": []
    },
    {
      "cell_type": "code",
      "source": [
        "np.product(lambdas) #Produto dos escalares"
      ],
      "metadata": {
        "colab": {
          "base_uri": "https://localhost:8080/"
        },
        "id": "rNSNYXeCV5ad",
        "outputId": "ba795b73-1d26-42dc-a9cb-b1797a4b9505"
      },
      "execution_count": null,
      "outputs": [
        {
          "output_type": "execute_result",
          "data": {
            "text/plain": [
              "19.99999999999999"
            ]
          },
          "metadata": {},
          "execution_count": 20
        }
      ]
    },
    {
      "cell_type": "markdown",
      "source": [
        "###**Valor Absoluto**\n",
        "\n",
        "O valor absoluto de uma matriz é o seu módulo, ou distância em relação a amtriz identidade, |$X$|.\n",
        "\n",
        "--Este valor é sempre positivo e é usado para determinar a distância em relação a matriz identidade\n",
        "\n",
        "--Em outros casos, pode sinalizar o aumento do volume de uma matriz quando aplicada a outra, |det[$X$]|\n"
      ],
      "metadata": {
        "id": "Vufn03-BaneS"
      }
    },
    {
      "cell_type": "code",
      "source": [
        "np.abs(X) # Matriz representando a distancia em relação a matriz identidade"
      ],
      "metadata": {
        "colab": {
          "base_uri": "https://localhost:8080/"
        },
        "id": "sB99Vm3vcThj",
        "outputId": "237e7eba-5381-4660-baaf-103802eec65d"
      },
      "execution_count": null,
      "outputs": [
        {
          "output_type": "execute_result",
          "data": {
            "text/plain": [
              "array([[1, 2, 4],\n",
              "       [2, 1, 3],\n",
              "       [0, 5, 1]])"
            ]
          },
          "metadata": {},
          "execution_count": 22
        }
      ]
    },
    {
      "cell_type": "code",
      "source": [
        "np.abs(np.linalg.det(X)) # Valor de aumento do volume caso aplicada a outra matriz"
      ],
      "metadata": {
        "colab": {
          "base_uri": "https://localhost:8080/"
        },
        "id": "9H_2OG0Gcdag",
        "outputId": "eac8befc-69fb-4ae5-bfdf-da61e60f87cb"
      },
      "execution_count": null,
      "outputs": [
        {
          "output_type": "execute_result",
          "data": {
            "text/plain": [
              "19.999999999999996"
            ]
          },
          "metadata": {},
          "execution_count": 23
        }
      ]
    },
    {
      "cell_type": "markdown",
      "source": [
        "\n",
        "\n",
        "---\n",
        "\n",
        "\n",
        "\n",
        "---\n",
        "\n"
      ],
      "metadata": {
        "id": "CDN4HymRctkt"
      }
    },
    {
      "cell_type": "code",
      "source": [
        "# Função para transformar matriz em um vetor\n",
        "# A função recebe como parametros a matrix e a coluna a ser transformada em vetor\n",
        "def vectorfy(matriz, coluna):\n",
        "  return np.array(matriz[:, coluna]).reshape(-1)"
      ],
      "metadata": {
        "id": "508cAY5PWEDv"
      },
      "execution_count": null,
      "outputs": []
    },
    {
      "cell_type": "markdown",
      "source": [
        "\n",
        "\n",
        "---\n",
        "\n",
        "\n",
        "\n",
        "---\n",
        "\n"
      ],
      "metadata": {
        "id": "IAKKD8SYcv6c"
      }
    },
    {
      "cell_type": "markdown",
      "source": [
        "##Visualizações"
      ],
      "metadata": {
        "id": "jDVUu128icVq"
      }
    },
    {
      "cell_type": "markdown",
      "source": [
        "Agora vou realizar alguns plots para visualização dos conceitos explicados anteriormente:"
      ],
      "metadata": {
        "id": "YovYnwq9ifLG"
      }
    },
    {
      "cell_type": "code",
      "source": [
        "#Exemplo de matriz singular\n",
        "N"
      ],
      "metadata": {
        "colab": {
          "base_uri": "https://localhost:8080/"
        },
        "id": "iA7tPXDmimQS",
        "outputId": "a05d82ea-5ed6-460e-9e4b-5c6701a52216"
      },
      "execution_count": null,
      "outputs": [
        {
          "output_type": "execute_result",
          "data": {
            "text/plain": [
              "array([[-4,  1],\n",
              "       [-8,  2]])"
            ]
          },
          "metadata": {},
          "execution_count": 24
        }
      ]
    },
    {
      "cell_type": "code",
      "source": [
        "np.linalg.det(N) #Determinante igual a 0, não tem inversa ou seja, é uma matriz singular"
      ],
      "metadata": {
        "colab": {
          "base_uri": "https://localhost:8080/"
        },
        "id": "EHkxD-qgW0m3",
        "outputId": "35380708-c3df-427d-d785-401789cec119"
      },
      "execution_count": null,
      "outputs": [
        {
          "output_type": "execute_result",
          "data": {
            "text/plain": [
              "0.0"
            ]
          },
          "metadata": {},
          "execution_count": 25
        }
      ]
    },
    {
      "cell_type": "code",
      "source": [
        "#Provando que eles são impossíveis atravez de seus vetores especiais\n",
        "lambdas, V = np.linalg.eig(N)\n",
        "v = vectorfy(V, 0)\n",
        "Nv = np.dot(N, v)"
      ],
      "metadata": {
        "id": "sENro081i48L"
      },
      "execution_count": null,
      "outputs": []
    },
    {
      "cell_type": "code",
      "source": [
        "plot_vectors([vectorfy(V, 0), vectorfy(V, 1), vectorfy(N, 0), vectorfy(N, 1)],\n",
        "            ['blue', 'green', 'lightblue', 'lightgreen'])\n",
        "plt.xlim(-6, 6)\n",
        "_ = plt.ylim(-9, 3)"
      ],
      "metadata": {
        "colab": {
          "base_uri": "https://localhost:8080/",
          "height": 430
        },
        "id": "tGW9CP9Ak2le",
        "outputId": "287019c6-0735-4f1f-f244-7b86d1a299a2"
      },
      "execution_count": null,
      "outputs": [
        {
          "output_type": "display_data",
          "data": {
            "text/plain": [
              "<Figure size 640x480 with 1 Axes>"
            ],
            "image/png": "[encoded data removed]"
          },
          "metadata": {}
        }
      ]
    },
    {
      "cell_type": "code",
      "source": [
        "plot_vectors([v, Nv],\n",
        "            ['lightblue', 'blue'])\n",
        "plt.xlim(-1, 2)\n",
        "_ = plt.ylim(-2, 3)"
      ],
      "metadata": {
        "colab": {
          "base_uri": "https://localhost:8080/",
          "height": 435
        },
        "id": "qdWQ1kr3oTkS",
        "outputId": "034396e5-ff67-46f1-b780-339d83001cde"
      },
      "execution_count": null,
      "outputs": [
        {
          "output_type": "display_data",
          "data": {
            "text/plain": [
              "<Figure size 640x480 with 1 Axes>"
            ],
            "image/png": "[encoded data removed]"
          },
          "metadata": {}
        }
      ]
    },
    {
      "cell_type": "code",
      "source": [
        "plot_vectors([N[:, 0], Nv],\n",
        "            ['lightblue', 'blue'])\n",
        "plt.xlim(-5, 2)\n",
        "_ = plt.ylim(-9, 3)\n",
        "\n",
        "# Perceba que em todos os casos os Eigenvectors da matriz N permanecem na mesma direção\n",
        "# porém, com valores esclares diferentes"
      ],
      "metadata": {
        "colab": {
          "base_uri": "https://localhost:8080/",
          "height": 430
        },
        "id": "yxtYU5MMovh-",
        "outputId": "24c3a42a-6274-4bd9-c073-eba51502b4d8"
      },
      "execution_count": null,
      "outputs": [
        {
          "output_type": "display_data",
          "data": {
            "text/plain": [
              "<Figure size 640x480 with 1 Axes>"
            ],
            "image/png": "[encoded data removed]"
          },
          "metadata": {}
        }
      ]
    },
    {
      "cell_type": "markdown",
      "source": [
        "Agora vamos visualizar um exemplo não singular:"
      ],
      "metadata": {
        "id": "J1sSBI3GpZyd"
      }
    },
    {
      "cell_type": "code",
      "source": [
        "D = np.array([[2, 0], [0, 2]])\n",
        "D"
      ],
      "metadata": {
        "id": "rUgpz88LpgGG",
        "colab": {
          "base_uri": "https://localhost:8080/"
        },
        "outputId": "9d7bd74a-14c4-4c1d-bec3-f7b23e5bae5c"
      },
      "execution_count": null,
      "outputs": [
        {
          "output_type": "execute_result",
          "data": {
            "text/plain": [
              "array([[2, 0],\n",
              "       [0, 2]])"
            ]
          },
          "metadata": {},
          "execution_count": 2
        }
      ]
    },
    {
      "cell_type": "code",
      "source": [
        "np.linalg.det(D) # Possui inversa, não é singular"
      ],
      "metadata": {
        "colab": {
          "base_uri": "https://localhost:8080/"
        },
        "id": "RJm7DhLxrM7V",
        "outputId": "99df98a9-d912-4eed-e00c-3b0894665308"
      },
      "execution_count": null,
      "outputs": [
        {
          "output_type": "execute_result",
          "data": {
            "text/plain": [
              "4.0"
            ]
          },
          "metadata": {},
          "execution_count": 5
        }
      ]
    },
    {
      "cell_type": "code",
      "source": [
        "I = np.array([[1, 0], [0,1]])"
      ],
      "metadata": {
        "id": "i3h5jw2Grty4"
      },
      "execution_count": null,
      "outputs": []
    },
    {
      "cell_type": "code",
      "source": [
        "DI = np.dot(D, I)\n",
        "DI"
      ],
      "metadata": {
        "colab": {
          "base_uri": "https://localhost:8080/"
        },
        "id": "jHENDh7_sF-H",
        "outputId": "6c2b2017-b2a8-4a96-9add-3f44c84a5820"
      },
      "execution_count": null,
      "outputs": [
        {
          "output_type": "execute_result",
          "data": {
            "text/plain": [
              "array([[2, 0],\n",
              "       [0, 2]])"
            ]
          },
          "metadata": {},
          "execution_count": 8
        }
      ]
    },
    {
      "cell_type": "code",
      "source": [
        "plot_vectors([vectorfy(I, 0), vectorfy(I, 1), vectorfy(DI, 0), vectorfy(DI, 1)],\n",
        "            ['lightblue', 'lightgreen', 'blue', 'green'])\n",
        "plt.xlim(-1, 3)\n",
        "_ = plt.ylim(-1, 3)"
      ],
      "metadata": {
        "colab": {
          "base_uri": "https://localhost:8080/",
          "height": 435
        },
        "id": "KjhiqkuDsPgP",
        "outputId": "6ca6ed87-9c73-45a7-bd83-70fe56c0c19e"
      },
      "execution_count": null,
      "outputs": [
        {
          "output_type": "display_data",
          "data": {
            "text/plain": [
              "<Figure size 640x480 with 1 Axes>"
            ],
            "image/png": "[encoded data removed]"
          },
          "metadata": {}
        }
      ]
    },
    {
      "cell_type": "code",
      "source": [
        "lambdas, V = np.linalg.eig(D)\n",
        "lambdas #Observe que os valores dos escalares geram o novo vetor"
      ],
      "metadata": {
        "id": "X1hjvx4QsvcV",
        "colab": {
          "base_uri": "https://localhost:8080/"
        },
        "outputId": "992e398a-93fd-4039-e6f5-83569bb82744"
      },
      "execution_count": null,
      "outputs": [
        {
          "output_type": "execute_result",
          "data": {
            "text/plain": [
              "array([2., 2.])"
            ]
          },
          "metadata": {},
          "execution_count": 4
        }
      ]
    },
    {
      "cell_type": "code",
      "source": [
        "V"
      ],
      "metadata": {
        "colab": {
          "base_uri": "https://localhost:8080/"
        },
        "id": "4UVglNud2QCc",
        "outputId": "1f92520d-5b42-4d46-a30f-e6eddcf83f80"
      },
      "execution_count": null,
      "outputs": [
        {
          "output_type": "execute_result",
          "data": {
            "text/plain": [
              "array([[1., 0.],\n",
              "       [0., 1.]])"
            ]
          },
          "metadata": {},
          "execution_count": 5
        }
      ]
    },
    {
      "cell_type": "code",
      "source": [
        "VD = np.dot(D, V) # Valor da matriz original\n",
        "VD"
      ],
      "metadata": {
        "colab": {
          "base_uri": "https://localhost:8080/"
        },
        "id": "XvCldbgI2RR6",
        "outputId": "cae87ebf-e567-4437-f60a-5a45b3f3f461"
      },
      "execution_count": null,
      "outputs": [
        {
          "output_type": "execute_result",
          "data": {
            "text/plain": [
              "array([[2., 0.],\n",
              "       [0., 2.]])"
            ]
          },
          "metadata": {},
          "execution_count": 10
        }
      ]
    },
    {
      "cell_type": "markdown",
      "source": [
        "Em síntese, percebe-se como os conceitos de Eigenvectors/Eigenvalues, multiplicação de matrizes e determinantes se compltam de forma em que podemos visualizar as tranformações de nossas matrizes."
      ],
      "metadata": {
        "id": "WHXdxL_M20aD"
      }
    },
    {
      "cell_type": "markdown",
      "source": [
        "# 4- Eigendecomposition\n",
        "\n",
        "- Consiste ná técninca de fatoração de uma matriz, onde seus componentes são representados pela junção dos Eigenvector como matriz e Eigenvalues em uma matriz diagonal.\n",
        "\n",
        "- Ela se dá pela seguinte fórmula:\n",
        "\n",
        "> $A = V \\Lambda V^{-1}$\n",
        "  *   $V$ corresponde a concatenação dos vetores especiais;\n",
        "  *   $\\Lambda$ corresponde a letra grega $λ$ maiúsculo, representando uma matriz diagonal com os Eigenvalues;\n",
        "\n"
      ],
      "metadata": {
        "id": "yApkBPe13HAd"
      }
    },
    {
      "cell_type": "code",
      "source": [
        "A = np.array([[4, 2], [-5, -3]])\n",
        "A"
      ],
      "metadata": {
        "id": "VSrUnieA3GQY",
        "colab": {
          "base_uri": "https://localhost:8080/"
        },
        "outputId": "47ba5183-c382-4c89-ca46-70fa0228de5c"
      },
      "execution_count": null,
      "outputs": [
        {
          "output_type": "execute_result",
          "data": {
            "text/plain": [
              "array([[ 4,  2],\n",
              "       [-5, -3]])"
            ]
          },
          "metadata": {},
          "execution_count": 8
        }
      ]
    },
    {
      "cell_type": "code",
      "source": [
        "lambdas, V = np.linalg.eig(A)\n",
        "V"
      ],
      "metadata": {
        "colab": {
          "base_uri": "https://localhost:8080/"
        },
        "id": "DUZlnR0qGhqK",
        "outputId": "58ac47d3-c650-4cae-d165-8b5ef23c56b7"
      },
      "execution_count": null,
      "outputs": [
        {
          "output_type": "execute_result",
          "data": {
            "text/plain": [
              "array([[ 0.70710678, -0.37139068],\n",
              "       [-0.70710678,  0.92847669]])"
            ]
          },
          "metadata": {},
          "execution_count": 13
        }
      ]
    },
    {
      "cell_type": "code",
      "source": [
        "Vinv = np.linalg.inv(V)\n",
        "Vinv"
      ],
      "metadata": {
        "colab": {
          "base_uri": "https://localhost:8080/"
        },
        "id": "xPiMTMe0GmiN",
        "outputId": "1382cd8b-f6b4-463f-bb88-644cff5b5238"
      },
      "execution_count": null,
      "outputs": [
        {
          "output_type": "execute_result",
          "data": {
            "text/plain": [
              "array([[2.3570226 , 0.94280904],\n",
              "       [1.79505494, 1.79505494]])"
            ]
          },
          "metadata": {},
          "execution_count": 14
        }
      ]
    },
    {
      "cell_type": "code",
      "source": [
        "Lambda = np.diag(lambdas)\n",
        "Lambda"
      ],
      "metadata": {
        "colab": {
          "base_uri": "https://localhost:8080/"
        },
        "id": "VugdKGQqGxCU",
        "outputId": "7d438334-ee58-4ef0-e92c-4d44c397a58c"
      },
      "execution_count": null,
      "outputs": [
        {
          "output_type": "execute_result",
          "data": {
            "text/plain": [
              "array([[ 2.,  0.],\n",
              "       [ 0., -1.]])"
            ]
          },
          "metadata": {},
          "execution_count": 16
        }
      ]
    },
    {
      "cell_type": "code",
      "source": [
        "np.dot(V, np.dot(Lambda, Vinv)) # Provando que a fatoração desta matriz é possível\n",
        "                                # atravéz da formula"
      ],
      "metadata": {
        "colab": {
          "base_uri": "https://localhost:8080/"
        },
        "id": "sfrFmCM0G9Xz",
        "outputId": "c327cd02-874f-427d-fda0-311043e11fc0"
      },
      "execution_count": null,
      "outputs": [
        {
          "output_type": "execute_result",
          "data": {
            "text/plain": [
              "array([[ 4.,  2.],\n",
              "       [-5., -3.]])"
            ]
          },
          "metadata": {},
          "execution_count": 17
        }
      ]
    },
    {
      "cell_type": "markdown",
      "source": [
        "**OBS:** Esta fatoração só é possíveis em matrizes linearmente independentes, com produto escalar diferente de zero!\n",
        "Ela também não é possível em matrizes com números complexos."
      ],
      "metadata": {
        "id": "IGyaQHYdHXTW"
      }
    },
    {
      "cell_type": "markdown",
      "source": [
        "##Situação simétrica\n",
        "\n",
        "Em situações onde há matrizes simétricas, $A=A^T$, a fatoração é ainda mais simples e computacionalmente favoravel."
      ],
      "metadata": {
        "id": "QG7xhd6FId0b"
      }
    },
    {
      "cell_type": "markdown",
      "source": [
        "Ela atende a seguinte fórmula:\n",
        "> $A = Q \\Lambda Q^T$\n",
        "- $Q$ é equivalente a $V$,"
      ],
      "metadata": {
        "id": "8x95k01lJAEN"
      }
    },
    {
      "cell_type": "code",
      "source": [
        "A = np.array([[2, 1], [1, 2]])\n",
        "A"
      ],
      "metadata": {
        "colab": {
          "base_uri": "https://localhost:8080/"
        },
        "id": "Z7eR7N8_I_iA",
        "outputId": "71c69523-87f6-4fdf-e492-dd09974c2abe"
      },
      "execution_count": null,
      "outputs": [
        {
          "output_type": "execute_result",
          "data": {
            "text/plain": [
              "array([[2, 1],\n",
              "       [1, 2]])"
            ]
          },
          "metadata": {},
          "execution_count": 18
        }
      ]
    },
    {
      "cell_type": "code",
      "source": [
        "lambdas, Q = np.linalg.eig(A)\n",
        "Q"
      ],
      "metadata": {
        "colab": {
          "base_uri": "https://localhost:8080/"
        },
        "id": "bbShjFGaHWs2",
        "outputId": "fe1497f6-3d7e-4699-9340-a0e0ba649b76"
      },
      "execution_count": null,
      "outputs": [
        {
          "output_type": "execute_result",
          "data": {
            "text/plain": [
              "array([[ 0.70710678, -0.70710678],\n",
              "       [ 0.70710678,  0.70710678]])"
            ]
          },
          "metadata": {},
          "execution_count": 19
        }
      ]
    },
    {
      "cell_type": "code",
      "source": [
        "Lambda = np.diag(lambdas)\n",
        "Lambda"
      ],
      "metadata": {
        "colab": {
          "base_uri": "https://localhost:8080/"
        },
        "id": "CG5XqyshMtrI",
        "outputId": "5b081576-b9a4-4f42-93b2-c7979030abbc"
      },
      "execution_count": null,
      "outputs": [
        {
          "output_type": "execute_result",
          "data": {
            "text/plain": [
              "array([[3., 0.],\n",
              "       [0., 1.]])"
            ]
          },
          "metadata": {},
          "execution_count": 20
        }
      ]
    },
    {
      "cell_type": "code",
      "source": [
        "np.dot(Q, np.dot(Lambda, Q.T)) #Provano a fatoração"
      ],
      "metadata": {
        "colab": {
          "base_uri": "https://localhost:8080/"
        },
        "id": "aAuYVS5IM3Kc",
        "outputId": "4e5a7d01-aae9-4ba5-9d16-b636e6581892"
      },
      "execution_count": null,
      "outputs": [
        {
          "output_type": "execute_result",
          "data": {
            "text/plain": [
              "array([[2., 1.],\n",
              "       [1., 2.]])"
            ]
          },
          "metadata": {},
          "execution_count": 21
        }
      ]
    },
    {
      "cell_type": "markdown",
      "source": [
        "#5- Exemplos Reais"
      ],
      "metadata": {
        "id": "1rqeOuVFNFgH"
      }
    },
    {
      "cell_type": "markdown",
      "source": [
        "##Singular Value Decomposition (SVD)\n",
        "\n",
        ">$A=UDV^T$\n",
        "\n",
        "Onde:\n",
        "\n",
        "* $U$ é uma matriz ortogonal $i \\times i$; suas colunas são **vetrores sigulares da esquerda** de $A$.\n",
        "* $V$ é uma matriz ortogonal $j \\times j$; suas colunas são os **valores singulares da direita** de $A$.\n",
        "* $D$ é uma matriz diagonal $i \\times j$; os elementos da diagonal principal são **valores singulares** de $A$.\n",
        "\n",
        "\n"
      ],
      "metadata": {
        "id": "blyqZGGMGjWf"
      }
    },
    {
      "cell_type": "code",
      "source": [
        "A = np.array([[-1, 2], [3, -2], [5, 7]])\n",
        "A"
      ],
      "metadata": {
        "id": "IgA3wrZONFAs",
        "colab": {
          "base_uri": "https://localhost:8080/"
        },
        "outputId": "412a8502-6953-4ca0-92fa-24bb32a7b647"
      },
      "execution_count": null,
      "outputs": [
        {
          "output_type": "execute_result",
          "data": {
            "text/plain": [
              "array([[-1,  2],\n",
              "       [ 3, -2],\n",
              "       [ 5,  7]])"
            ]
          },
          "metadata": {},
          "execution_count": 2
        }
      ]
    },
    {
      "cell_type": "code",
      "source": [
        "U, d, VT = np.linalg.svd(A)"
      ],
      "metadata": {
        "id": "xnHnQEMuJwrV"
      },
      "execution_count": null,
      "outputs": []
    },
    {
      "cell_type": "code",
      "source": [
        "U"
      ],
      "metadata": {
        "colab": {
          "base_uri": "https://localhost:8080/"
        },
        "id": "xb_UqRz7J3zi",
        "outputId": "0049d605-fa2d-4888-99a1-ef4c111ed620"
      },
      "execution_count": null,
      "outputs": [
        {
          "output_type": "execute_result",
          "data": {
            "text/plain": [
              "array([[ 0.12708324,  0.47409506,  0.87125411],\n",
              "       [ 0.00164602, -0.87847553,  0.47778451],\n",
              "       [ 0.99189069, -0.0592843 , -0.11241989]])"
            ]
          },
          "metadata": {},
          "execution_count": 8
        }
      ]
    },
    {
      "cell_type": "code",
      "source": [
        "VT"
      ],
      "metadata": {
        "colab": {
          "base_uri": "https://localhost:8080/"
        },
        "id": "nmeeF7AQJ464",
        "outputId": "9c39cf2b-01b1-4863-b5ef-fca68cc5652f"
      },
      "execution_count": null,
      "outputs": [
        {
          "output_type": "execute_result",
          "data": {
            "text/plain": [
              "array([[ 0.55798885,  0.82984845],\n",
              "       [-0.82984845,  0.55798885]])"
            ]
          },
          "metadata": {},
          "execution_count": 9
        }
      ]
    },
    {
      "cell_type": "code",
      "source": [
        "d"
      ],
      "metadata": {
        "colab": {
          "base_uri": "https://localhost:8080/"
        },
        "id": "JoserTd7J5eA",
        "outputId": "925216e2-4f8a-4a54-ce2b-e3cd35f13958"
      },
      "execution_count": null,
      "outputs": [
        {
          "output_type": "execute_result",
          "data": {
            "text/plain": [
              "array([8.66918448, 4.10429538])"
            ]
          },
          "metadata": {},
          "execution_count": 11
        }
      ]
    },
    {
      "cell_type": "code",
      "source": [
        "np.diag(d)"
      ],
      "metadata": {
        "colab": {
          "base_uri": "https://localhost:8080/"
        },
        "id": "zpwDkHPMKDVP",
        "outputId": "f7b25073-cb37-4183-d781-9e2a48fd63dd"
      },
      "execution_count": null,
      "outputs": [
        {
          "output_type": "execute_result",
          "data": {
            "text/plain": [
              "array([[8.66918448, 0.        ],\n",
              "       [0.        , 4.10429538]])"
            ]
          },
          "metadata": {},
          "execution_count": 12
        }
      ]
    },
    {
      "cell_type": "markdown",
      "source": [
        "Para realizar a multiplicação entre $D$ e $V^T$ as matrizes precisam seguir a lei de multiplicação de matrizes."
      ],
      "metadata": {
        "id": "8lGQcEopKY7o"
      }
    },
    {
      "cell_type": "code",
      "source": [
        "D = np.concatenate((np.diag(d), [[0, 0]]), axis=0)\n",
        "D"
      ],
      "metadata": {
        "colab": {
          "base_uri": "https://localhost:8080/"
        },
        "id": "mRom72bLKt7t",
        "outputId": "5c4b2d56-44a2-493e-c95e-bc20a073dcfd"
      },
      "execution_count": null,
      "outputs": [
        {
          "output_type": "execute_result",
          "data": {
            "text/plain": [
              "array([[8.66918448, 0.        ],\n",
              "       [0.        , 4.10429538],\n",
              "       [0.        , 0.        ]])"
            ]
          },
          "metadata": {},
          "execution_count": 16
        }
      ]
    },
    {
      "cell_type": "code",
      "source": [
        "np.dot(U, np.dot(D, VT))"
      ],
      "metadata": {
        "colab": {
          "base_uri": "https://localhost:8080/"
        },
        "id": "vpdpRZ5JLQgH",
        "outputId": "14bf8f31-da86-4c0d-a533-bd5d5e0bfb26"
      },
      "execution_count": null,
      "outputs": [
        {
          "output_type": "execute_result",
          "data": {
            "text/plain": [
              "array([[-1.,  2.],\n",
              "       [ 3., -2.],\n",
              "       [ 5.,  7.]])"
            ]
          },
          "metadata": {},
          "execution_count": 17
        }
      ]
    },
    {
      "cell_type": "markdown",
      "source": [
        "Como provar os valores singulares:\n",
        "\n",
        "*  $U$: Valores singulares da esquerda = Eigenvectors de $AA^T$\n",
        "*  $V$: Valores singulares da direita = Eigenvectors de $A^TA$\n",
        "*  $d$: Valores singulares diferentes de zero = raiz quadrada dos eigenvalues de $AA^T$ ou $A^TA$\n",
        "\n",
        "\n",
        "\n",
        "\n"
      ],
      "metadata": {
        "id": "G1wkvD6tICw_"
      }
    },
    {
      "cell_type": "code",
      "source": [
        "lambdas, V = np.linalg.eig(np.dot(A, A.T))"
      ],
      "metadata": {
        "id": "MV_ERU18LZUa"
      },
      "execution_count": null,
      "outputs": []
    },
    {
      "cell_type": "code",
      "source": [
        "V"
      ],
      "metadata": {
        "colab": {
          "base_uri": "https://localhost:8080/"
        },
        "id": "QWR68o9OFEb_",
        "outputId": "f3c8f9d5-4057-4e54-a00b-af34b3ca8817"
      },
      "execution_count": null,
      "outputs": [
        {
          "output_type": "execute_result",
          "data": {
            "text/plain": [
              "array([[-0.12708324,  0.87125411, -0.47409506],\n",
              "       [-0.00164602,  0.47778451,  0.87847553],\n",
              "       [-0.99189069, -0.11241989,  0.0592843 ]])"
            ]
          },
          "metadata": {},
          "execution_count": 4
        }
      ]
    },
    {
      "cell_type": "code",
      "source": [
        "lambdas2, V2 = np.linalg.eig(np.dot(A.T, A))"
      ],
      "metadata": {
        "id": "xaiS8i3LFT6b"
      },
      "execution_count": null,
      "outputs": []
    },
    {
      "cell_type": "code",
      "source": [
        "V2.T"
      ],
      "metadata": {
        "colab": {
          "base_uri": "https://localhost:8080/"
        },
        "id": "ukeg0bM0FYXW",
        "outputId": "d9dbea70-b39f-419b-88f8-270c6d045525"
      },
      "execution_count": null,
      "outputs": [
        {
          "output_type": "execute_result",
          "data": {
            "text/plain": [
              "array([[-0.82984845,  0.55798885],\n",
              "       [-0.55798885, -0.82984845]])"
            ]
          },
          "metadata": {},
          "execution_count": 9
        }
      ]
    },
    {
      "cell_type": "code",
      "source": [
        "np.sqrt(lambdas2)"
      ],
      "metadata": {
        "colab": {
          "base_uri": "https://localhost:8080/"
        },
        "id": "NPZYOEEdFx1T",
        "outputId": "0b1ce28b-becf-4090-d4ae-c4a3ac031051"
      },
      "execution_count": null,
      "outputs": [
        {
          "output_type": "execute_result",
          "data": {
            "text/plain": [
              "array([4.10429538, 8.66918448])"
            ]
          },
          "metadata": {},
          "execution_count": 11
        }
      ]
    },
    {
      "cell_type": "markdown",
      "source": [
        "## Moore-Penrose Pseudoinverse"
      ],
      "metadata": {
        "id": "nWh36PSOjbRK"
      }
    },
    {
      "cell_type": "markdown",
      "source": [
        "É uma generalização da matriz inversa para casos em que a matriz não é invertível\n",
        "\n",
        "Amplamente usada para resolver variaveis em matrizes não quadraticas( incapazes de ralizar inversa ).\n",
        "\n",
        ">$A^+ = VD^+U^T$\n",
        "\n",
        "Onde:\n",
        "\n",
        "*   $D^+ =$ É a inversa dos valores diferentes de zerto transpostos\n",
        "\n",
        "\n"
      ],
      "metadata": {
        "id": "mZSTCW5Vjih-"
      }
    },
    {
      "cell_type": "code",
      "source": [
        "A = np.array([[-1, 2], [3, -2],[5, 7]])\n",
        "A"
      ],
      "metadata": {
        "colab": {
          "base_uri": "https://localhost:8080/"
        },
        "id": "--xklER-o9KN",
        "outputId": "807322fc-20dc-467e-988d-947fd0b9fd89"
      },
      "execution_count": null,
      "outputs": [
        {
          "output_type": "execute_result",
          "data": {
            "text/plain": [
              "array([[-1,  2],\n",
              "       [ 3, -2],\n",
              "       [ 5,  7]])"
            ]
          },
          "metadata": {},
          "execution_count": 3
        }
      ]
    },
    {
      "cell_type": "code",
      "source": [
        "U, d, VT = np.linalg.svd(A)"
      ],
      "metadata": {
        "id": "f5moh7wrpM_z"
      },
      "execution_count": null,
      "outputs": []
    },
    {
      "cell_type": "code",
      "source": [
        "U"
      ],
      "metadata": {
        "colab": {
          "base_uri": "https://localhost:8080/"
        },
        "id": "YEKenKWOpajB",
        "outputId": "ad55a88e-abd8-4878-afe8-7c114f874657"
      },
      "execution_count": null,
      "outputs": [
        {
          "output_type": "execute_result",
          "data": {
            "text/plain": [
              "array([[ 0.12708324,  0.47409506,  0.87125411],\n",
              "       [ 0.00164602, -0.87847553,  0.47778451],\n",
              "       [ 0.99189069, -0.0592843 , -0.11241989]])"
            ]
          },
          "metadata": {},
          "execution_count": 6
        }
      ]
    },
    {
      "cell_type": "code",
      "source": [
        "d"
      ],
      "metadata": {
        "colab": {
          "base_uri": "https://localhost:8080/"
        },
        "id": "iDhhjzKkpaZo",
        "outputId": "7bba6d96-cd6d-4a9f-f80f-e8c45236517b"
      },
      "execution_count": null,
      "outputs": [
        {
          "output_type": "execute_result",
          "data": {
            "text/plain": [
              "array([8.66918448, 4.10429538])"
            ]
          },
          "metadata": {},
          "execution_count": 7
        }
      ]
    },
    {
      "cell_type": "code",
      "source": [
        "VT"
      ],
      "metadata": {
        "colab": {
          "base_uri": "https://localhost:8080/"
        },
        "id": "0DbJhCWwpaRL",
        "outputId": "094c6d76-2a78-450e-a930-0d6f2a635035"
      },
      "execution_count": null,
      "outputs": [
        {
          "output_type": "execute_result",
          "data": {
            "text/plain": [
              "array([[ 0.55798885,  0.82984845],\n",
              "       [-0.82984845,  0.55798885]])"
            ]
          },
          "metadata": {},
          "execution_count": 8
        }
      ]
    },
    {
      "cell_type": "markdown",
      "source": [
        "Transformando $d$ em $D^+$"
      ],
      "metadata": {
        "id": "y3KGpveOqA4e"
      }
    },
    {
      "cell_type": "code",
      "source": [
        "D = np.diag(d) #Primeiro, transformamos os valores singulares em uma matriz diagonal\n",
        "D"
      ],
      "metadata": {
        "colab": {
          "base_uri": "https://localhost:8080/"
        },
        "id": "Y9YUJfPgqIRa",
        "outputId": "e018dd41-1d44-49ca-8436-1a2e9e89a19e"
      },
      "execution_count": null,
      "outputs": [
        {
          "output_type": "execute_result",
          "data": {
            "text/plain": [
              "array([[8.66918448, 0.        ],\n",
              "       [0.        , 4.10429538]])"
            ]
          },
          "metadata": {},
          "execution_count": 9
        }
      ]
    },
    {
      "cell_type": "code",
      "source": [
        "Dinv = np.linalg.inv(D) #Em seguida realizamos sua inversa\n",
        "Dinv"
      ],
      "metadata": {
        "colab": {
          "base_uri": "https://localhost:8080/"
        },
        "id": "UYrfO0_nqM2f",
        "outputId": "15626db9-28e5-4105-871f-5ea18d7ed827"
      },
      "execution_count": null,
      "outputs": [
        {
          "output_type": "execute_result",
          "data": {
            "text/plain": [
              "array([[0.1153511 , 0.        ],\n",
              "       [0.        , 0.24364718]])"
            ]
          },
          "metadata": {},
          "execution_count": 10
        }
      ]
    },
    {
      "cell_type": "markdown",
      "source": [
        "Para realizar a formula, $D^+$ deve atendar a regra de multiplicação em relação a matriz $U^T$."
      ],
      "metadata": {
        "id": "8ztmateBrZCH"
      }
    },
    {
      "cell_type": "code",
      "source": [
        "Dplus = np.concatenate((Dinv, np.array([[0, 0]]).T), axis=1)\n",
        "Dplus"
      ],
      "metadata": {
        "colab": {
          "base_uri": "https://localhost:8080/"
        },
        "id": "fopAzQAbq2WH",
        "outputId": "4ca79bb0-7997-4454-a7d4-dfa6840a6811"
      },
      "execution_count": null,
      "outputs": [
        {
          "output_type": "execute_result",
          "data": {
            "text/plain": [
              "array([[0.1153511 , 0.        , 0.        ],\n",
              "       [0.        , 0.24364718, 0.        ]])"
            ]
          },
          "metadata": {},
          "execution_count": 13
        }
      ]
    },
    {
      "cell_type": "code",
      "source": [
        "np.dot(VT.T,np.dot(Dplus, U.T)) # Matriz pseudoinversa de A"
      ],
      "metadata": {
        "colab": {
          "base_uri": "https://localhost:8080/"
        },
        "id": "fn0qKD2vtHtc",
        "outputId": "1e37216f-e871-4c83-e757-5dbb5d5bfcbd"
      },
      "execution_count": null,
      "outputs": [
        {
          "output_type": "execute_result",
          "data": {
            "text/plain": [
              "array([[-0.08767773,  0.17772512,  0.07582938],\n",
              "       [ 0.07661927, -0.1192733 ,  0.08688784]])"
            ]
          },
          "metadata": {},
          "execution_count": 16
        }
      ]
    },
    {
      "cell_type": "markdown",
      "source": [
        "###Nota\n",
        ">Apesar disso tudo o numpy já contem uma função capaz de descobrir a pseudoinversa de uma matriz"
      ],
      "metadata": {
        "id": "yySxM6SztmsS"
      }
    },
    {
      "cell_type": "code",
      "source": [
        "np.linalg.pinv(A)"
      ],
      "metadata": {
        "colab": {
          "base_uri": "https://localhost:8080/"
        },
        "id": "J_IP81kwthk-",
        "outputId": "4db9b266-de42-438b-8b8f-e2a8f2e6ef7f"
      },
      "execution_count": null,
      "outputs": [
        {
          "output_type": "execute_result",
          "data": {
            "text/plain": [
              "array([[-0.08767773,  0.17772512,  0.07582938],\n",
              "       [ 0.07661927, -0.1192733 ,  0.08688784]])"
            ]
          },
          "metadata": {},
          "execution_count": 17
        }
      ]
    },
    {
      "cell_type": "markdown",
      "source": [
        "## Regressão com pseudoinversa"
      ],
      "metadata": {
        "id": "A-iNZjkRt4NN"
      }
    },
    {
      "cell_type": "markdown",
      "source": [
        "Aqui faremos a aplicação da pseudoinversa para resolver variaveis de uma matriz não quadratica, muitas linhas e poucas colunas.\n",
        "\n",
        ">Regressão procura realizar predições com base em dados, normalmente DataFrames, que são divididos em valores tematicos e uma coluna resultande destes valores."
      ],
      "metadata": {
        "id": "o9VqG-eDuDmU"
      }
    },
    {
      "cell_type": "markdown",
      "source": [
        "A regressão se da pela formula:\n",
        "\n",
        ">$y=Xw$\n",
        "\n",
        "*   y = Casos a serem previstos;\n",
        "*   X = Valores usados para realizar a predição;\n",
        "*   w = Vetor de pesos, variaveis, a serem aplicadas sobre a matriz $X$;\n",
        "\n",
        "**Exemplo:**  Prever valores de casas, neste caso $y$ será a previsão do valor, $X$ será uma matriz de valores como número de quartos, número de banheiros, tamanho da casa e etc, e $w$ será um vetor de pesos sob os valores de $X$.\n",
        "\n",
        "\n",
        "\n"
      ],
      "metadata": {
        "id": "_7WvUJmv-h0K"
      }
    },
    {
      "cell_type": "markdown",
      "source": [
        "Para descobrir o valor de $w$, podemos usar a seguinte afirmação:\n",
        "\n",
        "$Xw=y$ ---> $X^+Xw=X^+y$\n",
        "\n",
        "$$$$\n",
        "Ou seja\n",
        " $$$$\n",
        "\n",
        "$Iw=X^+y$\n",
        "\n",
        ">$w=X^+y$"
      ],
      "metadata": {
        "id": "PpPLR5spEU5C"
      }
    },
    {
      "cell_type": "code",
      "source": [
        "x1 = [0, 1, 2, 3, 4, 5, 6, 7.] # Dosagem de medicamento para tratamento de Alzheimer\n",
        "y = [1.86, 1.31, .62, .33, .09, -.67, -1.23, -1.37] # taxa de esquecimento em relação ao uso do medicamento"
      ],
      "metadata": {
        "id": "Vs5_KrOIDQOI"
      },
      "execution_count": 1,
      "outputs": []
    },
    {
      "cell_type": "code",
      "source": [
        "title = 'Tratamento'\n",
        "xlabel = 'Dose medicamento (mL)'\n",
        "ylabel = 'Taxa Esquecimento'"
      ],
      "metadata": {
        "id": "h_euGvKYKt6P"
      },
      "execution_count": 3,
      "outputs": []
    },
    {
      "cell_type": "code",
      "source": [
        "fig, ax = plt.subplots()\n",
        "plt.title(title)\n",
        "plt.xlabel(xlabel)\n",
        "plt.ylabel(ylabel)\n",
        "_ = ax.scatter(x1, y)"
      ],
      "metadata": {
        "colab": {
          "base_uri": "https://localhost:8080/",
          "height": 472
        },
        "id": "Ljud1F4pK-6w",
        "outputId": "947598c4-078c-4f4e-d883-722fd896cd81"
      },
      "execution_count": 4,
      "outputs": [
        {
          "output_type": "display_data",
          "data": {
            "text/plain": [
              "<Figure size 640x480 with 1 Axes>"
            ],
            "image/png": "[encoded data removed]"
          },
          "metadata": {}
        }
      ]
    },
    {
      "cell_type": "markdown",
      "source": [
        "Para realizarmos e regressão, precisamos de ter mais de uma coluna na matriz de predição. Como os valores da intersepção de $y$ são constantes(0, 1, 4, 10, ..., $n$), podemos adicionar uma coluna de números 1, assim, a inclinação da linha irá se manter."
      ],
      "metadata": {
        "id": "3gu90hR6LIwL"
      }
    },
    {
      "cell_type": "code",
      "source": [
        "x0 = np.ones(8) # 8 é o tamanho de variaveis do nosso esquema\n",
        "x0"
      ],
      "metadata": {
        "colab": {
          "base_uri": "https://localhost:8080/"
        },
        "id": "rup2CUwsLFfW",
        "outputId": "57c25faf-39e1-4e40-b3de-709c60e1f0dd"
      },
      "execution_count": 5,
      "outputs": [
        {
          "output_type": "execute_result",
          "data": {
            "text/plain": [
              "array([1., 1., 1., 1., 1., 1., 1., 1.])"
            ]
          },
          "metadata": {},
          "execution_count": 5
        }
      ]
    },
    {
      "cell_type": "code",
      "source": [
        "X = np.concatenate((np.matrix(x0).T, np.matrix(x1).T), axis=1) # Preparando a matriz de aprendizagem\n",
        "X"
      ],
      "metadata": {
        "colab": {
          "base_uri": "https://localhost:8080/"
        },
        "id": "SeFpzgwAMZMJ",
        "outputId": "411d5b51-cb59-4bb5-f79a-2812237d8581"
      },
      "execution_count": 7,
      "outputs": [
        {
          "output_type": "execute_result",
          "data": {
            "text/plain": [
              "matrix([[1., 0.],\n",
              "        [1., 1.],\n",
              "        [1., 2.],\n",
              "        [1., 3.],\n",
              "        [1., 4.],\n",
              "        [1., 5.],\n",
              "        [1., 6.],\n",
              "        [1., 7.]])"
            ]
          },
          "metadata": {},
          "execution_count": 7
        }
      ]
    },
    {
      "cell_type": "markdown",
      "source": [
        "Agora é possível aplicar a formula $w=X^+y$."
      ],
      "metadata": {
        "id": "amWYF_YzMjSf"
      }
    },
    {
      "cell_type": "code",
      "source": [
        "w = np.dot(np.linalg.pinv(X), y)\n",
        "w"
      ],
      "metadata": {
        "colab": {
          "base_uri": "https://localhost:8080/"
        },
        "id": "HPb0bU-9MfUP",
        "outputId": "ed304dc7-ceee-4a13-c0b4-c7176297309e"
      },
      "execution_count": 8,
      "outputs": [
        {
          "output_type": "execute_result",
          "data": {
            "text/plain": [
              "matrix([[ 1.76      , -0.46928571]])"
            ]
          },
          "metadata": {},
          "execution_count": 8
        }
      ]
    },
    {
      "cell_type": "markdown",
      "source": [
        "O vetor $w$, contém os pesos da nossa regreção denotados de:\n",
        "\n",
        "- $b$(Termo de Intercepção)\n",
        "- $m$(Coenficiene Angular)."
      ],
      "metadata": {
        "id": "oj9dQ14cOyzf"
      }
    },
    {
      "cell_type": "markdown",
      "source": [
        ">Termo de Intercepção: É o valor de y quando x é igual a zero, representa o ponto onde a linha de regressão cruza o eixo y. Ou seja, determina o começo da linha de regressão.\n",
        "\n",
        ">**Por exemplo:** Em um modelo de regressão linear para prever preços de casas, o termo de intercepção pode representar o preço base de uma casa (quando outras características são zero)."
      ],
      "metadata": {
        "id": "7CjH1w7lQNvY"
      }
    },
    {
      "cell_type": "code",
      "source": [
        "b = np.asarray(w).reshape(-1)[0]\n",
        "b"
      ],
      "metadata": {
        "colab": {
          "base_uri": "https://localhost:8080/"
        },
        "id": "VVBhnNmPQY7O",
        "outputId": "0decfe1f-1f3f-449e-ae6f-3661269697f1"
      },
      "execution_count": 10,
      "outputs": [
        {
          "output_type": "execute_result",
          "data": {
            "text/plain": [
              "1.7599999999999985"
            ]
          },
          "metadata": {},
          "execution_count": 10
        }
      ]
    },
    {
      "cell_type": "markdown",
      "source": [
        ">Coeficiente angular: Representa o quanto a variável $y$ muda quando a variável $x$ aumenta em uma unidade. Caso seja positivo, quando $x$ aumenta $y$ também aumenta, e caso negativo, quando $x$  o $y$ diminui."
      ],
      "metadata": {
        "id": "_AfGZleDPftr"
      }
    },
    {
      "cell_type": "code",
      "source": [
        "m = np.asarray(w).reshape(-1)[1]\n",
        "m"
      ],
      "metadata": {
        "colab": {
          "base_uri": "https://localhost:8080/"
        },
        "id": "d358A7IuOvg7",
        "outputId": "8494eaee-83f8-4e03-d95f-57d409b8b3bf"
      },
      "execution_count": 9,
      "outputs": [
        {
          "output_type": "execute_result",
          "data": {
            "text/plain": [
              "-0.4692857142857139"
            ]
          },
          "metadata": {},
          "execution_count": 9
        }
      ]
    },
    {
      "cell_type": "markdown",
      "source": [
        "Para realizarmos o plot dessa linha de regressão precisamos da seguinte formula:\n",
        "\n",
        ">$y = mx + b$\n",
        "\n",
        ">$y = -0.479x + 1.76$\n",
        "\n",
        "Com isso, podemos determinar os pontos de $y$ da linha de regressão a partir no menor e do maior valor de $x$.\n",
        "\n",
        "\n",
        "**OBS:** Usamos o menor e maior ponto de $x$ pois sabemos que o menor ponto de $x$ determina o começo da linha de regressão. O mesmo pensamento vale para o maior ponto."
      ],
      "metadata": {
        "id": "60coh-6TVsnO"
      }
    },
    {
      "cell_type": "code",
      "source": [
        "fig, ax = plt.subplots()\n",
        "\n",
        "plt.title(title)\n",
        "plt.xlabel(xlabel)\n",
        "plt.ylabel(ylabel)\n",
        "\n",
        "ax.scatter(x1, y)\n",
        "\n",
        "x_min, x_max = ax.get_xlim() # Menor e maior valor de x\n",
        "\n",
        "# Aplicando a formula para descobrir os pontos de y para o começo e fim da linha de regressão\n",
        "y_at_xmin = m*x_min + b\n",
        "y_at_xmax = m*x_max + b\n",
        "\n",
        "ax.set_xlim([x_min, x_max])\n",
        "_ = ax.plot([x_min, x_max], [y_at_xmin, y_at_xmax], c='C01')"
      ],
      "metadata": {
        "colab": {
          "base_uri": "https://localhost:8080/",
          "height": 472
        },
        "id": "OQ0Ij8-mW1zy",
        "outputId": "d8f8bb8c-b86b-49d7-96f9-181f61dbe370"
      },
      "execution_count": 11,
      "outputs": [
        {
          "output_type": "display_data",
          "data": {
            "text/plain": [
              "<Figure size 640x480 with 1 Axes>"
            ],
            "image/png": "[encoded data removed]"
          },
          "metadata": {}
        }
      ]
    },
    {
      "cell_type": "markdown",
      "source": [
        "A partir desta formula, sempre será possível determinar o a eficacia de uma dosagem do medicamento, pos a partir do valor da dose, $x$, é possível determinar $y$( $y=mx + b$ )."
      ],
      "metadata": {
        "id": "4QZev4pGYwHM"
      }
    }
  ]
}